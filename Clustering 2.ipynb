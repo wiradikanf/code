{
 "cells": [
  {
   "cell_type": "code",
   "execution_count": 2,
   "id": "d06703d7",
   "metadata": {},
   "outputs": [
    {
     "name": "stdout",
     "output_type": "stream",
     "text": [
      "No. of training examples: 847\n",
      "No. of testing examples: 212\n"
     ]
    }
   ],
   "source": [
    "from sklearn.neighbors import KNeighborsClassifier\n",
    "import pandas as pd\n",
    "import numpy as np\n",
    "\n",
    "dataset = pd.read_csv('C:/Users/ASUS/Downloads/milk.csv')\n",
    "from sklearn.model_selection import train_test_split\n",
    "\n",
    "training_data, testing_data = train_test_split(dataset, \n",
    "                                               test_size=0.2, \n",
    "                                               random_state=25)\n",
    "\n",
    "print(f\"No. of training examples: {training_data.shape[0]}\")\n",
    "print(f\"No. of testing examples: {testing_data.shape[0]}\")"
   ]
  },
  {
   "cell_type": "code",
   "execution_count": 3,
   "id": "de725ca7",
   "metadata": {},
   "outputs": [
    {
     "name": "stdout",
     "output_type": "stream",
     "text": [
      "train_data :  [[6.5 37 0 ... 0 0 255]\n",
      " [8.5 70 0 ... 0 0 246]\n",
      " [6.8 36 0 ... 1 0 253]\n",
      " ...\n",
      " [3.0 40 1 ... 0 0 255]\n",
      " [6.6 43 1 ... 1 1 250]\n",
      " [7.4 90 1 ... 1 1 255]]\n",
      "train_label :  ['medium' 'low' 'high' 'low' 'low' 'medium' 'low' 'medium' 'low' 'high'\n",
      " 'high' 'medium' 'medium' 'medium' 'low' 'medium' 'low' 'medium' 'medium'\n",
      " 'low' 'medium' 'medium' 'medium' 'low' 'low' 'low' 'low' 'low' 'high'\n",
      " 'high' 'medium' 'medium' 'medium' 'medium' 'medium' 'low' 'high' 'high'\n",
      " 'high' 'medium' 'medium' 'low' 'medium' 'low' 'low' 'low' 'low' 'low'\n",
      " 'high' 'high' 'low' 'medium' 'high' 'medium' 'low' 'low' 'medium'\n",
      " 'medium' 'low' 'high' 'high' 'medium' 'low' 'low' 'low' 'medium' 'high'\n",
      " 'low' 'medium' 'low' 'high' 'low' 'medium' 'high' 'low' 'high' 'high'\n",
      " 'low' 'high' 'high' 'low' 'low' 'medium' 'medium' 'low' 'medium' 'low'\n",
      " 'medium' 'medium' 'medium' 'low' 'medium' 'medium' 'high' 'low' 'low'\n",
      " 'medium' 'low' 'low' 'medium' 'medium' 'medium' 'medium' 'low' 'low'\n",
      " 'low' 'medium' 'high' 'low' 'medium' 'medium' 'medium' 'low' 'medium'\n",
      " 'low' 'low' 'low' 'medium' 'low' 'low' 'low' 'high' 'medium' 'low' 'high'\n",
      " 'low' 'low' 'medium' 'high' 'medium' 'high' 'high' 'low' 'medium' 'low'\n",
      " 'low' 'medium' 'high' 'low' 'low' 'high' 'medium' 'high' 'low' 'medium'\n",
      " 'low' 'low' 'low' 'low' 'medium' 'medium' 'medium' 'medium' 'low' 'high'\n",
      " 'low' 'medium' 'high' 'medium' 'medium' 'high' 'low' 'high' 'high' 'low'\n",
      " 'high' 'low' 'high' 'medium' 'low' 'medium' 'low' 'low' 'medium' 'medium'\n",
      " 'high' 'medium' 'high' 'low' 'low' 'medium' 'low' 'medium' 'high' 'low'\n",
      " 'medium' 'medium' 'low' 'medium' 'medium' 'high' 'medium' 'medium' 'low'\n",
      " 'low' 'low' 'low' 'low' 'low' 'low' 'low' 'medium' 'low' 'medium'\n",
      " 'medium' 'medium' 'high' 'high' 'low' 'high' 'low' 'low' 'low' 'medium'\n",
      " 'medium' 'medium' 'medium' 'medium' 'high' 'low' 'low' 'low' 'high'\n",
      " 'medium' 'medium' 'low' 'low' 'medium' 'high' 'medium' 'low' 'medium'\n",
      " 'low' 'medium' 'medium' 'low' 'medium' 'high' 'medium' 'low' 'medium'\n",
      " 'medium' 'high' 'low' 'low' 'medium' 'low' 'medium' 'medium' 'high' 'low'\n",
      " 'medium' 'medium' 'medium' 'low' 'low' 'medium' 'medium' 'low' 'medium'\n",
      " 'low' 'medium' 'low' 'medium' 'low' 'medium' 'medium' 'low' 'high' 'low'\n",
      " 'medium' 'low' 'low' 'medium' 'low' 'low' 'medium' 'low' 'low' 'medium'\n",
      " 'high' 'medium' 'medium' 'medium' 'low' 'medium' 'high' 'low' 'high'\n",
      " 'low' 'medium' 'low' 'high' 'low' 'low' 'high' 'medium' 'medium' 'medium'\n",
      " 'low' 'medium' 'high' 'low' 'medium' 'low' 'high' 'low' 'high' 'high'\n",
      " 'medium' 'low' 'medium' 'medium' 'low' 'low' 'medium' 'medium' 'low'\n",
      " 'medium' 'medium' 'low' 'low' 'high' 'low' 'medium' 'high' 'low' 'medium'\n",
      " 'medium' 'low' 'medium' 'low' 'low' 'low' 'low' 'high' 'high' 'low'\n",
      " 'high' 'low' 'low' 'high' 'medium' 'low' 'high' 'low' 'low' 'low' 'high'\n",
      " 'high' 'medium' 'low' 'low' 'medium' 'medium' 'medium' 'medium' 'high'\n",
      " 'medium' 'low' 'medium' 'low' 'low' 'medium' 'medium' 'high' 'medium'\n",
      " 'medium' 'medium' 'high' 'low' 'medium' 'low' 'medium' 'medium' 'low'\n",
      " 'high' 'high' 'medium' 'high' 'high' 'medium' 'medium' 'low' 'low' 'high'\n",
      " 'low' 'medium' 'medium' 'high' 'high' 'low' 'low' 'low' 'low' 'high'\n",
      " 'medium' 'medium' 'low' 'low' 'medium' 'low' 'high' 'medium' 'low' 'low'\n",
      " 'medium' 'medium' 'high' 'low' 'medium' 'low' 'high' 'medium' 'low' 'low'\n",
      " 'medium' 'medium' 'low' 'low' 'low' 'low' 'medium' 'medium' 'high' 'low'\n",
      " 'medium' 'medium' 'high' 'medium' 'medium' 'medium' 'low' 'medium' 'high'\n",
      " 'low' 'low' 'low' 'high' 'medium' 'medium' 'medium' 'medium' 'high' 'low'\n",
      " 'low' 'high' 'medium' 'low' 'low' 'high' 'high' 'low' 'medium' 'high'\n",
      " 'high' 'low' 'high' 'medium' 'medium' 'medium' 'low' 'high' 'high' 'low'\n",
      " 'low' 'high' 'low' 'low' 'low' 'low' 'low' 'low' 'low' 'medium' 'high'\n",
      " 'medium' 'low' 'medium' 'medium' 'medium' 'high' 'medium' 'medium'\n",
      " 'medium' 'high' 'medium' 'low' 'low' 'low' 'low' 'high' 'low' 'high'\n",
      " 'medium' 'medium' 'medium' 'high' 'low' 'high' 'medium' 'medium' 'high'\n",
      " 'medium' 'low' 'medium' 'low' 'low' 'low' 'medium' 'low' 'medium'\n",
      " 'medium' 'low' 'high' 'low' 'medium' 'high' 'medium' 'high' 'low'\n",
      " 'medium' 'low' 'high' 'medium' 'medium' 'low' 'medium' 'low' 'medium'\n",
      " 'low' 'medium' 'high' 'low' 'medium' 'low' 'medium' 'high' 'low' 'low'\n",
      " 'high' 'high' 'medium' 'high' 'high' 'medium' 'medium' 'medium' 'medium'\n",
      " 'medium' 'high' 'high' 'low' 'low' 'medium' 'high' 'low' 'high' 'low'\n",
      " 'low' 'medium' 'low' 'high' 'low' 'medium' 'high' 'low' 'medium' 'medium'\n",
      " 'low' 'high' 'low' 'low' 'low' 'medium' 'high' 'medium' 'low' 'medium'\n",
      " 'medium' 'medium' 'low' 'high' 'high' 'medium' 'high' 'low' 'medium'\n",
      " 'high' 'low' 'low' 'high' 'high' 'medium' 'low' 'low' 'high' 'high'\n",
      " 'medium' 'high' 'low' 'high' 'low' 'medium' 'high' 'low' 'medium'\n",
      " 'medium' 'high' 'medium' 'low' 'high' 'low' 'low' 'medium' 'low' 'low'\n",
      " 'high' 'low' 'high' 'high' 'low' 'low' 'low' 'high' 'medium' 'medium'\n",
      " 'low' 'high' 'low' 'low' 'high' 'high' 'low' 'high' 'medium' 'medium'\n",
      " 'medium' 'low' 'high' 'medium' 'low' 'low' 'high' 'medium' 'low' 'low'\n",
      " 'high' 'high' 'low' 'medium' 'high' 'medium' 'medium' 'medium' 'medium'\n",
      " 'medium' 'low' 'medium' 'high' 'high' 'high' 'low' 'low' 'high' 'medium'\n",
      " 'low' 'medium' 'medium' 'high' 'low' 'high' 'high' 'low' 'medium' 'high'\n",
      " 'high' 'high' 'high' 'low' 'high' 'low' 'medium' 'high' 'medium' 'medium'\n",
      " 'high' 'high' 'low' 'high' 'medium' 'high' 'high' 'high' 'medium'\n",
      " 'medium' 'low' 'high' 'low' 'high' 'high' 'medium' 'high' 'medium'\n",
      " 'medium' 'high' 'low' 'low' 'high' 'high' 'low' 'low' 'high' 'high'\n",
      " 'medium' 'medium' 'low' 'medium' 'medium' 'low' 'low' 'low' 'medium'\n",
      " 'medium' 'medium' 'low' 'medium' 'high' 'low' 'medium' 'medium' 'high'\n",
      " 'low' 'low' 'medium' 'high' 'medium' 'low' 'low' 'low' 'low' 'low' 'high'\n",
      " 'medium' 'low' 'medium' 'high' 'medium' 'low' 'low' 'medium' 'low'\n",
      " 'medium' 'low' 'high' 'low' 'medium' 'high' 'high' 'low' 'medium'\n",
      " 'medium' 'high' 'low' 'medium' 'low' 'high' 'medium' 'medium' 'medium'\n",
      " 'low' 'medium' 'low' 'low' 'medium' 'low' 'low' 'low' 'medium' 'high'\n",
      " 'low' 'medium' 'high' 'medium' 'low' 'low' 'high' 'high' 'medium' 'low'\n",
      " 'low' 'medium' 'low' 'low' 'medium' 'low' 'high' 'low' 'high' 'low' 'low'\n",
      " 'low' 'low' 'high' 'medium' 'high' 'low' 'low' 'low' 'low' 'high' 'low'\n",
      " 'medium' 'high' 'medium' 'medium' 'medium' 'low' 'low' 'low' 'high' 'low'\n",
      " 'high' 'low' 'high' 'medium' 'high' 'medium' 'low' 'medium' 'low' 'high'\n",
      " 'low' 'high' 'low' 'high' 'medium' 'high' 'high' 'high' 'low' 'low'\n",
      " 'medium' 'high' 'low' 'high' 'low']\n"
     ]
    }
   ],
   "source": [
    "df_training = np.array(training_data)[:,0:-1]\n",
    "print('train_data : ', df_training)\n",
    "training_label = np.array(training_data)[:,-1]\n",
    "print('train_label : ', training_label)"
   ]
  },
  {
   "cell_type": "code",
   "execution_count": 5,
   "id": "ae85b1f7",
   "metadata": {},
   "outputs": [
    {
     "name": "stdout",
     "output_type": "stream",
     "text": [
      "[[0.53846154 0.05357143 0.         ... 0.         0.         1.        ]\n",
      " [0.84615385 0.64285714 0.         ... 0.         0.         0.4       ]\n",
      " [0.58461538 0.03571429 0.         ... 1.         0.         0.86666667]\n",
      " ...\n",
      " [0.         0.10714286 1.         ... 0.         0.         1.        ]\n",
      " [0.55384615 0.16071429 1.         ... 1.         1.         0.66666667]\n",
      " [0.67692308 1.         1.         ... 1.         1.         1.        ]]\n"
     ]
    }
   ],
   "source": [
    "# 2. Normalisasi\n",
    "from sklearn.preprocessing import MinMaxScaler\n",
    "sc = MinMaxScaler(feature_range = (0,1))\n",
    "data2 = sc.fit_transform(df_training)\n",
    "print(data2)"
   ]
  },
  {
   "cell_type": "code",
   "execution_count": 6,
   "id": "76610f8b",
   "metadata": {},
   "outputs": [
    {
     "name": "stdout",
     "output_type": "stream",
     "text": [
      "test_data :  [[6.7 45 1 ... 0 0 247]\n",
      " [6.5 36 0 ... 1 0 255]\n",
      " [4.7 38 1 ... 1 0 255]\n",
      " ...\n",
      " [6.8 41 0 ... 1 0 255]\n",
      " [4.5 60 0 ... 1 1 250]\n",
      " [6.5 36 0 ... 1 0 255]]\n",
      "test_label :  ['medium' 'medium' 'low' 'medium' 'medium' 'low' 'low' 'low' 'low' 'low'\n",
      " 'medium' 'low' 'low' 'high' 'medium' 'low' 'low' 'low' 'medium' 'high'\n",
      " 'low' 'medium' 'low' 'high' 'low' 'low' 'low' 'low' 'low' 'low' 'medium'\n",
      " 'low' 'medium' 'high' 'low' 'low' 'medium' 'medium' 'high' 'low' 'medium'\n",
      " 'medium' 'low' 'low' 'medium' 'high' 'low' 'low' 'high' 'medium' 'high'\n",
      " 'low' 'high' 'high' 'high' 'low' 'medium' 'high' 'low' 'high' 'low'\n",
      " 'high' 'high' 'high' 'high' 'low' 'low' 'medium' 'high' 'low' 'low' 'low'\n",
      " 'medium' 'low' 'low' 'low' 'medium' 'medium' 'medium' 'high' 'high' 'low'\n",
      " 'low' 'medium' 'medium' 'medium' 'medium' 'high' 'medium' 'medium' 'low'\n",
      " 'medium' 'low' 'high' 'low' 'medium' 'low' 'medium' 'medium' 'high'\n",
      " 'high' 'high' 'low' 'medium' 'low' 'low' 'high' 'medium' 'high' 'medium'\n",
      " 'high' 'high' 'low' 'medium' 'medium' 'medium' 'medium' 'low' 'low'\n",
      " 'medium' 'low' 'high' 'low' 'low' 'low' 'low' 'low' 'medium' 'high' 'low'\n",
      " 'medium' 'low' 'low' 'low' 'low' 'medium' 'medium' 'high' 'medium' 'low'\n",
      " 'low' 'low' 'high' 'high' 'low' 'high' 'low' 'medium' 'high' 'medium'\n",
      " 'low' 'low' 'low' 'medium' 'low' 'medium' 'medium' 'low' 'low' 'low'\n",
      " 'medium' 'high' 'medium' 'medium' 'low' 'low' 'medium' 'low' 'medium'\n",
      " 'low' 'medium' 'medium' 'medium' 'low' 'medium' 'medium' 'medium' 'high'\n",
      " 'low' 'low' 'low' 'medium' 'medium' 'low' 'low' 'low' 'high' 'high' 'low'\n",
      " 'high' 'high' 'high' 'medium' 'medium' 'low' 'high' 'high' 'low' 'high'\n",
      " 'medium' 'low' 'medium' 'medium' 'low' 'low' 'low' 'low' 'medium' 'high'\n",
      " 'medium' 'low' 'medium']\n"
     ]
    }
   ],
   "source": [
    "df_testing = np.array(testing_data)[:,0:-1]\n",
    "print('test_data : ', df_testing)\n",
    "testing_label = np.array(testing_data)[:,-1]\n",
    "print('test_label : ', testing_label)"
   ]
  },
  {
   "cell_type": "code",
   "execution_count": 7,
   "id": "f70bfb57",
   "metadata": {},
   "outputs": [
    {
     "name": "stdout",
     "output_type": "stream",
     "text": [
      "[[0.56923077 0.19642857 1.         ... 0.         0.         0.46666667]\n",
      " [0.53846154 0.03571429 0.         ... 1.         0.         1.        ]\n",
      " [0.26153846 0.07142857 1.         ... 1.         0.         1.        ]\n",
      " ...\n",
      " [0.58461538 0.125      0.         ... 1.         0.         1.        ]\n",
      " [0.23076923 0.46428571 0.         ... 1.         1.         0.66666667]\n",
      " [0.53846154 0.03571429 0.         ... 1.         0.         1.        ]]\n"
     ]
    }
   ],
   "source": [
    "sc = MinMaxScaler(feature_range = (0,1))\n",
    "data3 = sc.fit_transform(df_testing)\n",
    "print(data3)"
   ]
  },
  {
   "cell_type": "code",
   "execution_count": 8,
   "id": "ffb3401d",
   "metadata": {},
   "outputs": [
    {
     "name": "stdout",
     "output_type": "stream",
     "text": [
      "Test Label :  ['medium' 'medium' 'low' 'medium' 'medium' 'low' 'low' 'low' 'low' 'low'\n",
      " 'medium' 'low' 'low' 'high' 'medium' 'low' 'low' 'low' 'medium' 'high'\n",
      " 'low' 'medium' 'low' 'high' 'low' 'low' 'low' 'low' 'low' 'low' 'medium'\n",
      " 'low' 'medium' 'high' 'low' 'low' 'medium' 'medium' 'high' 'low' 'medium'\n",
      " 'medium' 'low' 'low' 'medium' 'high' 'low' 'low' 'high' 'medium' 'high'\n",
      " 'low' 'high' 'high' 'high' 'low' 'medium' 'high' 'low' 'high' 'low'\n",
      " 'high' 'high' 'high' 'high' 'low' 'low' 'medium' 'high' 'low' 'low' 'low'\n",
      " 'medium' 'low' 'low' 'low' 'medium' 'medium' 'medium' 'high' 'high' 'low'\n",
      " 'low' 'medium' 'medium' 'medium' 'medium' 'high' 'medium' 'medium' 'low'\n",
      " 'medium' 'low' 'high' 'low' 'medium' 'low' 'medium' 'medium' 'high'\n",
      " 'high' 'high' 'low' 'medium' 'low' 'low' 'high' 'medium' 'high' 'medium'\n",
      " 'high' 'high' 'low' 'medium' 'medium' 'medium' 'medium' 'low' 'low'\n",
      " 'medium' 'low' 'high' 'low' 'low' 'low' 'low' 'low' 'medium' 'high' 'low'\n",
      " 'medium' 'low' 'low' 'low' 'low' 'medium' 'medium' 'high' 'medium' 'low'\n",
      " 'low' 'low' 'high' 'high' 'low' 'high' 'low' 'medium' 'high' 'medium'\n",
      " 'low' 'low' 'low' 'medium' 'low' 'medium' 'medium' 'low' 'low' 'low'\n",
      " 'medium' 'high' 'medium' 'medium' 'low' 'low' 'medium' 'low' 'medium'\n",
      " 'low' 'medium' 'medium' 'medium' 'low' 'medium' 'medium' 'medium' 'high'\n",
      " 'low' 'low' 'low' 'medium' 'medium' 'low' 'low' 'low' 'high' 'high' 'low'\n",
      " 'high' 'high' 'high' 'medium' 'medium' 'low' 'high' 'high' 'low' 'high'\n",
      " 'medium' 'low' 'medium' 'medium' 'low' 'low' 'low' 'low' 'medium' 'high'\n",
      " 'medium' 'low' 'medium']\n",
      "Hasil kNN :  ['medium' 'medium' 'low' 'medium' 'medium' 'low' 'low' 'low' 'low' 'low'\n",
      " 'medium' 'low' 'low' 'high' 'medium' 'low' 'low' 'low' 'medium' 'high'\n",
      " 'low' 'medium' 'low' 'high' 'low' 'low' 'low' 'low' 'low' 'low' 'medium'\n",
      " 'low' 'medium' 'high' 'low' 'low' 'medium' 'medium' 'high' 'low' 'medium'\n",
      " 'medium' 'low' 'low' 'medium' 'high' 'low' 'low' 'high' 'medium' 'high'\n",
      " 'low' 'high' 'high' 'high' 'low' 'medium' 'high' 'low' 'high' 'low'\n",
      " 'high' 'high' 'high' 'high' 'low' 'low' 'medium' 'high' 'low' 'low' 'low'\n",
      " 'medium' 'low' 'low' 'low' 'medium' 'medium' 'medium' 'high' 'high' 'low'\n",
      " 'low' 'medium' 'medium' 'medium' 'medium' 'high' 'medium' 'medium' 'low'\n",
      " 'medium' 'low' 'high' 'low' 'medium' 'low' 'medium' 'medium' 'high'\n",
      " 'high' 'high' 'low' 'medium' 'low' 'low' 'high' 'medium' 'high' 'medium'\n",
      " 'high' 'high' 'low' 'medium' 'medium' 'medium' 'medium' 'low' 'low'\n",
      " 'medium' 'low' 'high' 'low' 'low' 'low' 'low' 'low' 'medium' 'high' 'low'\n",
      " 'medium' 'low' 'low' 'low' 'low' 'medium' 'medium' 'high' 'medium' 'low'\n",
      " 'low' 'low' 'high' 'high' 'low' 'high' 'low' 'medium' 'high' 'medium'\n",
      " 'low' 'low' 'low' 'medium' 'low' 'medium' 'medium' 'low' 'low' 'low'\n",
      " 'medium' 'low' 'medium' 'medium' 'low' 'low' 'medium' 'low' 'medium'\n",
      " 'low' 'medium' 'medium' 'medium' 'low' 'medium' 'medium' 'medium' 'high'\n",
      " 'low' 'low' 'low' 'medium' 'medium' 'low' 'low' 'low' 'high' 'high' 'low'\n",
      " 'high' 'high' 'high' 'medium' 'medium' 'low' 'high' 'high' 'low' 'high'\n",
      " 'medium' 'low' 'medium' 'medium' 'low' 'low' 'low' 'low' 'medium' 'high'\n",
      " 'medium' 'low' 'medium']\n"
     ]
    }
   ],
   "source": [
    "kNN = KNeighborsClassifier(n_neighbors = 3, weights = \"distance\")\n",
    "kNN.fit(data2, training_label)\n",
    "hasil = kNN.predict(data3)\n",
    "print(\"Test Label : \", testing_label)\n",
    "print(\"Hasil kNN : \", hasil)"
   ]
  },
  {
   "cell_type": "code",
   "execution_count": 9,
   "id": "7a3919cb",
   "metadata": {},
   "outputs": [
    {
     "name": "stdout",
     "output_type": "stream",
     "text": [
      "Imported 0.2.00 version. Select nrows to a small number when running on huge datasets.\n",
      "output = featurewiz(dataname, target, corr_limit=0.90, verbose=2, sep=',', \n",
      "\t\theader=0, test_data='',feature_engg='', category_encoders='',\n",
      "\t\tdask_xgboost_flag=False, nrows=None, skip_sulov=False)\n",
      "Create new features via 'feature_engg' flag : ['interactions','groupby','target']\n",
      "\n",
      "############################################################################################\n",
      "############       F A S T   F E A T U R E  E N G G    A N D    S E L E C T I O N ! ########\n",
      "# Be judicious with featurewiz. Don't use it to create too many un-interpretable features! #\n",
      "############################################################################################\n",
      "correlation limit = 0.7\n",
      "Skipping feature engineering since no feature_engg input...\n",
      "Skipping category encoding since no category encoders specified in input...\n",
      "#### Single_Label Multi_Classification problem ####\n",
      "    Loaded train data. Shape = (1059, 8)\n",
      "    Some column names had special characters which were removed...\n",
      "#### Single_Label Multi_Classification problem ####\n",
      "No test data filename given...\n",
      "#######################################################################################\n",
      "######################## C L A S S I F Y I N G  V A R I A B L E S  ####################\n",
      "#######################################################################################\n",
      "        No variables were removed since no ID or low-information variables found in data set\n",
      "No GPU active on this device\n",
      "    Tuning XGBoost using CPU hyper-parameters. This will take time...\n",
      "    After removing redundant variables from further processing, features left = 7\n",
      "No interactions created for categorical vars since feature engg does not specify it\n",
      "    target labels need to be converted...\n",
      "Completed label encoding of target variable = Grade\n",
      "How model predictions need to be transformed for Grade:\n",
      "\t{0: 'high', 1: 'low', 2: 'medium'}\n",
      "#######################################################################################\n",
      "#####  Searching for Uncorrelated List Of Variables (SULOV) in 7 features ############\n",
      "#######################################################################################\n",
      "Selecting all (7) variables since none of numeric vars are highly correlated...\n",
      "Time taken for SULOV method = 0 seconds\n",
      "    Adding 0 categorical variables to reduced numeric variables  of 7\n",
      "Final list of selected 7 vars after SULOV = ['Colour', 'Fat', 'Odor', 'Taste', 'Temprature', 'Turbidity', 'pH']\n",
      "Converting all features to numeric before sending to XGBoost...\n",
      "#######################################################################################\n",
      "#####    R E C U R S I V E   X G B O O S T : F E A T U R E   S E L E C T I O N  #######\n",
      "#######################################################################################\n",
      "    using regular XGBoost\n",
      "Current number of predictors before recursive XGBoost = 7 \n",
      "    Taking top 1 features per iteration...\n",
      "    XGBoost version using 1.5.1 as tree method: hist\n",
      "Number of booster rounds = 100\n",
      "        using 7 variables...\n",
      "            selecting 3 features in this iteration\n",
      "            Time taken for regular XGBoost feature selection = 0 seconds\n",
      "        using 5 variables...\n",
      "            selecting 2 features in this iteration\n",
      "            Time taken for regular XGBoost feature selection = 0 seconds\n",
      "        using 3 variables...\n",
      "            selecting 1 features in this iteration\n",
      "            Time taken for regular XGBoost feature selection = 0 seconds\n"
     ]
    },
    {
     "data": {
      "image/png": "[encoded data removed]",
      "text/plain": [
       "<Figure size 720x720 with 4 Axes>"
      ]
     },
     "metadata": {
      "needs_background": "light"
     },
     "output_type": "display_data"
    },
    {
     "name": "stdout",
     "output_type": "stream",
     "text": [
      "    Completed XGBoost feature selection in 1 seconds\n",
      "#######################################################################################\n",
      "#####          F E A T U R E   S E L E C T I O N   C O M P L E T E D            #######\n",
      "#######################################################################################\n",
      "Selected 3 important features:\n",
      "['Turbidity', 'pH', 'Fat']\n",
      "Total Time taken for featurewiz selection = 3 seconds\n",
      "Output contains a list of 3 important features and a train dataframe\n"
     ]
    }
   ],
   "source": [
    "from featurewiz import featurewiz\n",
    "features = featurewiz(dataset, target='Grade', corr_limit=0.70, \n",
    "                                verbose=2)"
   ]
  },
  {
   "cell_type": "code",
   "execution_count": 16,
   "id": "c35dece7",
   "metadata": {},
   "outputs": [
    {
     "name": "stdout",
     "output_type": "stream",
     "text": [
      "\n",
      "Hasil clustering:\n",
      " [2 2 0 ... 2 1 1]\n"
     ]
    },
    {
     "data": {
      "text/plain": [
       "<AxesSubplot:xlabel='Temprature', ylabel='pH'>"
      ]
     },
     "execution_count": 16,
     "metadata": {},
     "output_type": "execute_result"
    },
    {
     "data": {
      "image/png": "[encoded data removed]",
      "text/plain": [
       "<Figure size 432x288 with 2 Axes>"
      ]
     },
     "metadata": {
      "needs_background": "light"
     },
     "output_type": "display_data"
    }
   ],
   "source": [
    "from sklearn.cluster import KMeans\n",
    "\n",
    "data = dataset.loc[:,['Temprature', 'pH']]\n",
    "clustering = KMeans(n_clusters=3, init=\"random\", n_init=1)\n",
    "clusters=clustering.fit_predict(data)\n",
    "print('\\nHasil clustering:\\n', clusters)\n",
    "data.plot(x='Temprature', y='pH', kind='scatter', c=clusters, colormap='Paired')"
   ]
  },
  {
   "cell_type": "code",
   "execution_count": 17,
   "id": "6c6b0bee",
   "metadata": {},
   "outputs": [
    {
     "name": "stdout",
     "output_type": "stream",
     "text": [
      "\n",
      "Hasil clustering:\n",
      " [1 1 0 ... 2 1 0]\n"
     ]
    },
    {
     "data": {
      "text/plain": [
       "<AxesSubplot:xlabel='Turbidity', ylabel='pH'>"
      ]
     },
     "execution_count": 17,
     "metadata": {},
     "output_type": "execute_result"
    },
    {
     "data": {
      "image/png": "[encoded data removed]",
      "text/plain": [
       "<Figure size 432x288 with 2 Axes>"
      ]
     },
     "metadata": {
      "needs_background": "light"
     },
     "output_type": "display_data"
    }
   ],
   "source": [
    "data = dataset.loc[:,['Turbidity', 'pH']]\n",
    "clustering = KMeans(n_clusters=3, init=\"random\", n_init=1)\n",
    "clusters=clustering.fit_predict(data)\n",
    "print('\\nHasil clustering:\\n', clusters)\n",
    "data.plot(x='Turbidity', y='pH', kind='scatter', c=clusters, colormap='Paired')"
   ]
  },
  {
   "cell_type": "code",
   "execution_count": null,
   "id": "bd4aa72f",
   "metadata": {},
   "outputs": [],
   "source": []
  }
 ],
 "metadata": {
  "kernelspec": {
   "display_name": "Python 3 (ipykernel)",
   "language": "python",
   "name": "python3"
  },
  "language_info": {
   "codemirror_mode": {
    "name": "ipython",
    "version": 3
   },
   "file_extension": ".py",
   "mimetype": "text/x-python",
   "name": "python",
   "nbconvert_exporter": "python",
   "pygments_lexer": "ipython3",
   "version": "3.9.7"
  }
 },
 "nbformat": 4,
 "nbformat_minor": 5
}
