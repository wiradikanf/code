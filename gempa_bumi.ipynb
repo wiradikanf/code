{
 "cells": [
  {
   "cell_type": "code",
   "execution_count": 3,
   "id": "71e80456",
   "metadata": {},
   "outputs": [],
   "source": [
    "import pandas as pd\n",
    "import numpy as np\n",
    "import folium\n",
    "from fcmeans import FCM\n",
    "from sklearn.preprocessing import MinMaxScaler\n",
    "import plotly.express as px\n",
    "from plotly.subplots import make_subplots\n",
    "import plotly.graph_objects as go"
   ]
  },
  {
   "cell_type": "code",
   "execution_count": 4,
   "id": "d0a14c26",
   "metadata": {},
   "outputs": [
    {
     "data": {
      "text/html": [
       "<div>\n",
       "<style scoped>\n",
       "    .dataframe tbody tr th:only-of-type {\n",
       "        vertical-align: middle;\n",
       "    }\n",
       "\n",
       "    .dataframe tbody tr th {\n",
       "        vertical-align: top;\n",
       "    }\n",
       "\n",
       "    .dataframe thead th {\n",
       "        text-align: right;\n",
       "    }\n",
       "</style>\n",
       "<table border=\"1\" class=\"dataframe\">\n",
       "  <thead>\n",
       "    <tr style=\"text-align: right;\">\n",
       "      <th></th>\n",
       "      <th>tgl</th>\n",
       "      <th>ot</th>\n",
       "      <th>lat</th>\n",
       "      <th>lon</th>\n",
       "      <th>depth</th>\n",
       "      <th>mag</th>\n",
       "      <th>remark</th>\n",
       "      <th>strike1</th>\n",
       "      <th>dip1</th>\n",
       "      <th>rake1</th>\n",
       "      <th>strike2</th>\n",
       "      <th>dip2</th>\n",
       "      <th>rake2</th>\n",
       "    </tr>\n",
       "  </thead>\n",
       "  <tbody>\n",
       "    <tr>\n",
       "      <th>0</th>\n",
       "      <td>5/6/2013</td>\n",
       "      <td>26:25.4</td>\n",
       "      <td>-7.33</td>\n",
       "      <td>107.71</td>\n",
       "      <td>19</td>\n",
       "      <td>3.1</td>\n",
       "      <td>Java - Indonesia</td>\n",
       "      <td>NaN</td>\n",
       "      <td>NaN</td>\n",
       "      <td>NaN</td>\n",
       "      <td>NaN</td>\n",
       "      <td>NaN</td>\n",
       "      <td>NaN</td>\n",
       "    </tr>\n",
       "    <tr>\n",
       "      <th>1</th>\n",
       "      <td>5/7/2013</td>\n",
       "      <td>12:39.7</td>\n",
       "      <td>-7.36</td>\n",
       "      <td>107.59</td>\n",
       "      <td>10</td>\n",
       "      <td>3.5</td>\n",
       "      <td>Java - Indonesia</td>\n",
       "      <td>NaN</td>\n",
       "      <td>NaN</td>\n",
       "      <td>NaN</td>\n",
       "      <td>NaN</td>\n",
       "      <td>NaN</td>\n",
       "      <td>NaN</td>\n",
       "    </tr>\n",
       "    <tr>\n",
       "      <th>2</th>\n",
       "      <td>5/7/2013</td>\n",
       "      <td>35:40.2</td>\n",
       "      <td>1.37</td>\n",
       "      <td>98.35</td>\n",
       "      <td>54</td>\n",
       "      <td>4.6</td>\n",
       "      <td>Northern Sumatra - Indonesia</td>\n",
       "      <td>NaN</td>\n",
       "      <td>NaN</td>\n",
       "      <td>NaN</td>\n",
       "      <td>NaN</td>\n",
       "      <td>NaN</td>\n",
       "      <td>NaN</td>\n",
       "    </tr>\n",
       "    <tr>\n",
       "      <th>3</th>\n",
       "      <td>5/7/2013</td>\n",
       "      <td>27:06.9</td>\n",
       "      <td>-7.33</td>\n",
       "      <td>107.69</td>\n",
       "      <td>17</td>\n",
       "      <td>3.0</td>\n",
       "      <td>Java - Indonesia</td>\n",
       "      <td>NaN</td>\n",
       "      <td>NaN</td>\n",
       "      <td>NaN</td>\n",
       "      <td>NaN</td>\n",
       "      <td>NaN</td>\n",
       "      <td>NaN</td>\n",
       "    </tr>\n",
       "    <tr>\n",
       "      <th>4</th>\n",
       "      <td>5/7/2013</td>\n",
       "      <td>22:00.5</td>\n",
       "      <td>0.66</td>\n",
       "      <td>123.91</td>\n",
       "      <td>257</td>\n",
       "      <td>3.5</td>\n",
       "      <td>Minahassa Peninsula - Sulawesi</td>\n",
       "      <td>NaN</td>\n",
       "      <td>NaN</td>\n",
       "      <td>NaN</td>\n",
       "      <td>NaN</td>\n",
       "      <td>NaN</td>\n",
       "      <td>NaN</td>\n",
       "    </tr>\n",
       "    <tr>\n",
       "      <th>...</th>\n",
       "      <td>...</td>\n",
       "      <td>...</td>\n",
       "      <td>...</td>\n",
       "      <td>...</td>\n",
       "      <td>...</td>\n",
       "      <td>...</td>\n",
       "      <td>...</td>\n",
       "      <td>...</td>\n",
       "      <td>...</td>\n",
       "      <td>...</td>\n",
       "      <td>...</td>\n",
       "      <td>...</td>\n",
       "      <td>...</td>\n",
       "    </tr>\n",
       "    <tr>\n",
       "      <th>77726</th>\n",
       "      <td>1/26/2023</td>\n",
       "      <td>25:09.3</td>\n",
       "      <td>3.24</td>\n",
       "      <td>127.18</td>\n",
       "      <td>10</td>\n",
       "      <td>4.0</td>\n",
       "      <td>Talaud Islands - Indonesia</td>\n",
       "      <td>NaN</td>\n",
       "      <td>NaN</td>\n",
       "      <td>NaN</td>\n",
       "      <td>NaN</td>\n",
       "      <td>NaN</td>\n",
       "      <td>NaN</td>\n",
       "    </tr>\n",
       "    <tr>\n",
       "      <th>77727</th>\n",
       "      <td>1/26/2023</td>\n",
       "      <td>15:03.9</td>\n",
       "      <td>2.70</td>\n",
       "      <td>127.10</td>\n",
       "      <td>10</td>\n",
       "      <td>3.9</td>\n",
       "      <td>Northern Molucca Sea</td>\n",
       "      <td>NaN</td>\n",
       "      <td>NaN</td>\n",
       "      <td>NaN</td>\n",
       "      <td>NaN</td>\n",
       "      <td>NaN</td>\n",
       "      <td>NaN</td>\n",
       "    </tr>\n",
       "    <tr>\n",
       "      <th>77728</th>\n",
       "      <td>1/26/2023</td>\n",
       "      <td>57:08.9</td>\n",
       "      <td>-7.83</td>\n",
       "      <td>121.07</td>\n",
       "      <td>10</td>\n",
       "      <td>3.8</td>\n",
       "      <td>Flores Sea</td>\n",
       "      <td>NaN</td>\n",
       "      <td>NaN</td>\n",
       "      <td>NaN</td>\n",
       "      <td>NaN</td>\n",
       "      <td>NaN</td>\n",
       "      <td>NaN</td>\n",
       "    </tr>\n",
       "    <tr>\n",
       "      <th>77729</th>\n",
       "      <td>1/26/2023</td>\n",
       "      <td>46:21.0</td>\n",
       "      <td>3.00</td>\n",
       "      <td>127.16</td>\n",
       "      <td>10</td>\n",
       "      <td>4.1</td>\n",
       "      <td>Northern Molucca Sea</td>\n",
       "      <td>NaN</td>\n",
       "      <td>NaN</td>\n",
       "      <td>NaN</td>\n",
       "      <td>NaN</td>\n",
       "      <td>NaN</td>\n",
       "      <td>NaN</td>\n",
       "    </tr>\n",
       "    <tr>\n",
       "      <th>77730</th>\n",
       "      <td>1/26/2023</td>\n",
       "      <td>00:35.2</td>\n",
       "      <td>-8.87</td>\n",
       "      <td>118.95</td>\n",
       "      <td>10</td>\n",
       "      <td>2.4</td>\n",
       "      <td>Sumbawa Region - Indonesia</td>\n",
       "      <td>NaN</td>\n",
       "      <td>NaN</td>\n",
       "      <td>NaN</td>\n",
       "      <td>NaN</td>\n",
       "      <td>NaN</td>\n",
       "      <td>NaN</td>\n",
       "    </tr>\n",
       "  </tbody>\n",
       "</table>\n",
       "<p>77731 rows × 13 columns</p>\n",
       "</div>"
      ],
      "text/plain": [
       "             tgl       ot   lat     lon  depth  mag  \\\n",
       "0       5/6/2013  26:25.4 -7.33  107.71     19  3.1   \n",
       "1       5/7/2013  12:39.7 -7.36  107.59     10  3.5   \n",
       "2       5/7/2013  35:40.2  1.37   98.35     54  4.6   \n",
       "3       5/7/2013  27:06.9 -7.33  107.69     17  3.0   \n",
       "4       5/7/2013  22:00.5  0.66  123.91    257  3.5   \n",
       "...          ...      ...   ...     ...    ...  ...   \n",
       "77726  1/26/2023  25:09.3  3.24  127.18     10  4.0   \n",
       "77727  1/26/2023  15:03.9  2.70  127.10     10  3.9   \n",
       "77728  1/26/2023  57:08.9 -7.83  121.07     10  3.8   \n",
       "77729  1/26/2023  46:21.0  3.00  127.16     10  4.1   \n",
       "77730  1/26/2023  00:35.2 -8.87  118.95     10  2.4   \n",
       "\n",
       "                               remark  strike1  dip1  rake1  strike2  dip2  \\\n",
       "0                    Java - Indonesia      NaN   NaN    NaN      NaN   NaN   \n",
       "1                    Java - Indonesia      NaN   NaN    NaN      NaN   NaN   \n",
       "2        Northern Sumatra - Indonesia      NaN   NaN    NaN      NaN   NaN   \n",
       "3                    Java - Indonesia      NaN   NaN    NaN      NaN   NaN   \n",
       "4      Minahassa Peninsula - Sulawesi      NaN   NaN    NaN      NaN   NaN   \n",
       "...                               ...      ...   ...    ...      ...   ...   \n",
       "77726      Talaud Islands - Indonesia      NaN   NaN    NaN      NaN   NaN   \n",
       "77727            Northern Molucca Sea      NaN   NaN    NaN      NaN   NaN   \n",
       "77728                      Flores Sea      NaN   NaN    NaN      NaN   NaN   \n",
       "77729            Northern Molucca Sea      NaN   NaN    NaN      NaN   NaN   \n",
       "77730      Sumbawa Region - Indonesia      NaN   NaN    NaN      NaN   NaN   \n",
       "\n",
       "       rake2  \n",
       "0        NaN  \n",
       "1        NaN  \n",
       "2        NaN  \n",
       "3        NaN  \n",
       "4        NaN  \n",
       "...      ...  \n",
       "77726    NaN  \n",
       "77727    NaN  \n",
       "77728    NaN  \n",
       "77729    NaN  \n",
       "77730    NaN  \n",
       "\n",
       "[77731 rows x 13 columns]"
      ]
     },
     "execution_count": 4,
     "metadata": {},
     "output_type": "execute_result"
    }
   ],
   "source": [
    "# Load dataset\n",
    "data = pd.read_csv('C:/Users/ASUS/Downloads/katalog_gempa.csv')\n",
    "data"
   ]
  },
  {
   "cell_type": "code",
   "execution_count": 8,
   "id": "b5127d0a",
   "metadata": {},
   "outputs": [
    {
     "name": "stdout",
     "output_type": "stream",
     "text": [
      "   year  count\n",
      "0  2013   1263\n",
      "1  2014   2430\n",
      "2  2015   5378\n",
      "3  2016   5134\n",
      "4  2017   7597\n",
      "5  2018  12345\n",
      "6  2019  12155\n",
      "7  2020   8690\n",
      "8  2021  10714\n",
      "9  2022  10849\n"
     ]
    },
    {
     "name": "stderr",
     "output_type": "stream",
     "text": [
      "C:\\Users\\ASUS\\AppData\\Local\\Temp/ipykernel_25276/2748251696.py:4: SettingWithCopyWarning:\n",
      "\n",
      "\n",
      "A value is trying to be set on a copy of a slice from a DataFrame.\n",
      "Try using .loc[row_indexer,col_indexer] = value instead\n",
      "\n",
      "See the caveats in the documentation: https://pandas.pydata.org/pandas-docs/stable/user_guide/indexing.html#returning-a-view-versus-a-copy\n",
      "\n"
     ]
    }
   ],
   "source": [
    "# Preprocessing data\n",
    "data['tgl'] = pd.to_datetime(data['tgl'])\n",
    "df_filter = data[(data['tgl'].dt.year >= 2013) & (data['tgl'].dt.year <= 2022)]\n",
    "df_filter['year'] = df_filter['tgl'].dt.year\n",
    "\n",
    "# Yearly number of recorded earthquakes from 2013 to 2022\n",
    "df_year = df_filter.groupby(['year'])['tgl'].count().reset_index().rename(columns={'tgl': 'count'})\n",
    "df_year.sort_values(['year'])\n",
    "print(df_year)\n"
   ]
  },
  {
   "cell_type": "code",
   "execution_count": 6,
   "id": "a4466c7b",
   "metadata": {},
   "outputs": [
    {
     "name": "stdout",
     "output_type": "stream",
     "text": [
      "From 2013 to 2022, 76555 earthquakes have been recorded in Indonesia.\n",
      "   year  count\n",
      "0  2013   1263\n",
      "1  2014   2430\n",
      "2  2015   5378\n",
      "3  2016   5134\n",
      "4  2017   7597\n",
      "5  2018  12345\n",
      "6  2019  12155\n",
      "7  2020   8690\n",
      "8  2021  10714\n",
      "9  2022  10849\n",
      "The portion of the number of recorded earthquakes in 2021 and 2022 is 0.28166677552086733.\n"
     ]
    },
    {
     "data": {
      "application/vnd.plotly.v1+json": {
       "config": {
        "plotlyServerURL": "https://plot.ly"
       },
       "data": [
        {
         "alignmentgroup": "True",
         "hovertemplate": "<b>%{x}</b><br>%{y:.0f}",
         "legendgroup": "",
         "marker": {
          "color": "#bfbfbf",
          "pattern": {
           "shape": ""
          }
         },
         "name": "",
         "offsetgroup": "",
         "orientation": "v",
         "showlegend": false,
         "textposition": "auto",
         "texttemplate": "%{y:.2s}",
         "type": "bar",
         "x": [
          2013,
          2014,
          2015,
          2016,
          2017,
          2018,
          2020
         ],
         "xaxis": "x",
         "y": [
          1263,
          2430,
          5378,
          5134,
          7597,
          12345,
          8690
         ],
         "yaxis": "y"
        },
        {
         "alignmentgroup": "True",
         "hovertemplate": "<b>%{x}</b><br>%{y:.0f}",
         "legendgroup": "",
         "marker": {
          "color": "#437dce",
          "pattern": {
           "shape": ""
          }
         },
         "name": "",
         "offsetgroup": "",
         "orientation": "v",
         "showlegend": false,
         "textposition": "auto",
         "texttemplate": "%{y:.2s}",
         "type": "bar",
         "x": [
          2019,
          2021,
          2022
         ],
         "xaxis": "x",
         "y": [
          12155,
          10714,
          10849
         ],
         "yaxis": "y"
        }
       ],
       "layout": {
        "barmode": "relative",
        "legend": {
         "tracegroupgap": 0
        },
        "margin": {
         "t": 60
        },
        "plot_bgcolor": "#fbfbfa",
        "template": {
         "data": {
          "bar": [
           {
            "error_x": {
             "color": "#2a3f5f"
            },
            "error_y": {
             "color": "#2a3f5f"
            },
            "marker": {
             "line": {
              "color": "#E5ECF6",
              "width": 0.5
             },
             "pattern": {
              "fillmode": "overlay",
              "size": 10,
              "solidity": 0.2
             }
            },
            "type": "bar"
           }
          ],
          "barpolar": [
           {
            "marker": {
             "line": {
              "color": "#E5ECF6",
              "width": 0.5
             },
             "pattern": {
              "fillmode": "overlay",
              "size": 10,
              "solidity": 0.2
             }
            },
            "type": "barpolar"
           }
          ],
          "carpet": [
           {
            "aaxis": {
             "endlinecolor": "#2a3f5f",
             "gridcolor": "white",
             "linecolor": "white",
             "minorgridcolor": "white",
             "startlinecolor": "#2a3f5f"
            },
            "baxis": {
             "endlinecolor": "#2a3f5f",
             "gridcolor": "white",
             "linecolor": "white",
             "minorgridcolor": "white",
             "startlinecolor": "#2a3f5f"
            },
            "type": "carpet"
           }
          ],
          "choropleth": [
           {
            "colorbar": {
             "outlinewidth": 0,
             "ticks": ""
            },
            "type": "choropleth"
           }
          ],
          "contour": [
           {
            "colorbar": {
             "outlinewidth": 0,
             "ticks": ""
            },
            "colorscale": [
             [
              0,
              "#0d0887"
             ],
             [
              0.1111111111111111,
              "#46039f"
             ],
             [
              0.2222222222222222,
              "#7201a8"
             ],
             [
              0.3333333333333333,
              "#9c179e"
             ],
             [
              0.4444444444444444,
              "#bd3786"
             ],
             [
              0.5555555555555556,
              "#d8576b"
             ],
             [
              0.6666666666666666,
              "#ed7953"
             ],
             [
              0.7777777777777778,
              "#fb9f3a"
             ],
             [
              0.8888888888888888,
              "#fdca26"
             ],
             [
              1,
              "#f0f921"
             ]
            ],
            "type": "contour"
           }
          ],
          "contourcarpet": [
           {
            "colorbar": {
             "outlinewidth": 0,
             "ticks": ""
            },
            "type": "contourcarpet"
           }
          ],
          "heatmap": [
           {
            "colorbar": {
             "outlinewidth": 0,
             "ticks": ""
            },
            "colorscale": [
             [
              0,
              "#0d0887"
             ],
             [
              0.1111111111111111,
              "#46039f"
             ],
             [
              0.2222222222222222,
              "#7201a8"
             ],
             [
              0.3333333333333333,
              "#9c179e"
             ],
             [
              0.4444444444444444,
              "#bd3786"
             ],
             [
              0.5555555555555556,
              "#d8576b"
             ],
             [
              0.6666666666666666,
              "#ed7953"
             ],
             [
              0.7777777777777778,
              "#fb9f3a"
             ],
             [
              0.8888888888888888,
              "#fdca26"
             ],
             [
              1,
              "#f0f921"
             ]
            ],
            "type": "heatmap"
           }
          ],
          "heatmapgl": [
           {
            "colorbar": {
             "outlinewidth": 0,
             "ticks": ""
            },
            "colorscale": [
             [
              0,
              "#0d0887"
             ],
             [
              0.1111111111111111,
              "#46039f"
             ],
             [
              0.2222222222222222,
              "#7201a8"
             ],
             [
              0.3333333333333333,
              "#9c179e"
             ],
             [
              0.4444444444444444,
              "#bd3786"
             ],
             [
              0.5555555555555556,
              "#d8576b"
             ],
             [
              0.6666666666666666,
              "#ed7953"
             ],
             [
              0.7777777777777778,
              "#fb9f3a"
             ],
             [
              0.8888888888888888,
              "#fdca26"
             ],
             [
              1,
              "#f0f921"
             ]
            ],
            "type": "heatmapgl"
           }
          ],
          "histogram": [
           {
            "marker": {
             "pattern": {
              "fillmode": "overlay",
              "size": 10,
              "solidity": 0.2
             }
            },
            "type": "histogram"
           }
          ],
          "histogram2d": [
           {
            "colorbar": {
             "outlinewidth": 0,
             "ticks": ""
            },
            "colorscale": [
             [
              0,
              "#0d0887"
             ],
             [
              0.1111111111111111,
              "#46039f"
             ],
             [
              0.2222222222222222,
              "#7201a8"
             ],
             [
              0.3333333333333333,
              "#9c179e"
             ],
             [
              0.4444444444444444,
              "#bd3786"
             ],
             [
              0.5555555555555556,
              "#d8576b"
             ],
             [
              0.6666666666666666,
              "#ed7953"
             ],
             [
              0.7777777777777778,
              "#fb9f3a"
             ],
             [
              0.8888888888888888,
              "#fdca26"
             ],
             [
              1,
              "#f0f921"
             ]
            ],
            "type": "histogram2d"
           }
          ],
          "histogram2dcontour": [
           {
            "colorbar": {
             "outlinewidth": 0,
             "ticks": ""
            },
            "colorscale": [
             [
              0,
              "#0d0887"
             ],
             [
              0.1111111111111111,
              "#46039f"
             ],
             [
              0.2222222222222222,
              "#7201a8"
             ],
             [
              0.3333333333333333,
              "#9c179e"
             ],
             [
              0.4444444444444444,
              "#bd3786"
             ],
             [
              0.5555555555555556,
              "#d8576b"
             ],
             [
              0.6666666666666666,
              "#ed7953"
             ],
             [
              0.7777777777777778,
              "#fb9f3a"
             ],
             [
              0.8888888888888888,
              "#fdca26"
             ],
             [
              1,
              "#f0f921"
             ]
            ],
            "type": "histogram2dcontour"
           }
          ],
          "mesh3d": [
           {
            "colorbar": {
             "outlinewidth": 0,
             "ticks": ""
            },
            "type": "mesh3d"
           }
          ],
          "parcoords": [
           {
            "line": {
             "colorbar": {
              "outlinewidth": 0,
              "ticks": ""
             }
            },
            "type": "parcoords"
           }
          ],
          "pie": [
           {
            "automargin": true,
            "type": "pie"
           }
          ],
          "scatter": [
           {
            "fillpattern": {
             "fillmode": "overlay",
             "size": 10,
             "solidity": 0.2
            },
            "type": "scatter"
           }
          ],
          "scatter3d": [
           {
            "line": {
             "colorbar": {
              "outlinewidth": 0,
              "ticks": ""
             }
            },
            "marker": {
             "colorbar": {
              "outlinewidth": 0,
              "ticks": ""
             }
            },
            "type": "scatter3d"
           }
          ],
          "scattercarpet": [
           {
            "marker": {
             "colorbar": {
              "outlinewidth": 0,
              "ticks": ""
             }
            },
            "type": "scattercarpet"
           }
          ],
          "scattergeo": [
           {
            "marker": {
             "colorbar": {
              "outlinewidth": 0,
              "ticks": ""
             }
            },
            "type": "scattergeo"
           }
          ],
          "scattergl": [
           {
            "marker": {
             "colorbar": {
              "outlinewidth": 0,
              "ticks": ""
             }
            },
            "type": "scattergl"
           }
          ],
          "scattermapbox": [
           {
            "marker": {
             "colorbar": {
              "outlinewidth": 0,
              "ticks": ""
             }
            },
            "type": "scattermapbox"
           }
          ],
          "scatterpolar": [
           {
            "marker": {
             "colorbar": {
              "outlinewidth": 0,
              "ticks": ""
             }
            },
            "type": "scatterpolar"
           }
          ],
          "scatterpolargl": [
           {
            "marker": {
             "colorbar": {
              "outlinewidth": 0,
              "ticks": ""
             }
            },
            "type": "scatterpolargl"
           }
          ],
          "scatterternary": [
           {
            "marker": {
             "colorbar": {
              "outlinewidth": 0,
              "ticks": ""
             }
            },
            "type": "scatterternary"
           }
          ],
          "surface": [
           {
            "colorbar": {
             "outlinewidth": 0,
             "ticks": ""
            },
            "colorscale": [
             [
              0,
              "#0d0887"
             ],
             [
              0.1111111111111111,
              "#46039f"
             ],
             [
              0.2222222222222222,
              "#7201a8"
             ],
             [
              0.3333333333333333,
              "#9c179e"
             ],
             [
              0.4444444444444444,
              "#bd3786"
             ],
             [
              0.5555555555555556,
              "#d8576b"
             ],
             [
              0.6666666666666666,
              "#ed7953"
             ],
             [
              0.7777777777777778,
              "#fb9f3a"
             ],
             [
              0.8888888888888888,
              "#fdca26"
             ],
             [
              1,
              "#f0f921"
             ]
            ],
            "type": "surface"
           }
          ],
          "table": [
           {
            "cells": {
             "fill": {
              "color": "#EBF0F8"
             },
             "line": {
              "color": "white"
             }
            },
            "header": {
             "fill": {
              "color": "#C8D4E3"
             },
             "line": {
              "color": "white"
             }
            },
            "type": "table"
           }
          ]
         },
         "layout": {
          "annotationdefaults": {
           "arrowcolor": "#2a3f5f",
           "arrowhead": 0,
           "arrowwidth": 1
          },
          "autotypenumbers": "strict",
          "coloraxis": {
           "colorbar": {
            "outlinewidth": 0,
            "ticks": ""
           }
          },
          "colorscale": {
           "diverging": [
            [
             0,
             "#8e0152"
            ],
            [
             0.1,
             "#c51b7d"
            ],
            [
             0.2,
             "#de77ae"
            ],
            [
             0.3,
             "#f1b6da"
            ],
            [
             0.4,
             "#fde0ef"
            ],
            [
             0.5,
             "#f7f7f7"
            ],
            [
             0.6,
             "#e6f5d0"
            ],
            [
             0.7,
             "#b8e186"
            ],
            [
             0.8,
             "#7fbc41"
            ],
            [
             0.9,
             "#4d9221"
            ],
            [
             1,
             "#276419"
            ]
           ],
           "sequential": [
            [
             0,
             "#0d0887"
            ],
            [
             0.1111111111111111,
             "#46039f"
            ],
            [
             0.2222222222222222,
             "#7201a8"
            ],
            [
             0.3333333333333333,
             "#9c179e"
            ],
            [
             0.4444444444444444,
             "#bd3786"
            ],
            [
             0.5555555555555556,
             "#d8576b"
            ],
            [
             0.6666666666666666,
             "#ed7953"
            ],
            [
             0.7777777777777778,
             "#fb9f3a"
            ],
            [
             0.8888888888888888,
             "#fdca26"
            ],
            [
             1,
             "#f0f921"
            ]
           ],
           "sequentialminus": [
            [
             0,
             "#0d0887"
            ],
            [
             0.1111111111111111,
             "#46039f"
            ],
            [
             0.2222222222222222,
             "#7201a8"
            ],
            [
             0.3333333333333333,
             "#9c179e"
            ],
            [
             0.4444444444444444,
             "#bd3786"
            ],
            [
             0.5555555555555556,
             "#d8576b"
            ],
            [
             0.6666666666666666,
             "#ed7953"
            ],
            [
             0.7777777777777778,
             "#fb9f3a"
            ],
            [
             0.8888888888888888,
             "#fdca26"
            ],
            [
             1,
             "#f0f921"
            ]
           ]
          },
          "colorway": [
           "#636efa",
           "#EF553B",
           "#00cc96",
           "#ab63fa",
           "#FFA15A",
           "#19d3f3",
           "#FF6692",
           "#B6E880",
           "#FF97FF",
           "#FECB52"
          ],
          "font": {
           "color": "#2a3f5f"
          },
          "geo": {
           "bgcolor": "white",
           "lakecolor": "white",
           "landcolor": "#E5ECF6",
           "showlakes": true,
           "showland": true,
           "subunitcolor": "white"
          },
          "hoverlabel": {
           "align": "left"
          },
          "hovermode": "closest",
          "mapbox": {
           "style": "light"
          },
          "paper_bgcolor": "white",
          "plot_bgcolor": "#E5ECF6",
          "polar": {
           "angularaxis": {
            "gridcolor": "white",
            "linecolor": "white",
            "ticks": ""
           },
           "bgcolor": "#E5ECF6",
           "radialaxis": {
            "gridcolor": "white",
            "linecolor": "white",
            "ticks": ""
           }
          },
          "scene": {
           "xaxis": {
            "backgroundcolor": "#E5ECF6",
            "gridcolor": "white",
            "gridwidth": 2,
            "linecolor": "white",
            "showbackground": true,
            "ticks": "",
            "zerolinecolor": "white"
           },
           "yaxis": {
            "backgroundcolor": "#E5ECF6",
            "gridcolor": "white",
            "gridwidth": 2,
            "linecolor": "white",
            "showbackground": true,
            "ticks": "",
            "zerolinecolor": "white"
           },
           "zaxis": {
            "backgroundcolor": "#E5ECF6",
            "gridcolor": "white",
            "gridwidth": 2,
            "linecolor": "white",
            "showbackground": true,
            "ticks": "",
            "zerolinecolor": "white"
           }
          },
          "shapedefaults": {
           "line": {
            "color": "#2a3f5f"
           }
          },
          "ternary": {
           "aaxis": {
            "gridcolor": "white",
            "linecolor": "white",
            "ticks": ""
           },
           "baxis": {
            "gridcolor": "white",
            "linecolor": "white",
            "ticks": ""
           },
           "bgcolor": "#E5ECF6",
           "caxis": {
            "gridcolor": "white",
            "linecolor": "white",
            "ticks": ""
           }
          },
          "title": {
           "x": 0.05
          },
          "xaxis": {
           "automargin": true,
           "gridcolor": "white",
           "linecolor": "white",
           "ticks": "",
           "title": {
            "standoff": 15
           },
           "zerolinecolor": "white",
           "zerolinewidth": 2
          },
          "yaxis": {
           "automargin": true,
           "gridcolor": "white",
           "linecolor": "white",
           "ticks": "",
           "title": {
            "standoff": 15
           },
           "zerolinecolor": "white",
           "zerolinewidth": 2
          }
         }
        },
        "title": {
         "text": "<b>The Number of Recorded Earthquakes in Indonesia</b><br><sub>Year</sub>"
        },
        "width": 780,
        "xaxis": {
         "anchor": "y",
         "categoryarray": [
          "2022",
          "2021",
          "2020",
          "2019",
          "2018",
          "2017",
          "2016",
          "2015",
          "2014",
          "2013"
         ],
         "categoryorder": "array",
         "domain": [
          0,
          1
         ],
         "title": {
          "text": "<sub>Between 2013 and 2022, Indonesia experienced 77,261 earthquakes, a quarter of which occurred in 2021 and 2022.<br>However, the year with the highest number of recorded earthquakes was 2019.</sub>"
         }
        },
        "yaxis": {
         "anchor": "x",
         "domain": [
          0,
          1
         ],
         "title": {
          "text": ""
         }
        }
       }
      }
     },
     "metadata": {},
     "output_type": "display_data"
    },
    {
     "name": "stdout",
     "output_type": "stream",
     "text": [
      "                            remark  count\n",
      "18  Minahassa Peninsula - Sulawesi   7818\n",
      "40            Sulawesi - Indonesia   6876\n",
      "43      Sumbawa Region - Indonesia   6659\n",
      "15                Java - Indonesia   5305\n",
      "27    Northern Sumatra - Indonesia   4705\n",
      "26            Northern Molucca Sea   4173\n",
      "4                        Banda Sea   4068\n",
      "38    Southern Sumatra - Indonesia   4027\n",
      "31               Seram - Indonesia   3764\n",
      "12           Halmahera - Indonesia   3106\n"
     ]
    },
    {
     "data": {
      "application/vnd.plotly.v1+json": {
       "config": {
        "plotlyServerURL": "https://plot.ly"
       },
       "data": [
        {
         "alignmentgroup": "True",
         "hovertemplate": "<b>%{x}</b><br>Number of Earthquakes: %{y}",
         "legendgroup": "",
         "marker": {
          "color": [
           7818,
           6876,
           6659,
           5305,
           4705,
           4173,
           4068,
           4027,
           3764,
           3106
          ],
          "coloraxis": "coloraxis",
          "pattern": {
           "shape": ""
          }
         },
         "name": "",
         "offsetgroup": "",
         "orientation": "v",
         "showlegend": false,
         "text": [
          7818,
          6876,
          6659,
          5305,
          4705,
          4173,
          4068,
          4027,
          3764,
          3106
         ],
         "textposition": "auto",
         "type": "bar",
         "x": [
          "Minahassa Peninsula - Sulawesi",
          "Sulawesi - Indonesia",
          "Sumbawa Region - Indonesia",
          "Java - Indonesia",
          "Northern Sumatra - Indonesia",
          "Northern Molucca Sea",
          "Banda Sea",
          "Southern Sumatra - Indonesia",
          "Seram - Indonesia",
          "Halmahera - Indonesia"
         ],
         "xaxis": "x",
         "y": [
          7818,
          6876,
          6659,
          5305,
          4705,
          4173,
          4068,
          4027,
          3764,
          3106
         ],
         "yaxis": "y"
        }
       ],
       "layout": {
        "barmode": "relative",
        "coloraxis": {
         "colorbar": {
          "title": {
           "text": "count"
          }
         },
         "colorscale": [
          [
           0,
           "rgb(247,251,255)"
          ],
          [
           0.125,
           "rgb(222,235,247)"
          ],
          [
           0.25,
           "rgb(198,219,239)"
          ],
          [
           0.375,
           "rgb(158,202,225)"
          ],
          [
           0.5,
           "rgb(107,174,214)"
          ],
          [
           0.625,
           "rgb(66,146,198)"
          ],
          [
           0.75,
           "rgb(33,113,181)"
          ],
          [
           0.875,
           "rgb(8,81,156)"
          ],
          [
           1,
           "rgb(8,48,107)"
          ]
         ]
        },
        "legend": {
         "tracegroupgap": 0
        },
        "margin": {
         "t": 60
        },
        "plot_bgcolor": "#fbfbfa",
        "template": {
         "data": {
          "bar": [
           {
            "error_x": {
             "color": "#2a3f5f"
            },
            "error_y": {
             "color": "#2a3f5f"
            },
            "marker": {
             "line": {
              "color": "#E5ECF6",
              "width": 0.5
             },
             "pattern": {
              "fillmode": "overlay",
              "size": 10,
              "solidity": 0.2
             }
            },
            "type": "bar"
           }
          ],
          "barpolar": [
           {
            "marker": {
             "line": {
              "color": "#E5ECF6",
              "width": 0.5
             },
             "pattern": {
              "fillmode": "overlay",
              "size": 10,
              "solidity": 0.2
             }
            },
            "type": "barpolar"
           }
          ],
          "carpet": [
           {
            "aaxis": {
             "endlinecolor": "#2a3f5f",
             "gridcolor": "white",
             "linecolor": "white",
             "minorgridcolor": "white",
             "startlinecolor": "#2a3f5f"
            },
            "baxis": {
             "endlinecolor": "#2a3f5f",
             "gridcolor": "white",
             "linecolor": "white",
             "minorgridcolor": "white",
             "startlinecolor": "#2a3f5f"
            },
            "type": "carpet"
           }
          ],
          "choropleth": [
           {
            "colorbar": {
             "outlinewidth": 0,
             "ticks": ""
            },
            "type": "choropleth"
           }
          ],
          "contour": [
           {
            "colorbar": {
             "outlinewidth": 0,
             "ticks": ""
            },
            "colorscale": [
             [
              0,
              "#0d0887"
             ],
             [
              0.1111111111111111,
              "#46039f"
             ],
             [
              0.2222222222222222,
              "#7201a8"
             ],
             [
              0.3333333333333333,
              "#9c179e"
             ],
             [
              0.4444444444444444,
              "#bd3786"
             ],
             [
              0.5555555555555556,
              "#d8576b"
             ],
             [
              0.6666666666666666,
              "#ed7953"
             ],
             [
              0.7777777777777778,
              "#fb9f3a"
             ],
             [
              0.8888888888888888,
              "#fdca26"
             ],
             [
              1,
              "#f0f921"
             ]
            ],
            "type": "contour"
           }
          ],
          "contourcarpet": [
           {
            "colorbar": {
             "outlinewidth": 0,
             "ticks": ""
            },
            "type": "contourcarpet"
           }
          ],
          "heatmap": [
           {
            "colorbar": {
             "outlinewidth": 0,
             "ticks": ""
            },
            "colorscale": [
             [
              0,
              "#0d0887"
             ],
             [
              0.1111111111111111,
              "#46039f"
             ],
             [
              0.2222222222222222,
              "#7201a8"
             ],
             [
              0.3333333333333333,
              "#9c179e"
             ],
             [
              0.4444444444444444,
              "#bd3786"
             ],
             [
              0.5555555555555556,
              "#d8576b"
             ],
             [
              0.6666666666666666,
              "#ed7953"
             ],
             [
              0.7777777777777778,
              "#fb9f3a"
             ],
             [
              0.8888888888888888,
              "#fdca26"
             ],
             [
              1,
              "#f0f921"
             ]
            ],
            "type": "heatmap"
           }
          ],
          "heatmapgl": [
           {
            "colorbar": {
             "outlinewidth": 0,
             "ticks": ""
            },
            "colorscale": [
             [
              0,
              "#0d0887"
             ],
             [
              0.1111111111111111,
              "#46039f"
             ],
             [
              0.2222222222222222,
              "#7201a8"
             ],
             [
              0.3333333333333333,
              "#9c179e"
             ],
             [
              0.4444444444444444,
              "#bd3786"
             ],
             [
              0.5555555555555556,
              "#d8576b"
             ],
             [
              0.6666666666666666,
              "#ed7953"
             ],
             [
              0.7777777777777778,
              "#fb9f3a"
             ],
             [
              0.8888888888888888,
              "#fdca26"
             ],
             [
              1,
              "#f0f921"
             ]
            ],
            "type": "heatmapgl"
           }
          ],
          "histogram": [
           {
            "marker": {
             "pattern": {
              "fillmode": "overlay",
              "size": 10,
              "solidity": 0.2
             }
            },
            "type": "histogram"
           }
          ],
          "histogram2d": [
           {
            "colorbar": {
             "outlinewidth": 0,
             "ticks": ""
            },
            "colorscale": [
             [
              0,
              "#0d0887"
             ],
             [
              0.1111111111111111,
              "#46039f"
             ],
             [
              0.2222222222222222,
              "#7201a8"
             ],
             [
              0.3333333333333333,
              "#9c179e"
             ],
             [
              0.4444444444444444,
              "#bd3786"
             ],
             [
              0.5555555555555556,
              "#d8576b"
             ],
             [
              0.6666666666666666,
              "#ed7953"
             ],
             [
              0.7777777777777778,
              "#fb9f3a"
             ],
             [
              0.8888888888888888,
              "#fdca26"
             ],
             [
              1,
              "#f0f921"
             ]
            ],
            "type": "histogram2d"
           }
          ],
          "histogram2dcontour": [
           {
            "colorbar": {
             "outlinewidth": 0,
             "ticks": ""
            },
            "colorscale": [
             [
              0,
              "#0d0887"
             ],
             [
              0.1111111111111111,
              "#46039f"
             ],
             [
              0.2222222222222222,
              "#7201a8"
             ],
             [
              0.3333333333333333,
              "#9c179e"
             ],
             [
              0.4444444444444444,
              "#bd3786"
             ],
             [
              0.5555555555555556,
              "#d8576b"
             ],
             [
              0.6666666666666666,
              "#ed7953"
             ],
             [
              0.7777777777777778,
              "#fb9f3a"
             ],
             [
              0.8888888888888888,
              "#fdca26"
             ],
             [
              1,
              "#f0f921"
             ]
            ],
            "type": "histogram2dcontour"
           }
          ],
          "mesh3d": [
           {
            "colorbar": {
             "outlinewidth": 0,
             "ticks": ""
            },
            "type": "mesh3d"
           }
          ],
          "parcoords": [
           {
            "line": {
             "colorbar": {
              "outlinewidth": 0,
              "ticks": ""
             }
            },
            "type": "parcoords"
           }
          ],
          "pie": [
           {
            "automargin": true,
            "type": "pie"
           }
          ],
          "scatter": [
           {
            "fillpattern": {
             "fillmode": "overlay",
             "size": 10,
             "solidity": 0.2
            },
            "type": "scatter"
           }
          ],
          "scatter3d": [
           {
            "line": {
             "colorbar": {
              "outlinewidth": 0,
              "ticks": ""
             }
            },
            "marker": {
             "colorbar": {
              "outlinewidth": 0,
              "ticks": ""
             }
            },
            "type": "scatter3d"
           }
          ],
          "scattercarpet": [
           {
            "marker": {
             "colorbar": {
              "outlinewidth": 0,
              "ticks": ""
             }
            },
            "type": "scattercarpet"
           }
          ],
          "scattergeo": [
           {
            "marker": {
             "colorbar": {
              "outlinewidth": 0,
              "ticks": ""
             }
            },
            "type": "scattergeo"
           }
          ],
          "scattergl": [
           {
            "marker": {
             "colorbar": {
              "outlinewidth": 0,
              "ticks": ""
             }
            },
            "type": "scattergl"
           }
          ],
          "scattermapbox": [
           {
            "marker": {
             "colorbar": {
              "outlinewidth": 0,
              "ticks": ""
             }
            },
            "type": "scattermapbox"
           }
          ],
          "scatterpolar": [
           {
            "marker": {
             "colorbar": {
              "outlinewidth": 0,
              "ticks": ""
             }
            },
            "type": "scatterpolar"
           }
          ],
          "scatterpolargl": [
           {
            "marker": {
             "colorbar": {
              "outlinewidth": 0,
              "ticks": ""
             }
            },
            "type": "scatterpolargl"
           }
          ],
          "scatterternary": [
           {
            "marker": {
             "colorbar": {
              "outlinewidth": 0,
              "ticks": ""
             }
            },
            "type": "scatterternary"
           }
          ],
          "surface": [
           {
            "colorbar": {
             "outlinewidth": 0,
             "ticks": ""
            },
            "colorscale": [
             [
              0,
              "#0d0887"
             ],
             [
              0.1111111111111111,
              "#46039f"
             ],
             [
              0.2222222222222222,
              "#7201a8"
             ],
             [
              0.3333333333333333,
              "#9c179e"
             ],
             [
              0.4444444444444444,
              "#bd3786"
             ],
             [
              0.5555555555555556,
              "#d8576b"
             ],
             [
              0.6666666666666666,
              "#ed7953"
             ],
             [
              0.7777777777777778,
              "#fb9f3a"
             ],
             [
              0.8888888888888888,
              "#fdca26"
             ],
             [
              1,
              "#f0f921"
             ]
            ],
            "type": "surface"
           }
          ],
          "table": [
           {
            "cells": {
             "fill": {
              "color": "#EBF0F8"
             },
             "line": {
              "color": "white"
             }
            },
            "header": {
             "fill": {
              "color": "#C8D4E3"
             },
             "line": {
              "color": "white"
             }
            },
            "type": "table"
           }
          ]
         },
         "layout": {
          "annotationdefaults": {
           "arrowcolor": "#2a3f5f",
           "arrowhead": 0,
           "arrowwidth": 1
          },
          "autotypenumbers": "strict",
          "coloraxis": {
           "colorbar": {
            "outlinewidth": 0,
            "ticks": ""
           }
          },
          "colorscale": {
           "diverging": [
            [
             0,
             "#8e0152"
            ],
            [
             0.1,
             "#c51b7d"
            ],
            [
             0.2,
             "#de77ae"
            ],
            [
             0.3,
             "#f1b6da"
            ],
            [
             0.4,
             "#fde0ef"
            ],
            [
             0.5,
             "#f7f7f7"
            ],
            [
             0.6,
             "#e6f5d0"
            ],
            [
             0.7,
             "#b8e186"
            ],
            [
             0.8,
             "#7fbc41"
            ],
            [
             0.9,
             "#4d9221"
            ],
            [
             1,
             "#276419"
            ]
           ],
           "sequential": [
            [
             0,
             "#0d0887"
            ],
            [
             0.1111111111111111,
             "#46039f"
            ],
            [
             0.2222222222222222,
             "#7201a8"
            ],
            [
             0.3333333333333333,
             "#9c179e"
            ],
            [
             0.4444444444444444,
             "#bd3786"
            ],
            [
             0.5555555555555556,
             "#d8576b"
            ],
            [
             0.6666666666666666,
             "#ed7953"
            ],
            [
             0.7777777777777778,
             "#fb9f3a"
            ],
            [
             0.8888888888888888,
             "#fdca26"
            ],
            [
             1,
             "#f0f921"
            ]
           ],
           "sequentialminus": [
            [
             0,
             "#0d0887"
            ],
            [
             0.1111111111111111,
             "#46039f"
            ],
            [
             0.2222222222222222,
             "#7201a8"
            ],
            [
             0.3333333333333333,
             "#9c179e"
            ],
            [
             0.4444444444444444,
             "#bd3786"
            ],
            [
             0.5555555555555556,
             "#d8576b"
            ],
            [
             0.6666666666666666,
             "#ed7953"
            ],
            [
             0.7777777777777778,
             "#fb9f3a"
            ],
            [
             0.8888888888888888,
             "#fdca26"
            ],
            [
             1,
             "#f0f921"
            ]
           ]
          },
          "colorway": [
           "#636efa",
           "#EF553B",
           "#00cc96",
           "#ab63fa",
           "#FFA15A",
           "#19d3f3",
           "#FF6692",
           "#B6E880",
           "#FF97FF",
           "#FECB52"
          ],
          "font": {
           "color": "#2a3f5f"
          },
          "geo": {
           "bgcolor": "white",
           "lakecolor": "white",
           "landcolor": "#E5ECF6",
           "showlakes": true,
           "showland": true,
           "subunitcolor": "white"
          },
          "hoverlabel": {
           "align": "left"
          },
          "hovermode": "closest",
          "mapbox": {
           "style": "light"
          },
          "paper_bgcolor": "white",
          "plot_bgcolor": "#E5ECF6",
          "polar": {
           "angularaxis": {
            "gridcolor": "white",
            "linecolor": "white",
            "ticks": ""
           },
           "bgcolor": "#E5ECF6",
           "radialaxis": {
            "gridcolor": "white",
            "linecolor": "white",
            "ticks": ""
           }
          },
          "scene": {
           "xaxis": {
            "backgroundcolor": "#E5ECF6",
            "gridcolor": "white",
            "gridwidth": 2,
            "linecolor": "white",
            "showbackground": true,
            "ticks": "",
            "zerolinecolor": "white"
           },
           "yaxis": {
            "backgroundcolor": "#E5ECF6",
            "gridcolor": "white",
            "gridwidth": 2,
            "linecolor": "white",
            "showbackground": true,
            "ticks": "",
            "zerolinecolor": "white"
           },
           "zaxis": {
            "backgroundcolor": "#E5ECF6",
            "gridcolor": "white",
            "gridwidth": 2,
            "linecolor": "white",
            "showbackground": true,
            "ticks": "",
            "zerolinecolor": "white"
           }
          },
          "shapedefaults": {
           "line": {
            "color": "#2a3f5f"
           }
          },
          "ternary": {
           "aaxis": {
            "gridcolor": "white",
            "linecolor": "white",
            "ticks": ""
           },
           "baxis": {
            "gridcolor": "white",
            "linecolor": "white",
            "ticks": ""
           },
           "bgcolor": "#E5ECF6",
           "caxis": {
            "gridcolor": "white",
            "linecolor": "white",
            "ticks": ""
           }
          },
          "title": {
           "x": 0.05
          },
          "xaxis": {
           "automargin": true,
           "gridcolor": "white",
           "linecolor": "white",
           "ticks": "",
           "title": {
            "standoff": 15
           },
           "zerolinecolor": "white",
           "zerolinewidth": 2
          },
          "yaxis": {
           "automargin": true,
           "gridcolor": "white",
           "linecolor": "white",
           "ticks": "",
           "title": {
            "standoff": 15
           },
           "zerolinecolor": "white",
           "zerolinewidth": 2
          }
         }
        },
        "title": {
         "text": "<b>Top 10 Most Affected Regions by Earthquakes in Indonesia</b>"
        },
        "width": 780,
        "xaxis": {
         "anchor": "y",
         "domain": [
          0,
          1
         ],
         "title": {
          "text": "<sub>Region</sub>"
         }
        },
        "yaxis": {
         "anchor": "x",
         "domain": [
          0,
          1
         ],
         "title": {
          "text": "<sub>Number of Earthquakes</sub>"
         }
        }
       }
      }
     },
     "metadata": {},
     "output_type": "display_data"
    },
    {
     "data": {
      "text/html": [
       "<div>\n",
       "<style scoped>\n",
       "    .dataframe tbody tr th:only-of-type {\n",
       "        vertical-align: middle;\n",
       "    }\n",
       "\n",
       "    .dataframe tbody tr th {\n",
       "        vertical-align: top;\n",
       "    }\n",
       "\n",
       "    .dataframe thead th {\n",
       "        text-align: right;\n",
       "    }\n",
       "</style>\n",
       "<table border=\"1\" class=\"dataframe\">\n",
       "  <thead>\n",
       "    <tr style=\"text-align: right;\">\n",
       "      <th></th>\n",
       "      <th>tgl</th>\n",
       "      <th>ot</th>\n",
       "      <th>lat</th>\n",
       "      <th>lon</th>\n",
       "      <th>depth</th>\n",
       "      <th>mag</th>\n",
       "      <th>remark</th>\n",
       "      <th>strike1</th>\n",
       "      <th>dip1</th>\n",
       "      <th>rake1</th>\n",
       "      <th>strike2</th>\n",
       "      <th>dip2</th>\n",
       "      <th>rake2</th>\n",
       "    </tr>\n",
       "  </thead>\n",
       "  <tbody>\n",
       "    <tr>\n",
       "      <th>0</th>\n",
       "      <td>2013-05-06</td>\n",
       "      <td>26:25.4</td>\n",
       "      <td>-7.33</td>\n",
       "      <td>107.71</td>\n",
       "      <td>19</td>\n",
       "      <td>3.1</td>\n",
       "      <td>Java - Indonesia</td>\n",
       "      <td>NaN</td>\n",
       "      <td>NaN</td>\n",
       "      <td>NaN</td>\n",
       "      <td>NaN</td>\n",
       "      <td>NaN</td>\n",
       "      <td>NaN</td>\n",
       "    </tr>\n",
       "    <tr>\n",
       "      <th>1</th>\n",
       "      <td>2013-05-07</td>\n",
       "      <td>12:39.7</td>\n",
       "      <td>-7.36</td>\n",
       "      <td>107.59</td>\n",
       "      <td>10</td>\n",
       "      <td>3.5</td>\n",
       "      <td>Java - Indonesia</td>\n",
       "      <td>NaN</td>\n",
       "      <td>NaN</td>\n",
       "      <td>NaN</td>\n",
       "      <td>NaN</td>\n",
       "      <td>NaN</td>\n",
       "      <td>NaN</td>\n",
       "    </tr>\n",
       "    <tr>\n",
       "      <th>2</th>\n",
       "      <td>2013-05-07</td>\n",
       "      <td>35:40.2</td>\n",
       "      <td>1.37</td>\n",
       "      <td>98.35</td>\n",
       "      <td>54</td>\n",
       "      <td>4.6</td>\n",
       "      <td>Northern Sumatra - Indonesia</td>\n",
       "      <td>NaN</td>\n",
       "      <td>NaN</td>\n",
       "      <td>NaN</td>\n",
       "      <td>NaN</td>\n",
       "      <td>NaN</td>\n",
       "      <td>NaN</td>\n",
       "    </tr>\n",
       "    <tr>\n",
       "      <th>3</th>\n",
       "      <td>2013-05-07</td>\n",
       "      <td>27:06.9</td>\n",
       "      <td>-7.33</td>\n",
       "      <td>107.69</td>\n",
       "      <td>17</td>\n",
       "      <td>3.0</td>\n",
       "      <td>Java - Indonesia</td>\n",
       "      <td>NaN</td>\n",
       "      <td>NaN</td>\n",
       "      <td>NaN</td>\n",
       "      <td>NaN</td>\n",
       "      <td>NaN</td>\n",
       "      <td>NaN</td>\n",
       "    </tr>\n",
       "    <tr>\n",
       "      <th>4</th>\n",
       "      <td>2013-05-07</td>\n",
       "      <td>22:00.5</td>\n",
       "      <td>0.66</td>\n",
       "      <td>123.91</td>\n",
       "      <td>257</td>\n",
       "      <td>3.5</td>\n",
       "      <td>Minahassa Peninsula - Sulawesi</td>\n",
       "      <td>NaN</td>\n",
       "      <td>NaN</td>\n",
       "      <td>NaN</td>\n",
       "      <td>NaN</td>\n",
       "      <td>NaN</td>\n",
       "      <td>NaN</td>\n",
       "    </tr>\n",
       "    <tr>\n",
       "      <th>...</th>\n",
       "      <td>...</td>\n",
       "      <td>...</td>\n",
       "      <td>...</td>\n",
       "      <td>...</td>\n",
       "      <td>...</td>\n",
       "      <td>...</td>\n",
       "      <td>...</td>\n",
       "      <td>...</td>\n",
       "      <td>...</td>\n",
       "      <td>...</td>\n",
       "      <td>...</td>\n",
       "      <td>...</td>\n",
       "      <td>...</td>\n",
       "    </tr>\n",
       "    <tr>\n",
       "      <th>77726</th>\n",
       "      <td>2023-01-26</td>\n",
       "      <td>25:09.3</td>\n",
       "      <td>3.24</td>\n",
       "      <td>127.18</td>\n",
       "      <td>10</td>\n",
       "      <td>4.0</td>\n",
       "      <td>Talaud Islands - Indonesia</td>\n",
       "      <td>NaN</td>\n",
       "      <td>NaN</td>\n",
       "      <td>NaN</td>\n",
       "      <td>NaN</td>\n",
       "      <td>NaN</td>\n",
       "      <td>NaN</td>\n",
       "    </tr>\n",
       "    <tr>\n",
       "      <th>77727</th>\n",
       "      <td>2023-01-26</td>\n",
       "      <td>15:03.9</td>\n",
       "      <td>2.70</td>\n",
       "      <td>127.10</td>\n",
       "      <td>10</td>\n",
       "      <td>3.9</td>\n",
       "      <td>Northern Molucca Sea</td>\n",
       "      <td>NaN</td>\n",
       "      <td>NaN</td>\n",
       "      <td>NaN</td>\n",
       "      <td>NaN</td>\n",
       "      <td>NaN</td>\n",
       "      <td>NaN</td>\n",
       "    </tr>\n",
       "    <tr>\n",
       "      <th>77728</th>\n",
       "      <td>2023-01-26</td>\n",
       "      <td>57:08.9</td>\n",
       "      <td>-7.83</td>\n",
       "      <td>121.07</td>\n",
       "      <td>10</td>\n",
       "      <td>3.8</td>\n",
       "      <td>Flores Sea</td>\n",
       "      <td>NaN</td>\n",
       "      <td>NaN</td>\n",
       "      <td>NaN</td>\n",
       "      <td>NaN</td>\n",
       "      <td>NaN</td>\n",
       "      <td>NaN</td>\n",
       "    </tr>\n",
       "    <tr>\n",
       "      <th>77729</th>\n",
       "      <td>2023-01-26</td>\n",
       "      <td>46:21.0</td>\n",
       "      <td>3.00</td>\n",
       "      <td>127.16</td>\n",
       "      <td>10</td>\n",
       "      <td>4.1</td>\n",
       "      <td>Northern Molucca Sea</td>\n",
       "      <td>NaN</td>\n",
       "      <td>NaN</td>\n",
       "      <td>NaN</td>\n",
       "      <td>NaN</td>\n",
       "      <td>NaN</td>\n",
       "      <td>NaN</td>\n",
       "    </tr>\n",
       "    <tr>\n",
       "      <th>77730</th>\n",
       "      <td>2023-01-26</td>\n",
       "      <td>00:35.2</td>\n",
       "      <td>-8.87</td>\n",
       "      <td>118.95</td>\n",
       "      <td>10</td>\n",
       "      <td>2.4</td>\n",
       "      <td>Sumbawa Region - Indonesia</td>\n",
       "      <td>NaN</td>\n",
       "      <td>NaN</td>\n",
       "      <td>NaN</td>\n",
       "      <td>NaN</td>\n",
       "      <td>NaN</td>\n",
       "      <td>NaN</td>\n",
       "    </tr>\n",
       "  </tbody>\n",
       "</table>\n",
       "<p>77731 rows × 13 columns</p>\n",
       "</div>"
      ],
      "text/plain": [
       "             tgl       ot   lat     lon  depth  mag  \\\n",
       "0     2013-05-06  26:25.4 -7.33  107.71     19  3.1   \n",
       "1     2013-05-07  12:39.7 -7.36  107.59     10  3.5   \n",
       "2     2013-05-07  35:40.2  1.37   98.35     54  4.6   \n",
       "3     2013-05-07  27:06.9 -7.33  107.69     17  3.0   \n",
       "4     2013-05-07  22:00.5  0.66  123.91    257  3.5   \n",
       "...          ...      ...   ...     ...    ...  ...   \n",
       "77726 2023-01-26  25:09.3  3.24  127.18     10  4.0   \n",
       "77727 2023-01-26  15:03.9  2.70  127.10     10  3.9   \n",
       "77728 2023-01-26  57:08.9 -7.83  121.07     10  3.8   \n",
       "77729 2023-01-26  46:21.0  3.00  127.16     10  4.1   \n",
       "77730 2023-01-26  00:35.2 -8.87  118.95     10  2.4   \n",
       "\n",
       "                               remark  strike1  dip1  rake1  strike2  dip2  \\\n",
       "0                    Java - Indonesia      NaN   NaN    NaN      NaN   NaN   \n",
       "1                    Java - Indonesia      NaN   NaN    NaN      NaN   NaN   \n",
       "2        Northern Sumatra - Indonesia      NaN   NaN    NaN      NaN   NaN   \n",
       "3                    Java - Indonesia      NaN   NaN    NaN      NaN   NaN   \n",
       "4      Minahassa Peninsula - Sulawesi      NaN   NaN    NaN      NaN   NaN   \n",
       "...                               ...      ...   ...    ...      ...   ...   \n",
       "77726      Talaud Islands - Indonesia      NaN   NaN    NaN      NaN   NaN   \n",
       "77727            Northern Molucca Sea      NaN   NaN    NaN      NaN   NaN   \n",
       "77728                      Flores Sea      NaN   NaN    NaN      NaN   NaN   \n",
       "77729            Northern Molucca Sea      NaN   NaN    NaN      NaN   NaN   \n",
       "77730      Sumbawa Region - Indonesia      NaN   NaN    NaN      NaN   NaN   \n",
       "\n",
       "       rake2  \n",
       "0        NaN  \n",
       "1        NaN  \n",
       "2        NaN  \n",
       "3        NaN  \n",
       "4        NaN  \n",
       "...      ...  \n",
       "77726    NaN  \n",
       "77727    NaN  \n",
       "77728    NaN  \n",
       "77729    NaN  \n",
       "77730    NaN  \n",
       "\n",
       "[77731 rows x 13 columns]"
      ]
     },
     "execution_count": 6,
     "metadata": {},
     "output_type": "execute_result"
    }
   ],
   "source": [
    "# 1. How many earthquakes have been recorded in Indonesia from 2013 to 2022?\n",
    "total_earthquakes = df_filter.shape[0]\n",
    "print(f\"From 2013 to 2022, {total_earthquakes} earthquakes have been recorded in Indonesia.\")\n",
    "\n",
    "# Yearly number of recorded earthquakes from 2013 to 2022\n",
    "df_year = df_filter.groupby(['year'])['tgl'].count().reset_index().rename(columns={'tgl': 'count'})  # Mengganti 'datetime' menjadi 'tgl'\n",
    "df_year.sort_values(['year'])\n",
    "print(df_year)\n",
    "\n",
    "portion_2021_2022 = df_year[df_year['year'] >= 2021]['count'].sum() / df_year['count'].sum()\n",
    "print(f\"The portion of the number of recorded earthquakes in 2021 and 2022 is {portion_2021_2022}.\")\n",
    "\n",
    "fig = px.bar(\n",
    "    df_year, y='count', x='year',\n",
    "    text_auto='.2s',\n",
    "    category_orders={'year': ['2022', '2021', '2020', '2019', '2018', '2017', '2016', '2015', '2014', '2013']},\n",
    "    color=['#bfbfbf', '#bfbfbf', '#bfbfbf', '#bfbfbf', '#bfbfbf', '#bfbfbf', '#437dce', '#bfbfbf', '#437dce', '#437dce'],\n",
    "    color_discrete_map=\"identity\",\n",
    "    width=780\n",
    ")\n",
    "\n",
    "fig.update_traces(hovertemplate=('<b>%{x}</b><br>%{y:.0f}'))\n",
    "\n",
    "fig.update_layout(\n",
    "    title=\"<b>The Number of Recorded Earthquakes in Indonesia</b><br><sub>Year</sub>\",\n",
    "    xaxis_title=\"<sub>Between 2013 and 2022, Indonesia experienced 77,261 earthquakes, a quarter of which occurred in 2021 and 2022.<br>However, the year with the highest number of recorded earthquakes was 2019.</sub>\",\n",
    "    yaxis_title=\"\",\n",
    "    plot_bgcolor='#fbfbfa'\n",
    ")\n",
    "\n",
    "fig.show()\n",
    "\n",
    "# 3. What are the top 10 most affected regions by earthquakes in Indonesia?\n",
    "df_region = df_filter.groupby(['remark'])['tgl'].count().reset_index().rename(columns={'tgl': 'count'})  # Mengganti 'region' menjadi 'remark'\n",
    "df_region = df_region.sort_values('count', ascending=False).head(10)\n",
    "print(df_region)\n",
    "\n",
    "fig = px.bar(\n",
    "    df_region, y='count', x='remark',  # Mengganti 'region' menjadi 'remark'\n",
    "    text='count',\n",
    "    color='count',\n",
    "    color_continuous_scale='Blues',\n",
    "    width=780\n",
    ")\n",
    "\n",
    "fig.update_traces(hovertemplate=(\"<b>%{x}</b><br>Number of Earthquakes: %{y}\"))\n",
    "\n",
    "fig.update_layout(\n",
    "    title=\"<b>Top 10 Most Affected Regions by Earthquakes in Indonesia</b>\",\n",
    "    xaxis_title=\"<sub>Region</sub>\",\n",
    "    yaxis_title=\"<sub>Number of Earthquakes</sub>\",\n",
    "    plot_bgcolor='#fbfbfa'\n",
    ")\n",
    "\n",
    "fig.show()\n",
    "data"
   ]
  },
  {
   "cell_type": "code",
   "execution_count": 12,
   "id": "6f63e9e2",
   "metadata": {},
   "outputs": [
    {
     "data": {
      "text/html": [
       "<div style=\"width:100%;\"><div style=\"position:relative;width:100%;height:0;padding-bottom:60%;\"><span style=\"color:#565656\">Make this Notebook Trusted to load map: File -> Trust Notebook</span><iframe srcdoc=\"&lt;!DOCTYPE html&gt;\n",
       "&lt;html&gt;\n",
       "&lt;head&gt;\n",
       "    \n",
       "    &lt;meta http-equiv=&quot;content-type&quot; content=&quot;text/html; charset=UTF-8&quot; /&gt;\n",
       "    \n",
       "        &lt;script&gt;\n",
       "            L_NO_TOUCH = false;\n",
       "            L_DISABLE_3D = false;\n",
       "        &lt;/script&gt;\n",
       "    \n",
       "    &lt;style&gt;html, body {width: 100%;height: 100%;margin: 0;padding: 0;}&lt;/style&gt;\n",
       "    &lt;style&gt;#map {position:absolute;top:0;bottom:0;right:0;left:0;}&lt;/style&gt;\n",
       "    &lt;script src=&quot;https://cdn.jsdelivr.net/npm/leaflet@1.9.3/dist/leaflet.js&quot;&gt;&lt;/script&gt;\n",
       "    &lt;script src=&quot;https://code.jquery.com/jquery-1.12.4.min.js&quot;&gt;&lt;/script&gt;\n",
       "    &lt;script src=&quot;https://cdn.jsdelivr.net/npm/bootstrap@5.2.2/dist/js/bootstrap.bundle.min.js&quot;&gt;&lt;/script&gt;\n",
       "    &lt;script src=&quot;https://cdnjs.cloudflare.com/ajax/libs/Leaflet.awesome-markers/2.0.2/leaflet.awesome-markers.js&quot;&gt;&lt;/script&gt;\n",
       "    &lt;link rel=&quot;stylesheet&quot; href=&quot;https://cdn.jsdelivr.net/npm/leaflet@1.9.3/dist/leaflet.css&quot;/&gt;\n",
       "    &lt;link rel=&quot;stylesheet&quot; href=&quot;https://cdn.jsdelivr.net/npm/bootstrap@5.2.2/dist/css/bootstrap.min.css&quot;/&gt;\n",
       "    &lt;link rel=&quot;stylesheet&quot; href=&quot;https://netdna.bootstrapcdn.com/bootstrap/3.0.0/css/bootstrap.min.css&quot;/&gt;\n",
       "    &lt;link rel=&quot;stylesheet&quot; href=&quot;https://cdn.jsdelivr.net/npm/@fortawesome/fontawesome-free@6.2.0/css/all.min.css&quot;/&gt;\n",
       "    &lt;link rel=&quot;stylesheet&quot; href=&quot;https://cdnjs.cloudflare.com/ajax/libs/Leaflet.awesome-markers/2.0.2/leaflet.awesome-markers.css&quot;/&gt;\n",
       "    &lt;link rel=&quot;stylesheet&quot; href=&quot;https://cdn.jsdelivr.net/gh/python-visualization/folium/folium/templates/leaflet.awesome.rotate.min.css&quot;/&gt;\n",
       "    \n",
       "            &lt;meta name=&quot;viewport&quot; content=&quot;width=device-width,\n",
       "                initial-scale=1.0, maximum-scale=1.0, user-scalable=no&quot; /&gt;\n",
       "            &lt;style&gt;\n",
       "                #map_ce6e40cb36c7a487e68d8e24467c3faa {\n",
       "                    position: relative;\n",
       "                    width: 100.0%;\n",
       "                    height: 100.0%;\n",
       "                    left: 0.0%;\n",
       "                    top: 0.0%;\n",
       "                }\n",
       "                .leaflet-container { font-size: 1rem; }\n",
       "            &lt;/style&gt;\n",
       "        \n",
       "&lt;/head&gt;\n",
       "&lt;body&gt;\n",
       "    \n",
       "    \n",
       "            &lt;div class=&quot;folium-map&quot; id=&quot;map_ce6e40cb36c7a487e68d8e24467c3faa&quot; &gt;&lt;/div&gt;\n",
       "        \n",
       "&lt;/body&gt;\n",
       "&lt;script&gt;\n",
       "    \n",
       "    \n",
       "            var map_ce6e40cb36c7a487e68d8e24467c3faa = L.map(\n",
       "                &quot;map_ce6e40cb36c7a487e68d8e24467c3faa&quot;,\n",
       "                {\n",
       "                    center: [-2.5, 118.0],\n",
       "                    crs: L.CRS.EPSG3857,\n",
       "                    zoom: 5,\n",
       "                    zoomControl: true,\n",
       "                    preferCanvas: false,\n",
       "                }\n",
       "            );\n",
       "\n",
       "            \n",
       "\n",
       "        \n",
       "    \n",
       "            var tile_layer_e1039f9b946c0d1fb1ffd23116f1ed55 = L.tileLayer(\n",
       "                &quot;https://{s}.tile.openstreetmap.org/{z}/{x}/{y}.png&quot;,\n",
       "                {&quot;attribution&quot;: &quot;Data by \\u0026copy; \\u003ca target=\\&quot;_blank\\&quot; href=\\&quot;http://openstreetmap.org\\&quot;\\u003eOpenStreetMap\\u003c/a\\u003e, under \\u003ca target=\\&quot;_blank\\&quot; href=\\&quot;http://www.openstreetmap.org/copyright\\&quot;\\u003eODbL\\u003c/a\\u003e.&quot;, &quot;detectRetina&quot;: false, &quot;maxNativeZoom&quot;: 18, &quot;maxZoom&quot;: 18, &quot;minZoom&quot;: 0, &quot;noWrap&quot;: false, &quot;opacity&quot;: 1, &quot;subdomains&quot;: &quot;abc&quot;, &quot;tms&quot;: false}\n",
       "            ).addTo(map_ce6e40cb36c7a487e68d8e24467c3faa);\n",
       "        \n",
       "    \n",
       "            var circle_marker_1238078f3bbae387dc5256cd43950d78 = L.circleMarker(\n",
       "                [3.21, 117.67],\n",
       "                {&quot;bubblingMouseEvents&quot;: true, &quot;color&quot;: &quot;blue&quot;, &quot;dashArray&quot;: null, &quot;dashOffset&quot;: null, &quot;fill&quot;: true, &quot;fillColor&quot;: &quot;blue&quot;, &quot;fillOpacity&quot;: 0.6, &quot;fillRule&quot;: &quot;evenodd&quot;, &quot;lineCap&quot;: &quot;round&quot;, &quot;lineJoin&quot;: &quot;round&quot;, &quot;opacity&quot;: 1.0, &quot;radius&quot;: 3, &quot;stroke&quot;: true, &quot;weight&quot;: 3}\n",
       "            ).addTo(map_ce6e40cb36c7a487e68d8e24467c3faa);\n",
       "        \n",
       "    \n",
       "        var popup_47dbf6ca7b878c36ae16066530db3bbd = L.popup({&quot;maxWidth&quot;: &quot;100%&quot;});\n",
       "\n",
       "        \n",
       "            \n",
       "                var html_261407eff41459d1e337399c1fec9c48 = $(`&lt;div id=&quot;html_261407eff41459d1e337399c1fec9c48&quot; style=&quot;width: 100.0%; height: 100.0%;&quot;&gt;Cluster: 0&lt;br&gt;Location: &lt;br&gt;Earthquake Count: 123&lt;/div&gt;`)[0];\n",
       "                popup_47dbf6ca7b878c36ae16066530db3bbd.setContent(html_261407eff41459d1e337399c1fec9c48);\n",
       "            \n",
       "        \n",
       "\n",
       "        circle_marker_1238078f3bbae387dc5256cd43950d78.bindPopup(popup_47dbf6ca7b878c36ae16066530db3bbd)\n",
       "        ;\n",
       "\n",
       "        \n",
       "    \n",
       "    \n",
       "            var circle_marker_0dfdbd30909a6e4e7ac87262d713533d = L.circleMarker(\n",
       "                [3.1, 123.22],\n",
       "                {&quot;bubblingMouseEvents&quot;: true, &quot;color&quot;: &quot;blue&quot;, &quot;dashArray&quot;: null, &quot;dashOffset&quot;: null, &quot;fill&quot;: true, &quot;fillColor&quot;: &quot;blue&quot;, &quot;fillOpacity&quot;: 0.6, &quot;fillRule&quot;: &quot;evenodd&quot;, &quot;lineCap&quot;: &quot;round&quot;, &quot;lineJoin&quot;: &quot;round&quot;, &quot;opacity&quot;: 1.0, &quot;radius&quot;: 3, &quot;stroke&quot;: true, &quot;weight&quot;: 3}\n",
       "            ).addTo(map_ce6e40cb36c7a487e68d8e24467c3faa);\n",
       "        \n",
       "    \n",
       "        var popup_5fd786452019adbaef45b675ee7e98c7 = L.popup({&quot;maxWidth&quot;: &quot;100%&quot;});\n",
       "\n",
       "        \n",
       "            \n",
       "                var html_c44c44263ec7fb107a03ce20defb75d0 = $(`&lt;div id=&quot;html_c44c44263ec7fb107a03ce20defb75d0&quot; style=&quot;width: 100.0%; height: 100.0%;&quot;&gt;Cluster: 0&lt;br&gt;Location: &lt;br&gt;Earthquake Count: 400&lt;/div&gt;`)[0];\n",
       "                popup_5fd786452019adbaef45b675ee7e98c7.setContent(html_c44c44263ec7fb107a03ce20defb75d0);\n",
       "            \n",
       "        \n",
       "\n",
       "        circle_marker_0dfdbd30909a6e4e7ac87262d713533d.bindPopup(popup_5fd786452019adbaef45b675ee7e98c7)\n",
       "        ;\n",
       "\n",
       "        \n",
       "    \n",
       "    \n",
       "            var circle_marker_05e795977cc29788f44af0d8e68e8844 = L.circleMarker(\n",
       "                [5.28, 128.65],\n",
       "                {&quot;bubblingMouseEvents&quot;: true, &quot;color&quot;: &quot;blue&quot;, &quot;dashArray&quot;: null, &quot;dashOffset&quot;: null, &quot;fill&quot;: true, &quot;fillColor&quot;: &quot;blue&quot;, &quot;fillOpacity&quot;: 0.6, &quot;fillRule&quot;: &quot;evenodd&quot;, &quot;lineCap&quot;: &quot;round&quot;, &quot;lineJoin&quot;: &quot;round&quot;, &quot;opacity&quot;: 1.0, &quot;radius&quot;: 3, &quot;stroke&quot;: true, &quot;weight&quot;: 3}\n",
       "            ).addTo(map_ce6e40cb36c7a487e68d8e24467c3faa);\n",
       "        \n",
       "    \n",
       "        var popup_bad0c34885c0bae3811171bf47626b5e = L.popup({&quot;maxWidth&quot;: &quot;100%&quot;});\n",
       "\n",
       "        \n",
       "            \n",
       "                var html_aa300b1acabdb660d6bf43fedc364b9e = $(`&lt;div id=&quot;html_aa300b1acabdb660d6bf43fedc364b9e&quot; style=&quot;width: 100.0%; height: 100.0%;&quot;&gt;Cluster: 0&lt;br&gt;Location: &lt;br&gt;Earthquake Count: 9&lt;/div&gt;`)[0];\n",
       "                popup_bad0c34885c0bae3811171bf47626b5e.setContent(html_aa300b1acabdb660d6bf43fedc364b9e);\n",
       "            \n",
       "        \n",
       "\n",
       "        circle_marker_05e795977cc29788f44af0d8e68e8844.bindPopup(popup_bad0c34885c0bae3811171bf47626b5e)\n",
       "        ;\n",
       "\n",
       "        \n",
       "    \n",
       "    \n",
       "            var circle_marker_6a60efd6a4d73be8ed3f4301a2fa993e = L.circleMarker(\n",
       "                [1.6, 127.84],\n",
       "                {&quot;bubblingMouseEvents&quot;: true, &quot;color&quot;: &quot;blue&quot;, &quot;dashArray&quot;: null, &quot;dashOffset&quot;: null, &quot;fill&quot;: true, &quot;fillColor&quot;: &quot;blue&quot;, &quot;fillOpacity&quot;: 0.6, &quot;fillRule&quot;: &quot;evenodd&quot;, &quot;lineCap&quot;: &quot;round&quot;, &quot;lineJoin&quot;: &quot;round&quot;, &quot;opacity&quot;: 1.0, &quot;radius&quot;: 3, &quot;stroke&quot;: true, &quot;weight&quot;: 3}\n",
       "            ).addTo(map_ce6e40cb36c7a487e68d8e24467c3faa);\n",
       "        \n",
       "    \n",
       "        var popup_fa277cf331a2e639d45632198120d5b9 = L.popup({&quot;maxWidth&quot;: &quot;100%&quot;});\n",
       "\n",
       "        \n",
       "            \n",
       "                var html_64c198947454e46a94777f6bfe94d514 = $(`&lt;div id=&quot;html_64c198947454e46a94777f6bfe94d514&quot; style=&quot;width: 100.0%; height: 100.0%;&quot;&gt;Cluster: 0&lt;br&gt;Location: Halmahera - Indonesia&lt;br&gt;Earthquake Count: 2696&lt;/div&gt;`)[0];\n",
       "                popup_fa277cf331a2e639d45632198120d5b9.setContent(html_64c198947454e46a94777f6bfe94d514);\n",
       "            \n",
       "        \n",
       "\n",
       "        circle_marker_6a60efd6a4d73be8ed3f4301a2fa993e.bindPopup(popup_fa277cf331a2e639d45632198120d5b9)\n",
       "        ;\n",
       "\n",
       "        \n",
       "    \n",
       "    \n",
       "            var circle_marker_7484088c2c390c67b0f718ec53a3a43a = L.circleMarker(\n",
       "                [-0.13, 132.33],\n",
       "                {&quot;bubblingMouseEvents&quot;: true, &quot;color&quot;: &quot;blue&quot;, &quot;dashArray&quot;: null, &quot;dashOffset&quot;: null, &quot;fill&quot;: true, &quot;fillColor&quot;: &quot;blue&quot;, &quot;fillOpacity&quot;: 0.6, &quot;fillRule&quot;: &quot;evenodd&quot;, &quot;lineCap&quot;: &quot;round&quot;, &quot;lineJoin&quot;: &quot;round&quot;, &quot;opacity&quot;: 1.0, &quot;radius&quot;: 3, &quot;stroke&quot;: true, &quot;weight&quot;: 3}\n",
       "            ).addTo(map_ce6e40cb36c7a487e68d8e24467c3faa);\n",
       "        \n",
       "    \n",
       "        var popup_9438deb67d13e6695944d24f07d60b24 = L.popup({&quot;maxWidth&quot;: &quot;100%&quot;});\n",
       "\n",
       "        \n",
       "            \n",
       "                var html_7c4df980b22c10ec84e1ee0db4bea85b = $(`&lt;div id=&quot;html_7c4df980b22c10ec84e1ee0db4bea85b&quot; style=&quot;width: 100.0%; height: 100.0%;&quot;&gt;Cluster: 0&lt;br&gt;Location: &lt;br&gt;Earthquake Count: 201&lt;/div&gt;`)[0];\n",
       "                popup_9438deb67d13e6695944d24f07d60b24.setContent(html_7c4df980b22c10ec84e1ee0db4bea85b);\n",
       "            \n",
       "        \n",
       "\n",
       "        circle_marker_7484088c2c390c67b0f718ec53a3a43a.bindPopup(popup_9438deb67d13e6695944d24f07d60b24)\n",
       "        ;\n",
       "\n",
       "        \n",
       "    \n",
       "    \n",
       "            var circle_marker_eab9bd5305330fbad2b88aca76d03bfa = L.circleMarker(\n",
       "                [0.09, 122.315],\n",
       "                {&quot;bubblingMouseEvents&quot;: true, &quot;color&quot;: &quot;blue&quot;, &quot;dashArray&quot;: null, &quot;dashOffset&quot;: null, &quot;fill&quot;: true, &quot;fillColor&quot;: &quot;blue&quot;, &quot;fillOpacity&quot;: 0.6, &quot;fillRule&quot;: &quot;evenodd&quot;, &quot;lineCap&quot;: &quot;round&quot;, &quot;lineJoin&quot;: &quot;round&quot;, &quot;opacity&quot;: 1.0, &quot;radius&quot;: 3, &quot;stroke&quot;: true, &quot;weight&quot;: 3}\n",
       "            ).addTo(map_ce6e40cb36c7a487e68d8e24467c3faa);\n",
       "        \n",
       "    \n",
       "        var popup_1d116444bddd51c5185792fdd0d9ffe6 = L.popup({&quot;maxWidth&quot;: &quot;100%&quot;});\n",
       "\n",
       "        \n",
       "            \n",
       "                var html_696e56029d6c0722b31574aae2328121 = $(`&lt;div id=&quot;html_696e56029d6c0722b31574aae2328121&quot; style=&quot;width: 100.0%; height: 100.0%;&quot;&gt;Cluster: 0&lt;br&gt;Location: Minahassa Peninsula - Sulawesi&lt;br&gt;Earthquake Count: 7896&lt;/div&gt;`)[0];\n",
       "                popup_1d116444bddd51c5185792fdd0d9ffe6.setContent(html_696e56029d6c0722b31574aae2328121);\n",
       "            \n",
       "        \n",
       "\n",
       "        circle_marker_eab9bd5305330fbad2b88aca76d03bfa.bindPopup(popup_1d116444bddd51c5185792fdd0d9ffe6)\n",
       "        ;\n",
       "\n",
       "        \n",
       "    \n",
       "    \n",
       "            var circle_marker_c44d93cab6778b570afd7b5c3863cbe4 = L.circleMarker(\n",
       "                [5.55, 126.34],\n",
       "                {&quot;bubblingMouseEvents&quot;: true, &quot;color&quot;: &quot;blue&quot;, &quot;dashArray&quot;: null, &quot;dashOffset&quot;: null, &quot;fill&quot;: true, &quot;fillColor&quot;: &quot;blue&quot;, &quot;fillOpacity&quot;: 0.6, &quot;fillRule&quot;: &quot;evenodd&quot;, &quot;lineCap&quot;: &quot;round&quot;, &quot;lineJoin&quot;: &quot;round&quot;, &quot;opacity&quot;: 1.0, &quot;radius&quot;: 3, &quot;stroke&quot;: true, &quot;weight&quot;: 3}\n",
       "            ).addTo(map_ce6e40cb36c7a487e68d8e24467c3faa);\n",
       "        \n",
       "    \n",
       "        var popup_852b0d60b3d756e4ef364bf2e7a73164 = L.popup({&quot;maxWidth&quot;: &quot;100%&quot;});\n",
       "\n",
       "        \n",
       "            \n",
       "                var html_38570d0306618a66f53e21262aa8405f = $(`&lt;div id=&quot;html_38570d0306618a66f53e21262aa8405f&quot; style=&quot;width: 100.0%; height: 100.0%;&quot;&gt;Cluster: 0&lt;br&gt;Location: &lt;br&gt;Earthquake Count: 667&lt;/div&gt;`)[0];\n",
       "                popup_852b0d60b3d756e4ef364bf2e7a73164.setContent(html_38570d0306618a66f53e21262aa8405f);\n",
       "            \n",
       "        \n",
       "\n",
       "        circle_marker_c44d93cab6778b570afd7b5c3863cbe4.bindPopup(popup_852b0d60b3d756e4ef364bf2e7a73164)\n",
       "        ;\n",
       "\n",
       "        \n",
       "    \n",
       "    \n",
       "            var circle_marker_d4cdc844cbc8878c1f43bec3d5f41c39 = L.circleMarker(\n",
       "                [3.48, 128.39],\n",
       "                {&quot;bubblingMouseEvents&quot;: true, &quot;color&quot;: &quot;blue&quot;, &quot;dashArray&quot;: null, &quot;dashOffset&quot;: null, &quot;fill&quot;: true, &quot;fillColor&quot;: &quot;blue&quot;, &quot;fillOpacity&quot;: 0.6, &quot;fillRule&quot;: &quot;evenodd&quot;, &quot;lineCap&quot;: &quot;round&quot;, &quot;lineJoin&quot;: &quot;round&quot;, &quot;opacity&quot;: 1.0, &quot;radius&quot;: 3, &quot;stroke&quot;: true, &quot;weight&quot;: 3}\n",
       "            ).addTo(map_ce6e40cb36c7a487e68d8e24467c3faa);\n",
       "        \n",
       "    \n",
       "        var popup_86f0853905984200a82b9df53aa6c8c4 = L.popup({&quot;maxWidth&quot;: &quot;100%&quot;});\n",
       "\n",
       "        \n",
       "            \n",
       "                var html_11b6c530b16bc117c0348f7e8c47fce1 = $(`&lt;div id=&quot;html_11b6c530b16bc117c0348f7e8c47fce1&quot; style=&quot;width: 100.0%; height: 100.0%;&quot;&gt;Cluster: 0&lt;br&gt;Location: &lt;br&gt;Earthquake Count: 215&lt;/div&gt;`)[0];\n",
       "                popup_86f0853905984200a82b9df53aa6c8c4.setContent(html_11b6c530b16bc117c0348f7e8c47fce1);\n",
       "            \n",
       "        \n",
       "\n",
       "        circle_marker_d4cdc844cbc8878c1f43bec3d5f41c39.bindPopup(popup_86f0853905984200a82b9df53aa6c8c4)\n",
       "        ;\n",
       "\n",
       "        \n",
       "    \n",
       "    \n",
       "            var circle_marker_d774d6d8a21d0d1586c8bf0d97258f1a = L.circleMarker(\n",
       "                [1.52, 126.44],\n",
       "                {&quot;bubblingMouseEvents&quot;: true, &quot;color&quot;: &quot;blue&quot;, &quot;dashArray&quot;: null, &quot;dashOffset&quot;: null, &quot;fill&quot;: true, &quot;fillColor&quot;: &quot;blue&quot;, &quot;fillOpacity&quot;: 0.6, &quot;fillRule&quot;: &quot;evenodd&quot;, &quot;lineCap&quot;: &quot;round&quot;, &quot;lineJoin&quot;: &quot;round&quot;, &quot;opacity&quot;: 1.0, &quot;radius&quot;: 3, &quot;stroke&quot;: true, &quot;weight&quot;: 3}\n",
       "            ).addTo(map_ce6e40cb36c7a487e68d8e24467c3faa);\n",
       "        \n",
       "    \n",
       "        var popup_5c42b53ad6aed81bb71d86c26a20b085 = L.popup({&quot;maxWidth&quot;: &quot;100%&quot;});\n",
       "\n",
       "        \n",
       "            \n",
       "                var html_a63f081d2018a7d29ddc2d131e818bc4 = $(`&lt;div id=&quot;html_a63f081d2018a7d29ddc2d131e818bc4&quot; style=&quot;width: 100.0%; height: 100.0%;&quot;&gt;Cluster: 0&lt;br&gt;Location: Northern Molucca Sea&lt;br&gt;Earthquake Count: 4368&lt;/div&gt;`)[0];\n",
       "                popup_5c42b53ad6aed81bb71d86c26a20b085.setContent(html_a63f081d2018a7d29ddc2d131e818bc4);\n",
       "            \n",
       "        \n",
       "\n",
       "        circle_marker_d774d6d8a21d0d1586c8bf0d97258f1a.bindPopup(popup_5c42b53ad6aed81bb71d86c26a20b085)\n",
       "        ;\n",
       "\n",
       "        \n",
       "    \n",
       "    \n",
       "            var circle_marker_da6064b97b8d3831ade62cf8012b82f0 = L.circleMarker(\n",
       "                [5.51, 127.2],\n",
       "                {&quot;bubblingMouseEvents&quot;: true, &quot;color&quot;: &quot;blue&quot;, &quot;dashArray&quot;: null, &quot;dashOffset&quot;: null, &quot;fill&quot;: true, &quot;fillColor&quot;: &quot;blue&quot;, &quot;fillOpacity&quot;: 0.6, &quot;fillRule&quot;: &quot;evenodd&quot;, &quot;lineCap&quot;: &quot;round&quot;, &quot;lineJoin&quot;: &quot;round&quot;, &quot;opacity&quot;: 1.0, &quot;radius&quot;: 3, &quot;stroke&quot;: true, &quot;weight&quot;: 3}\n",
       "            ).addTo(map_ce6e40cb36c7a487e68d8e24467c3faa);\n",
       "        \n",
       "    \n",
       "        var popup_7bca5d1c2710d75be5487d8271f233b3 = L.popup({&quot;maxWidth&quot;: &quot;100%&quot;});\n",
       "\n",
       "        \n",
       "            \n",
       "                var html_af6557979c18ba31aa83b289430b9bc7 = $(`&lt;div id=&quot;html_af6557979c18ba31aa83b289430b9bc7&quot; style=&quot;width: 100.0%; height: 100.0%;&quot;&gt;Cluster: 0&lt;br&gt;Location: &lt;br&gt;Earthquake Count: 129&lt;/div&gt;`)[0];\n",
       "                popup_7bca5d1c2710d75be5487d8271f233b3.setContent(html_af6557979c18ba31aa83b289430b9bc7);\n",
       "            \n",
       "        \n",
       "\n",
       "        circle_marker_da6064b97b8d3831ade62cf8012b82f0.bindPopup(popup_7bca5d1c2710d75be5487d8271f233b3)\n",
       "        ;\n",
       "\n",
       "        \n",
       "    \n",
       "    \n",
       "            var circle_marker_88a1818280c8ec166a3083e23ab5b3f8 = L.circleMarker(\n",
       "                [4.855, 113.39],\n",
       "                {&quot;bubblingMouseEvents&quot;: true, &quot;color&quot;: &quot;blue&quot;, &quot;dashArray&quot;: null, &quot;dashOffset&quot;: null, &quot;fill&quot;: true, &quot;fillColor&quot;: &quot;blue&quot;, &quot;fillOpacity&quot;: 0.6, &quot;fillRule&quot;: &quot;evenodd&quot;, &quot;lineCap&quot;: &quot;round&quot;, &quot;lineJoin&quot;: &quot;round&quot;, &quot;opacity&quot;: 1.0, &quot;radius&quot;: 3, &quot;stroke&quot;: true, &quot;weight&quot;: 3}\n",
       "            ).addTo(map_ce6e40cb36c7a487e68d8e24467c3faa);\n",
       "        \n",
       "    \n",
       "        var popup_6e9d3aa7ac0faded30febc33f4dc860c = L.popup({&quot;maxWidth&quot;: &quot;100%&quot;});\n",
       "\n",
       "        \n",
       "            \n",
       "                var html_bde567087db3c6ec89d004960a0f0ded = $(`&lt;div id=&quot;html_bde567087db3c6ec89d004960a0f0ded&quot; style=&quot;width: 100.0%; height: 100.0%;&quot;&gt;Cluster: 0&lt;br&gt;Location: &lt;br&gt;Earthquake Count: 2&lt;/div&gt;`)[0];\n",
       "                popup_6e9d3aa7ac0faded30febc33f4dc860c.setContent(html_bde567087db3c6ec89d004960a0f0ded);\n",
       "            \n",
       "        \n",
       "\n",
       "        circle_marker_88a1818280c8ec166a3083e23ab5b3f8.bindPopup(popup_6e9d3aa7ac0faded30febc33f4dc860c)\n",
       "        ;\n",
       "\n",
       "        \n",
       "    \n",
       "    \n",
       "            var circle_marker_0e847be2f72ae0f55ea121c1e1070dff = L.circleMarker(\n",
       "                [-0.21, 124.685],\n",
       "                {&quot;bubblingMouseEvents&quot;: true, &quot;color&quot;: &quot;blue&quot;, &quot;dashArray&quot;: null, &quot;dashOffset&quot;: null, &quot;fill&quot;: true, &quot;fillColor&quot;: &quot;blue&quot;, &quot;fillOpacity&quot;: 0.6, &quot;fillRule&quot;: &quot;evenodd&quot;, &quot;lineCap&quot;: &quot;round&quot;, &quot;lineJoin&quot;: &quot;round&quot;, &quot;opacity&quot;: 1.0, &quot;radius&quot;: 3, &quot;stroke&quot;: true, &quot;weight&quot;: 3}\n",
       "            ).addTo(map_ce6e40cb36c7a487e68d8e24467c3faa);\n",
       "        \n",
       "    \n",
       "        var popup_5d4d0a930591f6448d3f8a86ca2ba8c6 = L.popup({&quot;maxWidth&quot;: &quot;100%&quot;});\n",
       "\n",
       "        \n",
       "            \n",
       "                var html_bd9755992c94fd5ce36f6238d36383ac = $(`&lt;div id=&quot;html_bd9755992c94fd5ce36f6238d36383ac&quot; style=&quot;width: 100.0%; height: 100.0%;&quot;&gt;Cluster: 0&lt;br&gt;Location: &lt;br&gt;Earthquake Count: 822&lt;/div&gt;`)[0];\n",
       "                popup_5d4d0a930591f6448d3f8a86ca2ba8c6.setContent(html_bd9755992c94fd5ce36f6238d36383ac);\n",
       "            \n",
       "        \n",
       "\n",
       "        circle_marker_0e847be2f72ae0f55ea121c1e1070dff.bindPopup(popup_5d4d0a930591f6448d3f8a86ca2ba8c6)\n",
       "        ;\n",
       "\n",
       "        \n",
       "    \n",
       "    \n",
       "            var circle_marker_5e407eaf4f4b89ef14d3e6ecea27c8d7 = L.circleMarker(\n",
       "                [-1.28, 120.32],\n",
       "                {&quot;bubblingMouseEvents&quot;: true, &quot;color&quot;: &quot;blue&quot;, &quot;dashArray&quot;: null, &quot;dashOffset&quot;: null, &quot;fill&quot;: true, &quot;fillColor&quot;: &quot;blue&quot;, &quot;fillOpacity&quot;: 0.6, &quot;fillRule&quot;: &quot;evenodd&quot;, &quot;lineCap&quot;: &quot;round&quot;, &quot;lineJoin&quot;: &quot;round&quot;, &quot;opacity&quot;: 1.0, &quot;radius&quot;: 3, &quot;stroke&quot;: true, &quot;weight&quot;: 3}\n",
       "            ).addTo(map_ce6e40cb36c7a487e68d8e24467c3faa);\n",
       "        \n",
       "    \n",
       "        var popup_7563f2267a12fed259aa342d1b6c0966 = L.popup({&quot;maxWidth&quot;: &quot;100%&quot;});\n",
       "\n",
       "        \n",
       "            \n",
       "                var html_504e3a7ebe7bfb8bdf2ba03589e47bd5 = $(`&lt;div id=&quot;html_504e3a7ebe7bfb8bdf2ba03589e47bd5&quot; style=&quot;width: 100.0%; height: 100.0%;&quot;&gt;Cluster: 0&lt;br&gt;Location: Sulawesi - Indonesia&lt;br&gt;Earthquake Count: 1892&lt;/div&gt;`)[0];\n",
       "                popup_7563f2267a12fed259aa342d1b6c0966.setContent(html_504e3a7ebe7bfb8bdf2ba03589e47bd5);\n",
       "            \n",
       "        \n",
       "\n",
       "        circle_marker_5e407eaf4f4b89ef14d3e6ecea27c8d7.bindPopup(popup_7563f2267a12fed259aa342d1b6c0966)\n",
       "        ;\n",
       "\n",
       "        \n",
       "    \n",
       "    \n",
       "            var circle_marker_37c375df977faa1ebedac8bf53ebbb05 = L.circleMarker(\n",
       "                [5.38, 119.86],\n",
       "                {&quot;bubblingMouseEvents&quot;: true, &quot;color&quot;: &quot;blue&quot;, &quot;dashArray&quot;: null, &quot;dashOffset&quot;: null, &quot;fill&quot;: true, &quot;fillColor&quot;: &quot;blue&quot;, &quot;fillOpacity&quot;: 0.6, &quot;fillRule&quot;: &quot;evenodd&quot;, &quot;lineCap&quot;: &quot;round&quot;, &quot;lineJoin&quot;: &quot;round&quot;, &quot;opacity&quot;: 1.0, &quot;radius&quot;: 3, &quot;stroke&quot;: true, &quot;weight&quot;: 3}\n",
       "            ).addTo(map_ce6e40cb36c7a487e68d8e24467c3faa);\n",
       "        \n",
       "    \n",
       "        var popup_68a3cee041d514308dcb03c7f61f98a9 = L.popup({&quot;maxWidth&quot;: &quot;100%&quot;});\n",
       "\n",
       "        \n",
       "            \n",
       "                var html_e7edbe5efa02c8d8350361a4efd8c2b6 = $(`&lt;div id=&quot;html_e7edbe5efa02c8d8350361a4efd8c2b6&quot; style=&quot;width: 100.0%; height: 100.0%;&quot;&gt;Cluster: 0&lt;br&gt;Location: &lt;br&gt;Earthquake Count: 7&lt;/div&gt;`)[0];\n",
       "                popup_68a3cee041d514308dcb03c7f61f98a9.setContent(html_e7edbe5efa02c8d8350361a4efd8c2b6);\n",
       "            \n",
       "        \n",
       "\n",
       "        circle_marker_37c375df977faa1ebedac8bf53ebbb05.bindPopup(popup_68a3cee041d514308dcb03c7f61f98a9)\n",
       "        ;\n",
       "\n",
       "        \n",
       "    \n",
       "    \n",
       "            var circle_marker_f90b297ea3cbc4164d26a476bb40d6f7 = L.circleMarker(\n",
       "                [3.83, 126.72],\n",
       "                {&quot;bubblingMouseEvents&quot;: true, &quot;color&quot;: &quot;blue&quot;, &quot;dashArray&quot;: null, &quot;dashOffset&quot;: null, &quot;fill&quot;: true, &quot;fillColor&quot;: &quot;blue&quot;, &quot;fillOpacity&quot;: 0.6, &quot;fillRule&quot;: &quot;evenodd&quot;, &quot;lineCap&quot;: &quot;round&quot;, &quot;lineJoin&quot;: &quot;round&quot;, &quot;opacity&quot;: 1.0, &quot;radius&quot;: 3, &quot;stroke&quot;: true, &quot;weight&quot;: 3}\n",
       "            ).addTo(map_ce6e40cb36c7a487e68d8e24467c3faa);\n",
       "        \n",
       "    \n",
       "        var popup_ca0f4f098a818c48073dfa75308764f5 = L.popup({&quot;maxWidth&quot;: &quot;100%&quot;});\n",
       "\n",
       "        \n",
       "            \n",
       "                var html_0f4d5317cfc6210eb3da3bfb671b08d0 = $(`&lt;div id=&quot;html_0f4d5317cfc6210eb3da3bfb671b08d0&quot; style=&quot;width: 100.0%; height: 100.0%;&quot;&gt;Cluster: 0&lt;br&gt;Location: Talaud Islands - Indonesia&lt;br&gt;Earthquake Count: 1914&lt;/div&gt;`)[0];\n",
       "                popup_ca0f4f098a818c48073dfa75308764f5.setContent(html_0f4d5317cfc6210eb3da3bfb671b08d0);\n",
       "            \n",
       "        \n",
       "\n",
       "        circle_marker_f90b297ea3cbc4164d26a476bb40d6f7.bindPopup(popup_ca0f4f098a818c48073dfa75308764f5)\n",
       "        ;\n",
       "\n",
       "        \n",
       "    \n",
       "    \n",
       "            var circle_marker_f79cbcee4a4fee3bea87cacb18b4370e = L.circleMarker(\n",
       "                [4.8100000000000005, 133.055],\n",
       "                {&quot;bubblingMouseEvents&quot;: true, &quot;color&quot;: &quot;blue&quot;, &quot;dashArray&quot;: null, &quot;dashOffset&quot;: null, &quot;fill&quot;: true, &quot;fillColor&quot;: &quot;blue&quot;, &quot;fillOpacity&quot;: 0.6, &quot;fillRule&quot;: &quot;evenodd&quot;, &quot;lineCap&quot;: &quot;round&quot;, &quot;lineJoin&quot;: &quot;round&quot;, &quot;opacity&quot;: 1.0, &quot;radius&quot;: 3, &quot;stroke&quot;: true, &quot;weight&quot;: 3}\n",
       "            ).addTo(map_ce6e40cb36c7a487e68d8e24467c3faa);\n",
       "        \n",
       "    \n",
       "        var popup_49c1bf861fe9c70f86ffb459350f81e2 = L.popup({&quot;maxWidth&quot;: &quot;100%&quot;});\n",
       "\n",
       "        \n",
       "            \n",
       "                var html_a019adf69613b4fb9af936b751d426e4 = $(`&lt;div id=&quot;html_a019adf69613b4fb9af936b751d426e4&quot; style=&quot;width: 100.0%; height: 100.0%;&quot;&gt;Cluster: 0&lt;br&gt;Location: &lt;br&gt;Earthquake Count: 12&lt;/div&gt;`)[0];\n",
       "                popup_49c1bf861fe9c70f86ffb459350f81e2.setContent(html_a019adf69613b4fb9af936b751d426e4);\n",
       "            \n",
       "        \n",
       "\n",
       "        circle_marker_f79cbcee4a4fee3bea87cacb18b4370e.bindPopup(popup_49c1bf861fe9c70f86ffb459350f81e2)\n",
       "        ;\n",
       "\n",
       "        \n",
       "    \n",
       "    \n",
       "            var circle_marker_a63488c29350e99489d62b48bc0a9bf9 = L.circleMarker(\n",
       "                [-8.225000000000001, 114.89500000000001],\n",
       "                {&quot;bubblingMouseEvents&quot;: true, &quot;color&quot;: &quot;red&quot;, &quot;dashArray&quot;: null, &quot;dashOffset&quot;: null, &quot;fill&quot;: true, &quot;fillColor&quot;: &quot;red&quot;, &quot;fillOpacity&quot;: 0.6, &quot;fillRule&quot;: &quot;evenodd&quot;, &quot;lineCap&quot;: &quot;round&quot;, &quot;lineJoin&quot;: &quot;round&quot;, &quot;opacity&quot;: 1.0, &quot;radius&quot;: 3, &quot;stroke&quot;: true, &quot;weight&quot;: 3}\n",
       "            ).addTo(map_ce6e40cb36c7a487e68d8e24467c3faa);\n",
       "        \n",
       "    \n",
       "        var popup_14f57f60151c5868bb83b09505e26642 = L.popup({&quot;maxWidth&quot;: &quot;100%&quot;});\n",
       "\n",
       "        \n",
       "            \n",
       "                var html_df300e7a6ee9bb5441a4fbe9f1c52be7 = $(`&lt;div id=&quot;html_df300e7a6ee9bb5441a4fbe9f1c52be7&quot; style=&quot;width: 100.0%; height: 100.0%;&quot;&gt;Cluster: 1&lt;br&gt;Location: &lt;br&gt;Earthquake Count: 20&lt;/div&gt;`)[0];\n",
       "                popup_14f57f60151c5868bb83b09505e26642.setContent(html_df300e7a6ee9bb5441a4fbe9f1c52be7);\n",
       "            \n",
       "        \n",
       "\n",
       "        circle_marker_a63488c29350e99489d62b48bc0a9bf9.bindPopup(popup_14f57f60151c5868bb83b09505e26642)\n",
       "        ;\n",
       "\n",
       "        \n",
       "    \n",
       "    \n",
       "            var circle_marker_7d32cde42d168053c19e98c4a5ed42a0 = L.circleMarker(\n",
       "                [-7.225, 114.505],\n",
       "                {&quot;bubblingMouseEvents&quot;: true, &quot;color&quot;: &quot;red&quot;, &quot;dashArray&quot;: null, &quot;dashOffset&quot;: null, &quot;fill&quot;: true, &quot;fillColor&quot;: &quot;red&quot;, &quot;fillOpacity&quot;: 0.6, &quot;fillRule&quot;: &quot;evenodd&quot;, &quot;lineCap&quot;: &quot;round&quot;, &quot;lineJoin&quot;: &quot;round&quot;, &quot;opacity&quot;: 1.0, &quot;radius&quot;: 3, &quot;stroke&quot;: true, &quot;weight&quot;: 3}\n",
       "            ).addTo(map_ce6e40cb36c7a487e68d8e24467c3faa);\n",
       "        \n",
       "    \n",
       "        var popup_efe02dab1c64469cfdaddfe16a5f5bda = L.popup({&quot;maxWidth&quot;: &quot;100%&quot;});\n",
       "\n",
       "        \n",
       "            \n",
       "                var html_ca5b940568002780742a9eeb28fe5ad2 = $(`&lt;div id=&quot;html_ca5b940568002780742a9eeb28fe5ad2&quot; style=&quot;width: 100.0%; height: 100.0%;&quot;&gt;Cluster: 1&lt;br&gt;Location: &lt;br&gt;Earthquake Count: 46&lt;/div&gt;`)[0];\n",
       "                popup_efe02dab1c64469cfdaddfe16a5f5bda.setContent(html_ca5b940568002780742a9eeb28fe5ad2);\n",
       "            \n",
       "        \n",
       "\n",
       "        circle_marker_7d32cde42d168053c19e98c4a5ed42a0.bindPopup(popup_efe02dab1c64469cfdaddfe16a5f5bda)\n",
       "        ;\n",
       "\n",
       "        \n",
       "    \n",
       "    \n",
       "            var circle_marker_2e6fb75708910125e0d3a02872970eb6 = L.circleMarker(\n",
       "                [-2.55, 110.19],\n",
       "                {&quot;bubblingMouseEvents&quot;: true, &quot;color&quot;: &quot;red&quot;, &quot;dashArray&quot;: null, &quot;dashOffset&quot;: null, &quot;fill&quot;: true, &quot;fillColor&quot;: &quot;red&quot;, &quot;fillOpacity&quot;: 0.6, &quot;fillRule&quot;: &quot;evenodd&quot;, &quot;lineCap&quot;: &quot;round&quot;, &quot;lineJoin&quot;: &quot;round&quot;, &quot;opacity&quot;: 1.0, &quot;radius&quot;: 3, &quot;stroke&quot;: true, &quot;weight&quot;: 3}\n",
       "            ).addTo(map_ce6e40cb36c7a487e68d8e24467c3faa);\n",
       "        \n",
       "    \n",
       "        var popup_d6e38aff651f3c3d2f49a132fd8abfdb = L.popup({&quot;maxWidth&quot;: &quot;100%&quot;});\n",
       "\n",
       "        \n",
       "            \n",
       "                var html_6ca5d50187f747184b485f6a2e613508 = $(`&lt;div id=&quot;html_6ca5d50187f747184b485f6a2e613508&quot; style=&quot;width: 100.0%; height: 100.0%;&quot;&gt;Cluster: 1&lt;br&gt;Location: &lt;br&gt;Earthquake Count: 11&lt;/div&gt;`)[0];\n",
       "                popup_d6e38aff651f3c3d2f49a132fd8abfdb.setContent(html_6ca5d50187f747184b485f6a2e613508);\n",
       "            \n",
       "        \n",
       "\n",
       "        circle_marker_2e6fb75708910125e0d3a02872970eb6.bindPopup(popup_d6e38aff651f3c3d2f49a132fd8abfdb)\n",
       "        ;\n",
       "\n",
       "        \n",
       "    \n",
       "    \n",
       "            var circle_marker_8736c924adee0ce0e212ee5c8e660ad9 = L.circleMarker(\n",
       "                [-7.76, 107.58],\n",
       "                {&quot;bubblingMouseEvents&quot;: true, &quot;color&quot;: &quot;red&quot;, &quot;dashArray&quot;: null, &quot;dashOffset&quot;: null, &quot;fill&quot;: true, &quot;fillColor&quot;: &quot;red&quot;, &quot;fillOpacity&quot;: 0.6, &quot;fillRule&quot;: &quot;evenodd&quot;, &quot;lineCap&quot;: &quot;round&quot;, &quot;lineJoin&quot;: &quot;round&quot;, &quot;opacity&quot;: 1.0, &quot;radius&quot;: 3, &quot;stroke&quot;: true, &quot;weight&quot;: 3}\n",
       "            ).addTo(map_ce6e40cb36c7a487e68d8e24467c3faa);\n",
       "        \n",
       "    \n",
       "        var popup_ee6dc09f76fa9606b9aebfef50d79d0a = L.popup({&quot;maxWidth&quot;: &quot;100%&quot;});\n",
       "\n",
       "        \n",
       "            \n",
       "                var html_e60aa8388ee16b801ba809c9aba6ad5e = $(`&lt;div id=&quot;html_e60aa8388ee16b801ba809c9aba6ad5e&quot; style=&quot;width: 100.0%; height: 100.0%;&quot;&gt;Cluster: 1&lt;br&gt;Location: Java - Indonesia&lt;br&gt;Earthquake Count: 5238&lt;/div&gt;`)[0];\n",
       "                popup_ee6dc09f76fa9606b9aebfef50d79d0a.setContent(html_e60aa8388ee16b801ba809c9aba6ad5e);\n",
       "            \n",
       "        \n",
       "\n",
       "        circle_marker_8736c924adee0ce0e212ee5c8e660ad9.bindPopup(popup_ee6dc09f76fa9606b9aebfef50d79d0a)\n",
       "        ;\n",
       "\n",
       "        \n",
       "    \n",
       "    \n",
       "            var circle_marker_4f385b87cf65a8b1ce2c674f17e1a6e5 = L.circleMarker(\n",
       "                [-5.72, 110.36],\n",
       "                {&quot;bubblingMouseEvents&quot;: true, &quot;color&quot;: &quot;red&quot;, &quot;dashArray&quot;: null, &quot;dashOffset&quot;: null, &quot;fill&quot;: true, &quot;fillColor&quot;: &quot;red&quot;, &quot;fillOpacity&quot;: 0.6, &quot;fillRule&quot;: &quot;evenodd&quot;, &quot;lineCap&quot;: &quot;round&quot;, &quot;lineJoin&quot;: &quot;round&quot;, &quot;opacity&quot;: 1.0, &quot;radius&quot;: 3, &quot;stroke&quot;: true, &quot;weight&quot;: 3}\n",
       "            ).addTo(map_ce6e40cb36c7a487e68d8e24467c3faa);\n",
       "        \n",
       "    \n",
       "        var popup_43cbf5cb21155b27afac4c22f3a3a93b = L.popup({&quot;maxWidth&quot;: &quot;100%&quot;});\n",
       "\n",
       "        \n",
       "            \n",
       "                var html_9392bcbdab70c32b38c8da5334849b9d = $(`&lt;div id=&quot;html_9392bcbdab70c32b38c8da5334849b9d&quot; style=&quot;width: 100.0%; height: 100.0%;&quot;&gt;Cluster: 1&lt;br&gt;Location: &lt;br&gt;Earthquake Count: 55&lt;/div&gt;`)[0];\n",
       "                popup_43cbf5cb21155b27afac4c22f3a3a93b.setContent(html_9392bcbdab70c32b38c8da5334849b9d);\n",
       "            \n",
       "        \n",
       "\n",
       "        circle_marker_4f385b87cf65a8b1ce2c674f17e1a6e5.bindPopup(popup_43cbf5cb21155b27afac4c22f3a3a93b)\n",
       "        ;\n",
       "\n",
       "        \n",
       "    \n",
       "    \n",
       "            var circle_marker_2696ab1c58dd1d4a756074db207c1e06 = L.circleMarker(\n",
       "                [-7.2, 95.83],\n",
       "                {&quot;bubblingMouseEvents&quot;: true, &quot;color&quot;: &quot;red&quot;, &quot;dashArray&quot;: null, &quot;dashOffset&quot;: null, &quot;fill&quot;: true, &quot;fillColor&quot;: &quot;red&quot;, &quot;fillOpacity&quot;: 0.6, &quot;fillRule&quot;: &quot;evenodd&quot;, &quot;lineCap&quot;: &quot;round&quot;, &quot;lineJoin&quot;: &quot;round&quot;, &quot;opacity&quot;: 1.0, &quot;radius&quot;: 3, &quot;stroke&quot;: true, &quot;weight&quot;: 3}\n",
       "            ).addTo(map_ce6e40cb36c7a487e68d8e24467c3faa);\n",
       "        \n",
       "    \n",
       "        var popup_11058b54106d8c762d587861c4ed7600 = L.popup({&quot;maxWidth&quot;: &quot;100%&quot;});\n",
       "\n",
       "        \n",
       "            \n",
       "                var html_617c3c0705627715ccd5cd4ab3c2b871 = $(`&lt;div id=&quot;html_617c3c0705627715ccd5cd4ab3c2b871&quot; style=&quot;width: 100.0%; height: 100.0%;&quot;&gt;Cluster: 1&lt;br&gt;Location: &lt;br&gt;Earthquake Count: 3&lt;/div&gt;`)[0];\n",
       "                popup_11058b54106d8c762d587861c4ed7600.setContent(html_617c3c0705627715ccd5cd4ab3c2b871);\n",
       "            \n",
       "        \n",
       "\n",
       "        circle_marker_2696ab1c58dd1d4a756074db207c1e06.bindPopup(popup_11058b54106d8c762d587861c4ed7600)\n",
       "        ;\n",
       "\n",
       "        \n",
       "    \n",
       "    \n",
       "            var circle_marker_fa5b284d0d19f36c6bd00cb0041dabd3 = L.circleMarker(\n",
       "                [-9.37, 114.06],\n",
       "                {&quot;bubblingMouseEvents&quot;: true, &quot;color&quot;: &quot;red&quot;, &quot;dashArray&quot;: null, &quot;dashOffset&quot;: null, &quot;fill&quot;: true, &quot;fillColor&quot;: &quot;red&quot;, &quot;fillOpacity&quot;: 0.6, &quot;fillRule&quot;: &quot;evenodd&quot;, &quot;lineCap&quot;: &quot;round&quot;, &quot;lineJoin&quot;: &quot;round&quot;, &quot;opacity&quot;: 1.0, &quot;radius&quot;: 3, &quot;stroke&quot;: true, &quot;weight&quot;: 3}\n",
       "            ).addTo(map_ce6e40cb36c7a487e68d8e24467c3faa);\n",
       "        \n",
       "    \n",
       "        var popup_dfbb1fafd4cb3b578987346b292ea964 = L.popup({&quot;maxWidth&quot;: &quot;100%&quot;});\n",
       "\n",
       "        \n",
       "            \n",
       "                var html_55ddc797c526bff4aab3db93d5d15108 = $(`&lt;div id=&quot;html_55ddc797c526bff4aab3db93d5d15108&quot; style=&quot;width: 100.0%; height: 100.0%;&quot;&gt;Cluster: 1&lt;br&gt;Location: &lt;br&gt;Earthquake Count: 6&lt;/div&gt;`)[0];\n",
       "                popup_dfbb1fafd4cb3b578987346b292ea964.setContent(html_55ddc797c526bff4aab3db93d5d15108);\n",
       "            \n",
       "        \n",
       "\n",
       "        circle_marker_fa5b284d0d19f36c6bd00cb0041dabd3.bindPopup(popup_dfbb1fafd4cb3b578987346b292ea964)\n",
       "        ;\n",
       "\n",
       "        \n",
       "    \n",
       "    \n",
       "            var circle_marker_3b398c68b7cf1d960efa51f6152fb6c3 = L.circleMarker(\n",
       "                [-9.32, 110.41],\n",
       "                {&quot;bubblingMouseEvents&quot;: true, &quot;color&quot;: &quot;red&quot;, &quot;dashArray&quot;: null, &quot;dashOffset&quot;: null, &quot;fill&quot;: true, &quot;fillColor&quot;: &quot;red&quot;, &quot;fillOpacity&quot;: 0.6, &quot;fillRule&quot;: &quot;evenodd&quot;, &quot;lineCap&quot;: &quot;round&quot;, &quot;lineJoin&quot;: &quot;round&quot;, &quot;opacity&quot;: 1.0, &quot;radius&quot;: 3, &quot;stroke&quot;: true, &quot;weight&quot;: 3}\n",
       "            ).addTo(map_ce6e40cb36c7a487e68d8e24467c3faa);\n",
       "        \n",
       "    \n",
       "        var popup_7fc4f5e547ece4de4debbed5ab4c5369 = L.popup({&quot;maxWidth&quot;: &quot;100%&quot;});\n",
       "\n",
       "        \n",
       "            \n",
       "                var html_f1adb1e961e697be1939baf61166216f = $(`&lt;div id=&quot;html_f1adb1e961e697be1939baf61166216f&quot; style=&quot;width: 100.0%; height: 100.0%;&quot;&gt;Cluster: 1&lt;br&gt;Location: &lt;br&gt;Earthquake Count: 1181&lt;/div&gt;`)[0];\n",
       "                popup_7fc4f5e547ece4de4debbed5ab4c5369.setContent(html_f1adb1e961e697be1939baf61166216f);\n",
       "            \n",
       "        \n",
       "\n",
       "        circle_marker_3b398c68b7cf1d960efa51f6152fb6c3.bindPopup(popup_7fc4f5e547ece4de4debbed5ab4c5369)\n",
       "        ;\n",
       "\n",
       "        \n",
       "    \n",
       "    \n",
       "            var circle_marker_94cff8b2647ef1dabc7334a0fc319a87 = L.circleMarker(\n",
       "                [-4.86, 102.87],\n",
       "                {&quot;bubblingMouseEvents&quot;: true, &quot;color&quot;: &quot;red&quot;, &quot;dashArray&quot;: null, &quot;dashOffset&quot;: null, &quot;fill&quot;: true, &quot;fillColor&quot;: &quot;red&quot;, &quot;fillOpacity&quot;: 0.6, &quot;fillRule&quot;: &quot;evenodd&quot;, &quot;lineCap&quot;: &quot;round&quot;, &quot;lineJoin&quot;: &quot;round&quot;, &quot;opacity&quot;: 1.0, &quot;radius&quot;: 3, &quot;stroke&quot;: true, &quot;weight&quot;: 3}\n",
       "            ).addTo(map_ce6e40cb36c7a487e68d8e24467c3faa);\n",
       "        \n",
       "    \n",
       "        var popup_202c08eec1bd26db94dd0e473f9d5805 = L.popup({&quot;maxWidth&quot;: &quot;100%&quot;});\n",
       "\n",
       "        \n",
       "            \n",
       "                var html_ba915badf2f7a59c5bb9e4aa5df4a67a = $(`&lt;div id=&quot;html_ba915badf2f7a59c5bb9e4aa5df4a67a&quot; style=&quot;width: 100.0%; height: 100.0%;&quot;&gt;Cluster: 1&lt;br&gt;Location: Southern Sumatra - Indonesia&lt;br&gt;Earthquake Count: 2295&lt;/div&gt;`)[0];\n",
       "                popup_202c08eec1bd26db94dd0e473f9d5805.setContent(html_ba915badf2f7a59c5bb9e4aa5df4a67a);\n",
       "            \n",
       "        \n",
       "\n",
       "        circle_marker_94cff8b2647ef1dabc7334a0fc319a87.bindPopup(popup_202c08eec1bd26db94dd0e473f9d5805)\n",
       "        ;\n",
       "\n",
       "        \n",
       "    \n",
       "    \n",
       "            var circle_marker_2e35ecb25d017df086faf33ce43a0b2c = L.circleMarker(\n",
       "                [-6.29, 103.34],\n",
       "                {&quot;bubblingMouseEvents&quot;: true, &quot;color&quot;: &quot;red&quot;, &quot;dashArray&quot;: null, &quot;dashOffset&quot;: null, &quot;fill&quot;: true, &quot;fillColor&quot;: &quot;red&quot;, &quot;fillOpacity&quot;: 0.6, &quot;fillRule&quot;: &quot;evenodd&quot;, &quot;lineCap&quot;: &quot;round&quot;, &quot;lineJoin&quot;: &quot;round&quot;, &quot;opacity&quot;: 1.0, &quot;radius&quot;: 3, &quot;stroke&quot;: true, &quot;weight&quot;: 3}\n",
       "            ).addTo(map_ce6e40cb36c7a487e68d8e24467c3faa);\n",
       "        \n",
       "    \n",
       "        var popup_75621f6264cfee875f339e4d31d3c99a = L.popup({&quot;maxWidth&quot;: &quot;100%&quot;});\n",
       "\n",
       "        \n",
       "            \n",
       "                var html_838a54df91a1e86ecf3bf6c3d3d3c7e8 = $(`&lt;div id=&quot;html_838a54df91a1e86ecf3bf6c3d3d3c7e8&quot; style=&quot;width: 100.0%; height: 100.0%;&quot;&gt;Cluster: 1&lt;br&gt;Location: &lt;br&gt;Earthquake Count: 663&lt;/div&gt;`)[0];\n",
       "                popup_75621f6264cfee875f339e4d31d3c99a.setContent(html_838a54df91a1e86ecf3bf6c3d3d3c7e8);\n",
       "            \n",
       "        \n",
       "\n",
       "        circle_marker_2e35ecb25d017df086faf33ce43a0b2c.bindPopup(popup_75621f6264cfee875f339e4d31d3c99a)\n",
       "        ;\n",
       "\n",
       "        \n",
       "    \n",
       "    \n",
       "            var circle_marker_8b21404df07c4c0f8ee1dbc4a9879331 = L.circleMarker(\n",
       "                [-8.37, 116.5],\n",
       "                {&quot;bubblingMouseEvents&quot;: true, &quot;color&quot;: &quot;red&quot;, &quot;dashArray&quot;: null, &quot;dashOffset&quot;: null, &quot;fill&quot;: true, &quot;fillColor&quot;: &quot;red&quot;, &quot;fillOpacity&quot;: 0.6, &quot;fillRule&quot;: &quot;evenodd&quot;, &quot;lineCap&quot;: &quot;round&quot;, &quot;lineJoin&quot;: &quot;round&quot;, &quot;opacity&quot;: 1.0, &quot;radius&quot;: 3, &quot;stroke&quot;: true, &quot;weight&quot;: 3}\n",
       "            ).addTo(map_ce6e40cb36c7a487e68d8e24467c3faa);\n",
       "        \n",
       "    \n",
       "        var popup_e53ef3f4b615d4c374883706c6f8d357 = L.popup({&quot;maxWidth&quot;: &quot;100%&quot;});\n",
       "\n",
       "        \n",
       "            \n",
       "                var html_e9b80c11947dd1e2bfd79744ed5e2fa0 = $(`&lt;div id=&quot;html_e9b80c11947dd1e2bfd79744ed5e2fa0&quot; style=&quot;width: 100.0%; height: 100.0%;&quot;&gt;Cluster: 1&lt;br&gt;Location: &lt;br&gt;Earthquake Count: 11&lt;/div&gt;`)[0];\n",
       "                popup_e53ef3f4b615d4c374883706c6f8d357.setContent(html_e9b80c11947dd1e2bfd79744ed5e2fa0);\n",
       "            \n",
       "        \n",
       "\n",
       "        circle_marker_8b21404df07c4c0f8ee1dbc4a9879331.bindPopup(popup_e53ef3f4b615d4c374883706c6f8d357)\n",
       "        ;\n",
       "\n",
       "        \n",
       "    \n",
       "    \n",
       "            var circle_marker_ee85ed8dcea5552501f81284e817b922 = L.circleMarker(\n",
       "                [-6.42, 105.17],\n",
       "                {&quot;bubblingMouseEvents&quot;: true, &quot;color&quot;: &quot;red&quot;, &quot;dashArray&quot;: null, &quot;dashOffset&quot;: null, &quot;fill&quot;: true, &quot;fillColor&quot;: &quot;red&quot;, &quot;fillOpacity&quot;: 0.6, &quot;fillRule&quot;: &quot;evenodd&quot;, &quot;lineCap&quot;: &quot;round&quot;, &quot;lineJoin&quot;: &quot;round&quot;, &quot;opacity&quot;: 1.0, &quot;radius&quot;: 3, &quot;stroke&quot;: true, &quot;weight&quot;: 3}\n",
       "            ).addTo(map_ce6e40cb36c7a487e68d8e24467c3faa);\n",
       "        \n",
       "    \n",
       "        var popup_fcc73bf75fc35eba8b7cacde4f1283c0 = L.popup({&quot;maxWidth&quot;: &quot;100%&quot;});\n",
       "\n",
       "        \n",
       "            \n",
       "                var html_014501f53c8a005242565232cd048b47 = $(`&lt;div id=&quot;html_014501f53c8a005242565232cd048b47&quot; style=&quot;width: 100.0%; height: 100.0%;&quot;&gt;Cluster: 1&lt;br&gt;Location: &lt;br&gt;Earthquake Count: 879&lt;/div&gt;`)[0];\n",
       "                popup_fcc73bf75fc35eba8b7cacde4f1283c0.setContent(html_014501f53c8a005242565232cd048b47);\n",
       "            \n",
       "        \n",
       "\n",
       "        circle_marker_ee85ed8dcea5552501f81284e817b922.bindPopup(popup_fcc73bf75fc35eba8b7cacde4f1283c0)\n",
       "        ;\n",
       "\n",
       "        \n",
       "    \n",
       "    \n",
       "            var circle_marker_ecc6e5bdac3375fcad0371e38daa7e7c = L.circleMarker(\n",
       "                [0.61, 110.35],\n",
       "                {&quot;bubblingMouseEvents&quot;: true, &quot;color&quot;: &quot;green&quot;, &quot;dashArray&quot;: null, &quot;dashOffset&quot;: null, &quot;fill&quot;: true, &quot;fillColor&quot;: &quot;green&quot;, &quot;fillOpacity&quot;: 0.6, &quot;fillRule&quot;: &quot;evenodd&quot;, &quot;lineCap&quot;: &quot;round&quot;, &quot;lineJoin&quot;: &quot;round&quot;, &quot;opacity&quot;: 1.0, &quot;radius&quot;: 3, &quot;stroke&quot;: true, &quot;weight&quot;: 3}\n",
       "            ).addTo(map_ce6e40cb36c7a487e68d8e24467c3faa);\n",
       "        \n",
       "    \n",
       "        var popup_0adb3ddc60f2e7a5896343c027a8a110 = L.popup({&quot;maxWidth&quot;: &quot;100%&quot;});\n",
       "\n",
       "        \n",
       "            \n",
       "                var html_1cdf463dbe80d4e29b18a7fe9679329d = $(`&lt;div id=&quot;html_1cdf463dbe80d4e29b18a7fe9679329d&quot; style=&quot;width: 100.0%; height: 100.0%;&quot;&gt;Cluster: 2&lt;br&gt;Location: &lt;br&gt;Earthquake Count: 9&lt;/div&gt;`)[0];\n",
       "                popup_0adb3ddc60f2e7a5896343c027a8a110.setContent(html_1cdf463dbe80d4e29b18a7fe9679329d);\n",
       "            \n",
       "        \n",
       "\n",
       "        circle_marker_ecc6e5bdac3375fcad0371e38daa7e7c.bindPopup(popup_0adb3ddc60f2e7a5896343c027a8a110)\n",
       "        ;\n",
       "\n",
       "        \n",
       "    \n",
       "    \n",
       "            var circle_marker_326a83db2ef654e3cccae807cd20e951 = L.circleMarker(\n",
       "                [-0.65, 106.58],\n",
       "                {&quot;bubblingMouseEvents&quot;: true, &quot;color&quot;: &quot;green&quot;, &quot;dashArray&quot;: null, &quot;dashOffset&quot;: null, &quot;fill&quot;: true, &quot;fillColor&quot;: &quot;green&quot;, &quot;fillOpacity&quot;: 0.6, &quot;fillRule&quot;: &quot;evenodd&quot;, &quot;lineCap&quot;: &quot;round&quot;, &quot;lineJoin&quot;: &quot;round&quot;, &quot;opacity&quot;: 1.0, &quot;radius&quot;: 3, &quot;stroke&quot;: true, &quot;weight&quot;: 3}\n",
       "            ).addTo(map_ce6e40cb36c7a487e68d8e24467c3faa);\n",
       "        \n",
       "    \n",
       "        var popup_a97296c830aed5f4eeefb919de6a8a1e = L.popup({&quot;maxWidth&quot;: &quot;100%&quot;});\n",
       "\n",
       "        \n",
       "            \n",
       "                var html_9dbb59d17e9ca388a2a0c0e41c516a21 = $(`&lt;div id=&quot;html_9dbb59d17e9ca388a2a0c0e41c516a21&quot; style=&quot;width: 100.0%; height: 100.0%;&quot;&gt;Cluster: 2&lt;br&gt;Location: &lt;br&gt;Earthquake Count: 1&lt;/div&gt;`)[0];\n",
       "                popup_a97296c830aed5f4eeefb919de6a8a1e.setContent(html_9dbb59d17e9ca388a2a0c0e41c516a21);\n",
       "            \n",
       "        \n",
       "\n",
       "        circle_marker_326a83db2ef654e3cccae807cd20e951.bindPopup(popup_a97296c830aed5f4eeefb919de6a8a1e)\n",
       "        ;\n",
       "\n",
       "        \n",
       "    \n",
       "    \n",
       "            var circle_marker_bf5a259fa78752c497160b535265c94a = L.circleMarker(\n",
       "                [3.18, 103.35],\n",
       "                {&quot;bubblingMouseEvents&quot;: true, &quot;color&quot;: &quot;green&quot;, &quot;dashArray&quot;: null, &quot;dashOffset&quot;: null, &quot;fill&quot;: true, &quot;fillColor&quot;: &quot;green&quot;, &quot;fillOpacity&quot;: 0.6, &quot;fillRule&quot;: &quot;evenodd&quot;, &quot;lineCap&quot;: &quot;round&quot;, &quot;lineJoin&quot;: &quot;round&quot;, &quot;opacity&quot;: 1.0, &quot;radius&quot;: 3, &quot;stroke&quot;: true, &quot;weight&quot;: 3}\n",
       "            ).addTo(map_ce6e40cb36c7a487e68d8e24467c3faa);\n",
       "        \n",
       "    \n",
       "        var popup_6a1f9a2063e0f9951aff427abf9b0e2a = L.popup({&quot;maxWidth&quot;: &quot;100%&quot;});\n",
       "\n",
       "        \n",
       "            \n",
       "                var html_e2e7ba6c8bde34b5341e90f6ba1d8fad = $(`&lt;div id=&quot;html_e2e7ba6c8bde34b5341e90f6ba1d8fad&quot; style=&quot;width: 100.0%; height: 100.0%;&quot;&gt;Cluster: 2&lt;br&gt;Location: &lt;br&gt;Earthquake Count: 2&lt;/div&gt;`)[0];\n",
       "                popup_6a1f9a2063e0f9951aff427abf9b0e2a.setContent(html_e2e7ba6c8bde34b5341e90f6ba1d8fad);\n",
       "            \n",
       "        \n",
       "\n",
       "        circle_marker_bf5a259fa78752c497160b535265c94a.bindPopup(popup_6a1f9a2063e0f9951aff427abf9b0e2a)\n",
       "        ;\n",
       "\n",
       "        \n",
       "    \n",
       "    \n",
       "            var circle_marker_6d250e19d6eae121b79bd8f0e848efaf = L.circleMarker(\n",
       "                [2.335, 97.88],\n",
       "                {&quot;bubblingMouseEvents&quot;: true, &quot;color&quot;: &quot;green&quot;, &quot;dashArray&quot;: null, &quot;dashOffset&quot;: null, &quot;fill&quot;: true, &quot;fillColor&quot;: &quot;green&quot;, &quot;fillOpacity&quot;: 0.6, &quot;fillRule&quot;: &quot;evenodd&quot;, &quot;lineCap&quot;: &quot;round&quot;, &quot;lineJoin&quot;: &quot;round&quot;, &quot;opacity&quot;: 1.0, &quot;radius&quot;: 3, &quot;stroke&quot;: true, &quot;weight&quot;: 3}\n",
       "            ).addTo(map_ce6e40cb36c7a487e68d8e24467c3faa);\n",
       "        \n",
       "    \n",
       "        var popup_b4cdd62cbdc04816d10f038ac5939859 = L.popup({&quot;maxWidth&quot;: &quot;100%&quot;});\n",
       "\n",
       "        \n",
       "            \n",
       "                var html_a49e799d5d7fa268da0ae6653819a90a = $(`&lt;div id=&quot;html_a49e799d5d7fa268da0ae6653819a90a&quot; style=&quot;width: 100.0%; height: 100.0%;&quot;&gt;Cluster: 2&lt;br&gt;Location: Northern Sumatra - Indonesia&lt;br&gt;Earthquake Count: 4778&lt;/div&gt;`)[0];\n",
       "                popup_b4cdd62cbdc04816d10f038ac5939859.setContent(html_a49e799d5d7fa268da0ae6653819a90a);\n",
       "            \n",
       "        \n",
       "\n",
       "        circle_marker_6d250e19d6eae121b79bd8f0e848efaf.bindPopup(popup_b4cdd62cbdc04816d10f038ac5939859)\n",
       "        ;\n",
       "\n",
       "        \n",
       "    \n",
       "    \n",
       "            var circle_marker_22ec2ae1d5da5cd9b45fdf88efdc7cc6 = L.circleMarker(\n",
       "                [1.545, 96.54],\n",
       "                {&quot;bubblingMouseEvents&quot;: true, &quot;color&quot;: &quot;green&quot;, &quot;dashArray&quot;: null, &quot;dashOffset&quot;: null, &quot;fill&quot;: true, &quot;fillColor&quot;: &quot;green&quot;, &quot;fillOpacity&quot;: 0.6, &quot;fillRule&quot;: &quot;evenodd&quot;, &quot;lineCap&quot;: &quot;round&quot;, &quot;lineJoin&quot;: &quot;round&quot;, &quot;opacity&quot;: 1.0, &quot;radius&quot;: 3, &quot;stroke&quot;: true, &quot;weight&quot;: 3}\n",
       "            ).addTo(map_ce6e40cb36c7a487e68d8e24467c3faa);\n",
       "        \n",
       "    \n",
       "        var popup_4a3b35afe1d0c5d72b6d1773df34c216 = L.popup({&quot;maxWidth&quot;: &quot;100%&quot;});\n",
       "\n",
       "        \n",
       "            \n",
       "                var html_31aed166bbeb5b88a36aa0433766bf18 = $(`&lt;div id=&quot;html_31aed166bbeb5b88a36aa0433766bf18&quot; style=&quot;width: 100.0%; height: 100.0%;&quot;&gt;Cluster: 2&lt;br&gt;Location: &lt;br&gt;Earthquake Count: 748&lt;/div&gt;`)[0];\n",
       "                popup_4a3b35afe1d0c5d72b6d1773df34c216.setContent(html_31aed166bbeb5b88a36aa0433766bf18);\n",
       "            \n",
       "        \n",
       "\n",
       "        circle_marker_22ec2ae1d5da5cd9b45fdf88efdc7cc6.bindPopup(popup_4a3b35afe1d0c5d72b6d1773df34c216)\n",
       "        ;\n",
       "\n",
       "        \n",
       "    \n",
       "    \n",
       "            var circle_marker_cac4de94e7d959bf95177cd95e081226 = L.circleMarker(\n",
       "                [2.58, 107.22],\n",
       "                {&quot;bubblingMouseEvents&quot;: true, &quot;color&quot;: &quot;green&quot;, &quot;dashArray&quot;: null, &quot;dashOffset&quot;: null, &quot;fill&quot;: true, &quot;fillColor&quot;: &quot;green&quot;, &quot;fillOpacity&quot;: 0.6, &quot;fillRule&quot;: &quot;evenodd&quot;, &quot;lineCap&quot;: &quot;round&quot;, &quot;lineJoin&quot;: &quot;round&quot;, &quot;opacity&quot;: 1.0, &quot;radius&quot;: 3, &quot;stroke&quot;: true, &quot;weight&quot;: 3}\n",
       "            ).addTo(map_ce6e40cb36c7a487e68d8e24467c3faa);\n",
       "        \n",
       "    \n",
       "        var popup_f4fadbb63b09a7810d8e4207982e90a7 = L.popup({&quot;maxWidth&quot;: &quot;100%&quot;});\n",
       "\n",
       "        \n",
       "            \n",
       "                var html_621e36a5c1a8a051301ecde10052ec4f = $(`&lt;div id=&quot;html_621e36a5c1a8a051301ecde10052ec4f&quot; style=&quot;width: 100.0%; height: 100.0%;&quot;&gt;Cluster: 2&lt;br&gt;Location: &lt;br&gt;Earthquake Count: 7&lt;/div&gt;`)[0];\n",
       "                popup_f4fadbb63b09a7810d8e4207982e90a7.setContent(html_621e36a5c1a8a051301ecde10052ec4f);\n",
       "            \n",
       "        \n",
       "\n",
       "        circle_marker_cac4de94e7d959bf95177cd95e081226.bindPopup(popup_f4fadbb63b09a7810d8e4207982e90a7)\n",
       "        ;\n",
       "\n",
       "        \n",
       "    \n",
       "    \n",
       "            var circle_marker_345525aa8cb6897d79db5c31bfcb09f2 = L.circleMarker(\n",
       "                [-1.79, 100.18],\n",
       "                {&quot;bubblingMouseEvents&quot;: true, &quot;color&quot;: &quot;green&quot;, &quot;dashArray&quot;: null, &quot;dashOffset&quot;: null, &quot;fill&quot;: true, &quot;fillColor&quot;: &quot;green&quot;, &quot;fillOpacity&quot;: 0.6, &quot;fillRule&quot;: &quot;evenodd&quot;, &quot;lineCap&quot;: &quot;round&quot;, &quot;lineJoin&quot;: &quot;round&quot;, &quot;opacity&quot;: 1.0, &quot;radius&quot;: 3, &quot;stroke&quot;: true, &quot;weight&quot;: 3}\n",
       "            ).addTo(map_ce6e40cb36c7a487e68d8e24467c3faa);\n",
       "        \n",
       "    \n",
       "        var popup_26fc5fa785212185e745f954d0abcc76 = L.popup({&quot;maxWidth&quot;: &quot;100%&quot;});\n",
       "\n",
       "        \n",
       "            \n",
       "                var html_2162595f1e9d861e99b773bbac8cb14c = $(`&lt;div id=&quot;html_2162595f1e9d861e99b773bbac8cb14c&quot; style=&quot;width: 100.0%; height: 100.0%;&quot;&gt;Cluster: 2&lt;br&gt;Location: Southern Sumatra - Indonesia&lt;br&gt;Earthquake Count: 1790&lt;/div&gt;`)[0];\n",
       "                popup_26fc5fa785212185e745f954d0abcc76.setContent(html_2162595f1e9d861e99b773bbac8cb14c);\n",
       "            \n",
       "        \n",
       "\n",
       "        circle_marker_345525aa8cb6897d79db5c31bfcb09f2.bindPopup(popup_26fc5fa785212185e745f954d0abcc76)\n",
       "        ;\n",
       "\n",
       "        \n",
       "    \n",
       "    \n",
       "            var circle_marker_1395cfb26d6c9c95f1dbe5b1b8aebafb = L.circleMarker(\n",
       "                [-0.66, 97.31],\n",
       "                {&quot;bubblingMouseEvents&quot;: true, &quot;color&quot;: &quot;green&quot;, &quot;dashArray&quot;: null, &quot;dashOffset&quot;: null, &quot;fill&quot;: true, &quot;fillColor&quot;: &quot;green&quot;, &quot;fillOpacity&quot;: 0.6, &quot;fillRule&quot;: &quot;evenodd&quot;, &quot;lineCap&quot;: &quot;round&quot;, &quot;lineJoin&quot;: &quot;round&quot;, &quot;opacity&quot;: 1.0, &quot;radius&quot;: 3, &quot;stroke&quot;: true, &quot;weight&quot;: 3}\n",
       "            ).addTo(map_ce6e40cb36c7a487e68d8e24467c3faa);\n",
       "        \n",
       "    \n",
       "        var popup_1bc3f4494a2debed2bea91decf4a9c67 = L.popup({&quot;maxWidth&quot;: &quot;100%&quot;});\n",
       "\n",
       "        \n",
       "            \n",
       "                var html_8831a0029a24dd4f61d69f8e515fdeae = $(`&lt;div id=&quot;html_8831a0029a24dd4f61d69f8e515fdeae&quot; style=&quot;width: 100.0%; height: 100.0%;&quot;&gt;Cluster: 2&lt;br&gt;Location: &lt;br&gt;Earthquake Count: 141&lt;/div&gt;`)[0];\n",
       "                popup_1bc3f4494a2debed2bea91decf4a9c67.setContent(html_8831a0029a24dd4f61d69f8e515fdeae);\n",
       "            \n",
       "        \n",
       "\n",
       "        circle_marker_1395cfb26d6c9c95f1dbe5b1b8aebafb.bindPopup(popup_1bc3f4494a2debed2bea91decf4a9c67)\n",
       "        ;\n",
       "\n",
       "        \n",
       "    \n",
       "    \n",
       "            var circle_marker_befdc007002493c001a930c081c25c96 = L.circleMarker(\n",
       "                [-5.325, 133.74],\n",
       "                {&quot;bubblingMouseEvents&quot;: true, &quot;color&quot;: &quot;orange&quot;, &quot;dashArray&quot;: null, &quot;dashOffset&quot;: null, &quot;fill&quot;: true, &quot;fillColor&quot;: &quot;orange&quot;, &quot;fillOpacity&quot;: 0.6, &quot;fillRule&quot;: &quot;evenodd&quot;, &quot;lineCap&quot;: &quot;round&quot;, &quot;lineJoin&quot;: &quot;round&quot;, &quot;opacity&quot;: 1.0, &quot;radius&quot;: 3, &quot;stroke&quot;: true, &quot;weight&quot;: 3}\n",
       "            ).addTo(map_ce6e40cb36c7a487e68d8e24467c3faa);\n",
       "        \n",
       "    \n",
       "        var popup_137fb060125fa8de68e7397874936359 = L.popup({&quot;maxWidth&quot;: &quot;100%&quot;});\n",
       "\n",
       "        \n",
       "            \n",
       "                var html_131986e977e9c2d1419cd0c7ca0fd5c4 = $(`&lt;div id=&quot;html_131986e977e9c2d1419cd0c7ca0fd5c4&quot; style=&quot;width: 100.0%; height: 100.0%;&quot;&gt;Cluster: 3&lt;br&gt;Location: &lt;br&gt;Earthquake Count: 114&lt;/div&gt;`)[0];\n",
       "                popup_137fb060125fa8de68e7397874936359.setContent(html_131986e977e9c2d1419cd0c7ca0fd5c4);\n",
       "            \n",
       "        \n",
       "\n",
       "        circle_marker_befdc007002493c001a930c081c25c96.bindPopup(popup_137fb060125fa8de68e7397874936359)\n",
       "        ;\n",
       "\n",
       "        \n",
       "    \n",
       "    \n",
       "            var circle_marker_6893b261338c680d988ce9f50767214d = L.circleMarker(\n",
       "                [-5.99, 129.8],\n",
       "                {&quot;bubblingMouseEvents&quot;: true, &quot;color&quot;: &quot;orange&quot;, &quot;dashArray&quot;: null, &quot;dashOffset&quot;: null, &quot;fill&quot;: true, &quot;fillColor&quot;: &quot;orange&quot;, &quot;fillOpacity&quot;: 0.6, &quot;fillRule&quot;: &quot;evenodd&quot;, &quot;lineCap&quot;: &quot;round&quot;, &quot;lineJoin&quot;: &quot;round&quot;, &quot;opacity&quot;: 1.0, &quot;radius&quot;: 3, &quot;stroke&quot;: true, &quot;weight&quot;: 3}\n",
       "            ).addTo(map_ce6e40cb36c7a487e68d8e24467c3faa);\n",
       "        \n",
       "    \n",
       "        var popup_7aa9125294051f394174dabf73d52ae1 = L.popup({&quot;maxWidth&quot;: &quot;100%&quot;});\n",
       "\n",
       "        \n",
       "            \n",
       "                var html_579f7e4353f49342d96977e0715c1f02 = $(`&lt;div id=&quot;html_579f7e4353f49342d96977e0715c1f02&quot; style=&quot;width: 100.0%; height: 100.0%;&quot;&gt;Cluster: 3&lt;br&gt;Location: Banda Sea&lt;br&gt;Earthquake Count: 2679&lt;/div&gt;`)[0];\n",
       "                popup_7aa9125294051f394174dabf73d52ae1.setContent(html_579f7e4353f49342d96977e0715c1f02);\n",
       "            \n",
       "        \n",
       "\n",
       "        circle_marker_6893b261338c680d988ce9f50767214d.bindPopup(popup_7aa9125294051f394174dabf73d52ae1)\n",
       "        ;\n",
       "\n",
       "        \n",
       "    \n",
       "    \n",
       "            var circle_marker_2d07b3d3aa1190860e404a042c2f148d = L.circleMarker(\n",
       "                [-2.53, 115.35],\n",
       "                {&quot;bubblingMouseEvents&quot;: true, &quot;color&quot;: &quot;orange&quot;, &quot;dashArray&quot;: null, &quot;dashOffset&quot;: null, &quot;fill&quot;: true, &quot;fillColor&quot;: &quot;orange&quot;, &quot;fillOpacity&quot;: 0.6, &quot;fillRule&quot;: &quot;evenodd&quot;, &quot;lineCap&quot;: &quot;round&quot;, &quot;lineJoin&quot;: &quot;round&quot;, &quot;opacity&quot;: 1.0, &quot;radius&quot;: 3, &quot;stroke&quot;: true, &quot;weight&quot;: 3}\n",
       "            ).addTo(map_ce6e40cb36c7a487e68d8e24467c3faa);\n",
       "        \n",
       "    \n",
       "        var popup_6d04c2be28b5dc8b49b0a60bab6eeff7 = L.popup({&quot;maxWidth&quot;: &quot;100%&quot;});\n",
       "\n",
       "        \n",
       "            \n",
       "                var html_52dbf7edcf0065bbedb3e54bfc9143a1 = $(`&lt;div id=&quot;html_52dbf7edcf0065bbedb3e54bfc9143a1&quot; style=&quot;width: 100.0%; height: 100.0%;&quot;&gt;Cluster: 3&lt;br&gt;Location: &lt;br&gt;Earthquake Count: 1&lt;/div&gt;`)[0];\n",
       "                popup_6d04c2be28b5dc8b49b0a60bab6eeff7.setContent(html_52dbf7edcf0065bbedb3e54bfc9143a1);\n",
       "            \n",
       "        \n",
       "\n",
       "        circle_marker_2d07b3d3aa1190860e404a042c2f148d.bindPopup(popup_6d04c2be28b5dc8b49b0a60bab6eeff7)\n",
       "        ;\n",
       "\n",
       "        \n",
       "    \n",
       "    \n",
       "            var circle_marker_decb634acc6418aa40b63986886086ef = L.circleMarker(\n",
       "                [-3.52, 126.73],\n",
       "                {&quot;bubblingMouseEvents&quot;: true, &quot;color&quot;: &quot;orange&quot;, &quot;dashArray&quot;: null, &quot;dashOffset&quot;: null, &quot;fill&quot;: true, &quot;fillColor&quot;: &quot;orange&quot;, &quot;fillOpacity&quot;: 0.6, &quot;fillRule&quot;: &quot;evenodd&quot;, &quot;lineCap&quot;: &quot;round&quot;, &quot;lineJoin&quot;: &quot;round&quot;, &quot;opacity&quot;: 1.0, &quot;radius&quot;: 3, &quot;stroke&quot;: true, &quot;weight&quot;: 3}\n",
       "            ).addTo(map_ce6e40cb36c7a487e68d8e24467c3faa);\n",
       "        \n",
       "    \n",
       "        var popup_0257b18b87207f8d538f7dac73958aa4 = L.popup({&quot;maxWidth&quot;: &quot;100%&quot;});\n",
       "\n",
       "        \n",
       "            \n",
       "                var html_beafeb147815f05102551955aab70ea5 = $(`&lt;div id=&quot;html_beafeb147815f05102551955aab70ea5&quot; style=&quot;width: 100.0%; height: 100.0%;&quot;&gt;Cluster: 3&lt;br&gt;Location: &lt;br&gt;Earthquake Count: 73&lt;/div&gt;`)[0];\n",
       "                popup_0257b18b87207f8d538f7dac73958aa4.setContent(html_beafeb147815f05102551955aab70ea5);\n",
       "            \n",
       "        \n",
       "\n",
       "        circle_marker_decb634acc6418aa40b63986886086ef.bindPopup(popup_0257b18b87207f8d538f7dac73958aa4)\n",
       "        ;\n",
       "\n",
       "        \n",
       "    \n",
       "    \n",
       "            var circle_marker_e80af55121705a8ed94f9a21744b5d5a = L.circleMarker(\n",
       "                [-2.75, 127.92],\n",
       "                {&quot;bubblingMouseEvents&quot;: true, &quot;color&quot;: &quot;orange&quot;, &quot;dashArray&quot;: null, &quot;dashOffset&quot;: null, &quot;fill&quot;: true, &quot;fillColor&quot;: &quot;orange&quot;, &quot;fillOpacity&quot;: 0.6, &quot;fillRule&quot;: &quot;evenodd&quot;, &quot;lineCap&quot;: &quot;round&quot;, &quot;lineJoin&quot;: &quot;round&quot;, &quot;opacity&quot;: 1.0, &quot;radius&quot;: 3, &quot;stroke&quot;: true, &quot;weight&quot;: 3}\n",
       "            ).addTo(map_ce6e40cb36c7a487e68d8e24467c3faa);\n",
       "        \n",
       "    \n",
       "        var popup_c25d24c521947b1a3cabba3c4713c1ab = L.popup({&quot;maxWidth&quot;: &quot;100%&quot;});\n",
       "\n",
       "        \n",
       "            \n",
       "                var html_3703a3df75e17f1bdde20027dcdb7595 = $(`&lt;div id=&quot;html_3703a3df75e17f1bdde20027dcdb7595&quot; style=&quot;width: 100.0%; height: 100.0%;&quot;&gt;Cluster: 3&lt;br&gt;Location: &lt;br&gt;Earthquake Count: 1296&lt;/div&gt;`)[0];\n",
       "                popup_c25d24c521947b1a3cabba3c4713c1ab.setContent(html_3703a3df75e17f1bdde20027dcdb7595);\n",
       "            \n",
       "        \n",
       "\n",
       "        circle_marker_e80af55121705a8ed94f9a21744b5d5a.bindPopup(popup_c25d24c521947b1a3cabba3c4713c1ab)\n",
       "        ;\n",
       "\n",
       "        \n",
       "    \n",
       "    \n",
       "            var circle_marker_ea4aa3065f9e09bebedf9f806c7a5d5a = L.circleMarker(\n",
       "                [-1.03, 127.9],\n",
       "                {&quot;bubblingMouseEvents&quot;: true, &quot;color&quot;: &quot;orange&quot;, &quot;dashArray&quot;: null, &quot;dashOffset&quot;: null, &quot;fill&quot;: true, &quot;fillColor&quot;: &quot;orange&quot;, &quot;fillOpacity&quot;: 0.6, &quot;fillRule&quot;: &quot;evenodd&quot;, &quot;lineCap&quot;: &quot;round&quot;, &quot;lineJoin&quot;: &quot;round&quot;, &quot;opacity&quot;: 1.0, &quot;radius&quot;: 3, &quot;stroke&quot;: true, &quot;weight&quot;: 3}\n",
       "            ).addTo(map_ce6e40cb36c7a487e68d8e24467c3faa);\n",
       "        \n",
       "    \n",
       "        var popup_9a4f50d5576d01f091f20037c87ac1e1 = L.popup({&quot;maxWidth&quot;: &quot;100%&quot;});\n",
       "\n",
       "        \n",
       "            \n",
       "                var html_6f08819426b82d47fa8518e7a659e0a8 = $(`&lt;div id=&quot;html_6f08819426b82d47fa8518e7a659e0a8&quot; style=&quot;width: 100.0%; height: 100.0%;&quot;&gt;Cluster: 3&lt;br&gt;Location: &lt;br&gt;Earthquake Count: 447&lt;/div&gt;`)[0];\n",
       "                popup_9a4f50d5576d01f091f20037c87ac1e1.setContent(html_6f08819426b82d47fa8518e7a659e0a8);\n",
       "            \n",
       "        \n",
       "\n",
       "        circle_marker_ea4aa3065f9e09bebedf9f806c7a5d5a.bindPopup(popup_9a4f50d5576d01f091f20037c87ac1e1)\n",
       "        ;\n",
       "\n",
       "        \n",
       "    \n",
       "    \n",
       "            var circle_marker_0bd8dc9f113e79080d422b7055d18b91 = L.circleMarker(\n",
       "                [-3.13, 138.83],\n",
       "                {&quot;bubblingMouseEvents&quot;: true, &quot;color&quot;: &quot;orange&quot;, &quot;dashArray&quot;: null, &quot;dashOffset&quot;: null, &quot;fill&quot;: true, &quot;fillColor&quot;: &quot;orange&quot;, &quot;fillOpacity&quot;: 0.6, &quot;fillRule&quot;: &quot;evenodd&quot;, &quot;lineCap&quot;: &quot;round&quot;, &quot;lineJoin&quot;: &quot;round&quot;, &quot;opacity&quot;: 1.0, &quot;radius&quot;: 3, &quot;stroke&quot;: true, &quot;weight&quot;: 3}\n",
       "            ).addTo(map_ce6e40cb36c7a487e68d8e24467c3faa);\n",
       "        \n",
       "    \n",
       "        var popup_87bbe0e19dee30ec2108454a0872d2e8 = L.popup({&quot;maxWidth&quot;: &quot;100%&quot;});\n",
       "\n",
       "        \n",
       "            \n",
       "                var html_4f78c3b13feb6fb814a474787e857ee1 = $(`&lt;div id=&quot;html_4f78c3b13feb6fb814a474787e857ee1&quot; style=&quot;width: 100.0%; height: 100.0%;&quot;&gt;Cluster: 3&lt;br&gt;Location: &lt;br&gt;Earthquake Count: 1480&lt;/div&gt;`)[0];\n",
       "                popup_87bbe0e19dee30ec2108454a0872d2e8.setContent(html_4f78c3b13feb6fb814a474787e857ee1);\n",
       "            \n",
       "        \n",
       "\n",
       "        circle_marker_0bd8dc9f113e79080d422b7055d18b91.bindPopup(popup_87bbe0e19dee30ec2108454a0872d2e8)\n",
       "        ;\n",
       "\n",
       "        \n",
       "    \n",
       "    \n",
       "            var circle_marker_6b5a0363bc69b9202257ca6707805b7d = L.circleMarker(\n",
       "                [-1.93, 133.74],\n",
       "                {&quot;bubblingMouseEvents&quot;: true, &quot;color&quot;: &quot;orange&quot;, &quot;dashArray&quot;: null, &quot;dashOffset&quot;: null, &quot;fill&quot;: true, &quot;fillColor&quot;: &quot;orange&quot;, &quot;fillOpacity&quot;: 0.6, &quot;fillRule&quot;: &quot;evenodd&quot;, &quot;lineCap&quot;: &quot;round&quot;, &quot;lineJoin&quot;: &quot;round&quot;, &quot;opacity&quot;: 1.0, &quot;radius&quot;: 3, &quot;stroke&quot;: true, &quot;weight&quot;: 3}\n",
       "            ).addTo(map_ce6e40cb36c7a487e68d8e24467c3faa);\n",
       "        \n",
       "    \n",
       "        var popup_3831b7ccccf83790624316202ee1ca96 = L.popup({&quot;maxWidth&quot;: &quot;100%&quot;});\n",
       "\n",
       "        \n",
       "            \n",
       "                var html_04204568787c4db40d30fdf576b36909 = $(`&lt;div id=&quot;html_04204568787c4db40d30fdf576b36909&quot; style=&quot;width: 100.0%; height: 100.0%;&quot;&gt;Cluster: 3&lt;br&gt;Location: Irian Jaya Region - Indonesia&lt;br&gt;Earthquake Count: 2136&lt;/div&gt;`)[0];\n",
       "                popup_3831b7ccccf83790624316202ee1ca96.setContent(html_04204568787c4db40d30fdf576b36909);\n",
       "            \n",
       "        \n",
       "\n",
       "        circle_marker_6b5a0363bc69b9202257ca6707805b7d.bindPopup(popup_3831b7ccccf83790624316202ee1ca96)\n",
       "        ;\n",
       "\n",
       "        \n",
       "    \n",
       "    \n",
       "            var circle_marker_1074658224bc8717cae2a22be2119fa4 = L.circleMarker(\n",
       "                [-4.15, 117.71],\n",
       "                {&quot;bubblingMouseEvents&quot;: true, &quot;color&quot;: &quot;orange&quot;, &quot;dashArray&quot;: null, &quot;dashOffset&quot;: null, &quot;fill&quot;: true, &quot;fillColor&quot;: &quot;orange&quot;, &quot;fillOpacity&quot;: 0.6, &quot;fillRule&quot;: &quot;evenodd&quot;, &quot;lineCap&quot;: &quot;round&quot;, &quot;lineJoin&quot;: &quot;round&quot;, &quot;opacity&quot;: 1.0, &quot;radius&quot;: 3, &quot;stroke&quot;: true, &quot;weight&quot;: 3}\n",
       "            ).addTo(map_ce6e40cb36c7a487e68d8e24467c3faa);\n",
       "        \n",
       "    \n",
       "        var popup_84980633866feb2f33d77b8686380ddb = L.popup({&quot;maxWidth&quot;: &quot;100%&quot;});\n",
       "\n",
       "        \n",
       "            \n",
       "                var html_a9bc05e9e16adc431ea10e4bb907695d = $(`&lt;div id=&quot;html_a9bc05e9e16adc431ea10e4bb907695d&quot; style=&quot;width: 100.0%; height: 100.0%;&quot;&gt;Cluster: 3&lt;br&gt;Location: &lt;br&gt;Earthquake Count: 1&lt;/div&gt;`)[0];\n",
       "                popup_84980633866feb2f33d77b8686380ddb.setContent(html_a9bc05e9e16adc431ea10e4bb907695d);\n",
       "            \n",
       "        \n",
       "\n",
       "        circle_marker_1074658224bc8717cae2a22be2119fa4.bindPopup(popup_84980633866feb2f33d77b8686380ddb)\n",
       "        ;\n",
       "\n",
       "        \n",
       "    \n",
       "    \n",
       "            var circle_marker_60f118a0388fbb242a040da9af15963c = L.circleMarker(\n",
       "                [-2.675, 141.26],\n",
       "                {&quot;bubblingMouseEvents&quot;: true, &quot;color&quot;: &quot;orange&quot;, &quot;dashArray&quot;: null, &quot;dashOffset&quot;: null, &quot;fill&quot;: true, &quot;fillColor&quot;: &quot;orange&quot;, &quot;fillOpacity&quot;: 0.6, &quot;fillRule&quot;: &quot;evenodd&quot;, &quot;lineCap&quot;: &quot;round&quot;, &quot;lineJoin&quot;: &quot;round&quot;, &quot;opacity&quot;: 1.0, &quot;radius&quot;: 3, &quot;stroke&quot;: true, &quot;weight&quot;: 3}\n",
       "            ).addTo(map_ce6e40cb36c7a487e68d8e24467c3faa);\n",
       "        \n",
       "    \n",
       "        var popup_8b01ea4eeb22fe665ca12196c6a79545 = L.popup({&quot;maxWidth&quot;: &quot;100%&quot;});\n",
       "\n",
       "        \n",
       "            \n",
       "                var html_e153df1d5a17e3ebcd687b5025317c86 = $(`&lt;div id=&quot;html_e153df1d5a17e3ebcd687b5025317c86&quot; style=&quot;width: 100.0%; height: 100.0%;&quot;&gt;Cluster: 3&lt;br&gt;Location: &lt;br&gt;Earthquake Count: 48&lt;/div&gt;`)[0];\n",
       "                popup_8b01ea4eeb22fe665ca12196c6a79545.setContent(html_e153df1d5a17e3ebcd687b5025317c86);\n",
       "            \n",
       "        \n",
       "\n",
       "        circle_marker_60f118a0388fbb242a040da9af15963c.bindPopup(popup_8b01ea4eeb22fe665ca12196c6a79545)\n",
       "        ;\n",
       "\n",
       "        \n",
       "    \n",
       "    \n",
       "            var circle_marker_db629bfd08b3920eb7ca38aa79648881 = L.circleMarker(\n",
       "                [-2.42, 139.93],\n",
       "                {&quot;bubblingMouseEvents&quot;: true, &quot;color&quot;: &quot;orange&quot;, &quot;dashArray&quot;: null, &quot;dashOffset&quot;: null, &quot;fill&quot;: true, &quot;fillColor&quot;: &quot;orange&quot;, &quot;fillOpacity&quot;: 0.6, &quot;fillRule&quot;: &quot;evenodd&quot;, &quot;lineCap&quot;: &quot;round&quot;, &quot;lineJoin&quot;: &quot;round&quot;, &quot;opacity&quot;: 1.0, &quot;radius&quot;: 3, &quot;stroke&quot;: true, &quot;weight&quot;: 3}\n",
       "            ).addTo(map_ce6e40cb36c7a487e68d8e24467c3faa);\n",
       "        \n",
       "    \n",
       "        var popup_f37dc12450ccdb49e9c8454bcb80a0da = L.popup({&quot;maxWidth&quot;: &quot;100%&quot;});\n",
       "\n",
       "        \n",
       "            \n",
       "                var html_a34f503a81b0aacd54ba7c1792566805 = $(`&lt;div id=&quot;html_a34f503a81b0aacd54ba7c1792566805&quot; style=&quot;width: 100.0%; height: 100.0%;&quot;&gt;Cluster: 3&lt;br&gt;Location: &lt;br&gt;Earthquake Count: 1615&lt;/div&gt;`)[0];\n",
       "                popup_f37dc12450ccdb49e9c8454bcb80a0da.setContent(html_a34f503a81b0aacd54ba7c1792566805);\n",
       "            \n",
       "        \n",
       "\n",
       "        circle_marker_db629bfd08b3920eb7ca38aa79648881.bindPopup(popup_f37dc12450ccdb49e9c8454bcb80a0da)\n",
       "        ;\n",
       "\n",
       "        \n",
       "    \n",
       "    \n",
       "            var circle_marker_93cc4793c1428c55a4db34f031520a50 = L.circleMarker(\n",
       "                [-8.56, 141.82],\n",
       "                {&quot;bubblingMouseEvents&quot;: true, &quot;color&quot;: &quot;orange&quot;, &quot;dashArray&quot;: null, &quot;dashOffset&quot;: null, &quot;fill&quot;: true, &quot;fillColor&quot;: &quot;orange&quot;, &quot;fillOpacity&quot;: 0.6, &quot;fillRule&quot;: &quot;evenodd&quot;, &quot;lineCap&quot;: &quot;round&quot;, &quot;lineJoin&quot;: &quot;round&quot;, &quot;opacity&quot;: 1.0, &quot;radius&quot;: 3, &quot;stroke&quot;: true, &quot;weight&quot;: 3}\n",
       "            ).addTo(map_ce6e40cb36c7a487e68d8e24467c3faa);\n",
       "        \n",
       "    \n",
       "        var popup_a713f7ac1e5eb7de62173bfd82a79262 = L.popup({&quot;maxWidth&quot;: &quot;100%&quot;});\n",
       "\n",
       "        \n",
       "            \n",
       "                var html_acb0e1457e7feba082dee8a0ee9e33ec = $(`&lt;div id=&quot;html_acb0e1457e7feba082dee8a0ee9e33ec&quot; style=&quot;width: 100.0%; height: 100.0%;&quot;&gt;Cluster: 3&lt;br&gt;Location: &lt;br&gt;Earthquake Count: 1&lt;/div&gt;`)[0];\n",
       "                popup_a713f7ac1e5eb7de62173bfd82a79262.setContent(html_acb0e1457e7feba082dee8a0ee9e33ec);\n",
       "            \n",
       "        \n",
       "\n",
       "        circle_marker_93cc4793c1428c55a4db34f031520a50.bindPopup(popup_a713f7ac1e5eb7de62173bfd82a79262)\n",
       "        ;\n",
       "\n",
       "        \n",
       "    \n",
       "    \n",
       "            var circle_marker_4916413beb07cbc6e7563b6bd90f2d77 = L.circleMarker(\n",
       "                [-8.63, 138.42],\n",
       "                {&quot;bubblingMouseEvents&quot;: true, &quot;color&quot;: &quot;orange&quot;, &quot;dashArray&quot;: null, &quot;dashOffset&quot;: null, &quot;fill&quot;: true, &quot;fillColor&quot;: &quot;orange&quot;, &quot;fillOpacity&quot;: 0.6, &quot;fillRule&quot;: &quot;evenodd&quot;, &quot;lineCap&quot;: &quot;round&quot;, &quot;lineJoin&quot;: &quot;round&quot;, &quot;opacity&quot;: 1.0, &quot;radius&quot;: 3, &quot;stroke&quot;: true, &quot;weight&quot;: 3}\n",
       "            ).addTo(map_ce6e40cb36c7a487e68d8e24467c3faa);\n",
       "        \n",
       "    \n",
       "        var popup_98e1ffa80a021ccbcacb220c45a442cc = L.popup({&quot;maxWidth&quot;: &quot;100%&quot;});\n",
       "\n",
       "        \n",
       "            \n",
       "                var html_ffd0d81dd23acd2f7ac3c6937bcbeae0 = $(`&lt;div id=&quot;html_ffd0d81dd23acd2f7ac3c6937bcbeae0&quot; style=&quot;width: 100.0%; height: 100.0%;&quot;&gt;Cluster: 3&lt;br&gt;Location: &lt;br&gt;Earthquake Count: 3&lt;/div&gt;`)[0];\n",
       "                popup_98e1ffa80a021ccbcacb220c45a442cc.setContent(html_ffd0d81dd23acd2f7ac3c6937bcbeae0);\n",
       "            \n",
       "        \n",
       "\n",
       "        circle_marker_4916413beb07cbc6e7563b6bd90f2d77.bindPopup(popup_98e1ffa80a021ccbcacb220c45a442cc)\n",
       "        ;\n",
       "\n",
       "        \n",
       "    \n",
       "    \n",
       "            var circle_marker_f44cd922e8885532c36a5d0cdbf97b4a = L.circleMarker(\n",
       "                [-3.82, 141.42],\n",
       "                {&quot;bubblingMouseEvents&quot;: true, &quot;color&quot;: &quot;orange&quot;, &quot;dashArray&quot;: null, &quot;dashOffset&quot;: null, &quot;fill&quot;: true, &quot;fillColor&quot;: &quot;orange&quot;, &quot;fillOpacity&quot;: 0.6, &quot;fillRule&quot;: &quot;evenodd&quot;, &quot;lineCap&quot;: &quot;round&quot;, &quot;lineJoin&quot;: &quot;round&quot;, &quot;opacity&quot;: 1.0, &quot;radius&quot;: 3, &quot;stroke&quot;: true, &quot;weight&quot;: 3}\n",
       "            ).addTo(map_ce6e40cb36c7a487e68d8e24467c3faa);\n",
       "        \n",
       "    \n",
       "        var popup_27ca07098172269136c96784788d9da6 = L.popup({&quot;maxWidth&quot;: &quot;100%&quot;});\n",
       "\n",
       "        \n",
       "            \n",
       "                var html_6907af0c11d8ca9df4814fcf0e34a02c = $(`&lt;div id=&quot;html_6907af0c11d8ca9df4814fcf0e34a02c&quot; style=&quot;width: 100.0%; height: 100.0%;&quot;&gt;Cluster: 3&lt;br&gt;Location: &lt;br&gt;Earthquake Count: 93&lt;/div&gt;`)[0];\n",
       "                popup_27ca07098172269136c96784788d9da6.setContent(html_6907af0c11d8ca9df4814fcf0e34a02c);\n",
       "            \n",
       "        \n",
       "\n",
       "        circle_marker_f44cd922e8885532c36a5d0cdbf97b4a.bindPopup(popup_27ca07098172269136c96784788d9da6)\n",
       "        ;\n",
       "\n",
       "        \n",
       "    \n",
       "    \n",
       "            var circle_marker_380edbaf0ff7ebd050977fa292ba7364 = L.circleMarker(\n",
       "                [-3.37, 128.79],\n",
       "                {&quot;bubblingMouseEvents&quot;: true, &quot;color&quot;: &quot;orange&quot;, &quot;dashArray&quot;: null, &quot;dashOffset&quot;: null, &quot;fill&quot;: true, &quot;fillColor&quot;: &quot;orange&quot;, &quot;fillOpacity&quot;: 0.6, &quot;fillRule&quot;: &quot;evenodd&quot;, &quot;lineCap&quot;: &quot;round&quot;, &quot;lineJoin&quot;: &quot;round&quot;, &quot;opacity&quot;: 1.0, &quot;radius&quot;: 3, &quot;stroke&quot;: true, &quot;weight&quot;: 3}\n",
       "            ).addTo(map_ce6e40cb36c7a487e68d8e24467c3faa);\n",
       "        \n",
       "    \n",
       "        var popup_b729a5e6002f2f501e800096068724aa = L.popup({&quot;maxWidth&quot;: &quot;100%&quot;});\n",
       "\n",
       "        \n",
       "            \n",
       "                var html_341c63770188e420131170d722f8195e = $(`&lt;div id=&quot;html_341c63770188e420131170d722f8195e&quot; style=&quot;width: 100.0%; height: 100.0%;&quot;&gt;Cluster: 3&lt;br&gt;Location: Seram - Indonesia&lt;br&gt;Earthquake Count: 3793&lt;/div&gt;`)[0];\n",
       "                popup_b729a5e6002f2f501e800096068724aa.setContent(html_341c63770188e420131170d722f8195e);\n",
       "            \n",
       "        \n",
       "\n",
       "        circle_marker_380edbaf0ff7ebd050977fa292ba7364.bindPopup(popup_b729a5e6002f2f501e800096068724aa)\n",
       "        ;\n",
       "\n",
       "        \n",
       "    \n",
       "    \n",
       "            var circle_marker_3918146c16e0f6eb1e9f7b8f1a52fdec = L.circleMarker(\n",
       "                [-1.32, 126.54],\n",
       "                {&quot;bubblingMouseEvents&quot;: true, &quot;color&quot;: &quot;orange&quot;, &quot;dashArray&quot;: null, &quot;dashOffset&quot;: null, &quot;fill&quot;: true, &quot;fillColor&quot;: &quot;orange&quot;, &quot;fillOpacity&quot;: 0.6, &quot;fillRule&quot;: &quot;evenodd&quot;, &quot;lineCap&quot;: &quot;round&quot;, &quot;lineJoin&quot;: &quot;round&quot;, &quot;opacity&quot;: 1.0, &quot;radius&quot;: 3, &quot;stroke&quot;: true, &quot;weight&quot;: 3}\n",
       "            ).addTo(map_ce6e40cb36c7a487e68d8e24467c3faa);\n",
       "        \n",
       "    \n",
       "        var popup_d5d6f7328eb0de36ac0e567fbda80db2 = L.popup({&quot;maxWidth&quot;: &quot;100%&quot;});\n",
       "\n",
       "        \n",
       "            \n",
       "                var html_f645e0a04d21a5d452e36e3fc1520694 = $(`&lt;div id=&quot;html_f645e0a04d21a5d452e36e3fc1520694&quot; style=&quot;width: 100.0%; height: 100.0%;&quot;&gt;Cluster: 3&lt;br&gt;Location: &lt;br&gt;Earthquake Count: 121&lt;/div&gt;`)[0];\n",
       "                popup_d5d6f7328eb0de36ac0e567fbda80db2.setContent(html_f645e0a04d21a5d452e36e3fc1520694);\n",
       "            \n",
       "        \n",
       "\n",
       "        circle_marker_3918146c16e0f6eb1e9f7b8f1a52fdec.bindPopup(popup_d5d6f7328eb0de36ac0e567fbda80db2)\n",
       "        ;\n",
       "\n",
       "        \n",
       "    \n",
       "    \n",
       "            var circle_marker_6a5b2abf9d0d3fb9ad168a18b768e214 = L.circleMarker(\n",
       "                [-2.57, 120.56],\n",
       "                {&quot;bubblingMouseEvents&quot;: true, &quot;color&quot;: &quot;orange&quot;, &quot;dashArray&quot;: null, &quot;dashOffset&quot;: null, &quot;fill&quot;: true, &quot;fillColor&quot;: &quot;orange&quot;, &quot;fillOpacity&quot;: 0.6, &quot;fillRule&quot;: &quot;evenodd&quot;, &quot;lineCap&quot;: &quot;round&quot;, &quot;lineJoin&quot;: &quot;round&quot;, &quot;opacity&quot;: 1.0, &quot;radius&quot;: 3, &quot;stroke&quot;: true, &quot;weight&quot;: 3}\n",
       "            ).addTo(map_ce6e40cb36c7a487e68d8e24467c3faa);\n",
       "        \n",
       "    \n",
       "        var popup_b0d1c8521829eea7f5deebe54e5ae732 = L.popup({&quot;maxWidth&quot;: &quot;100%&quot;});\n",
       "\n",
       "        \n",
       "            \n",
       "                var html_08df39240275422a80703e391f88c4b3 = $(`&lt;div id=&quot;html_08df39240275422a80703e391f88c4b3&quot; style=&quot;width: 100.0%; height: 100.0%;&quot;&gt;Cluster: 3&lt;br&gt;Location: Sulawesi - Indonesia&lt;br&gt;Earthquake Count: 4839&lt;/div&gt;`)[0];\n",
       "                popup_b0d1c8521829eea7f5deebe54e5ae732.setContent(html_08df39240275422a80703e391f88c4b3);\n",
       "            \n",
       "        \n",
       "\n",
       "        circle_marker_6a5b2abf9d0d3fb9ad168a18b768e214.bindPopup(popup_b0d1c8521829eea7f5deebe54e5ae732)\n",
       "        ;\n",
       "\n",
       "        \n",
       "    \n",
       "    \n",
       "            var circle_marker_13252ceeab8b7d3807183d05e2be68ec = L.circleMarker(\n",
       "                [-6.8, 131.26],\n",
       "                {&quot;bubblingMouseEvents&quot;: true, &quot;color&quot;: &quot;orange&quot;, &quot;dashArray&quot;: null, &quot;dashOffset&quot;: null, &quot;fill&quot;: true, &quot;fillColor&quot;: &quot;orange&quot;, &quot;fillOpacity&quot;: 0.6, &quot;fillRule&quot;: &quot;evenodd&quot;, &quot;lineCap&quot;: &quot;round&quot;, &quot;lineJoin&quot;: &quot;round&quot;, &quot;opacity&quot;: 1.0, &quot;radius&quot;: 3, &quot;stroke&quot;: true, &quot;weight&quot;: 3}\n",
       "            ).addTo(map_ce6e40cb36c7a487e68d8e24467c3faa);\n",
       "        \n",
       "    \n",
       "        var popup_363ff158b88d018dffe93f527bd71548 = L.popup({&quot;maxWidth&quot;: &quot;100%&quot;});\n",
       "\n",
       "        \n",
       "            \n",
       "                var html_85bf1fdbed0dbd2157ab1151b288e5f7 = $(`&lt;div id=&quot;html_85bf1fdbed0dbd2157ab1151b288e5f7&quot; style=&quot;width: 100.0%; height: 100.0%;&quot;&gt;Cluster: 3&lt;br&gt;Location: &lt;br&gt;Earthquake Count: 209&lt;/div&gt;`)[0];\n",
       "                popup_363ff158b88d018dffe93f527bd71548.setContent(html_85bf1fdbed0dbd2157ab1151b288e5f7);\n",
       "            \n",
       "        \n",
       "\n",
       "        circle_marker_13252ceeab8b7d3807183d05e2be68ec.bindPopup(popup_363ff158b88d018dffe93f527bd71548)\n",
       "        ;\n",
       "\n",
       "        \n",
       "    \n",
       "    \n",
       "            var circle_marker_5e4d1f8421277017e74affa0cb4132a8 = L.circleMarker(\n",
       "                [-8.46, 134.8],\n",
       "                {&quot;bubblingMouseEvents&quot;: true, &quot;color&quot;: &quot;purple&quot;, &quot;dashArray&quot;: null, &quot;dashOffset&quot;: null, &quot;fill&quot;: true, &quot;fillColor&quot;: &quot;purple&quot;, &quot;fillOpacity&quot;: 0.6, &quot;fillRule&quot;: &quot;evenodd&quot;, &quot;lineCap&quot;: &quot;round&quot;, &quot;lineJoin&quot;: &quot;round&quot;, &quot;opacity&quot;: 1.0, &quot;radius&quot;: 3, &quot;stroke&quot;: true, &quot;weight&quot;: 3}\n",
       "            ).addTo(map_ce6e40cb36c7a487e68d8e24467c3faa);\n",
       "        \n",
       "    \n",
       "        var popup_97ca7521a17dad535799a5dcd0f26834 = L.popup({&quot;maxWidth&quot;: &quot;100%&quot;});\n",
       "\n",
       "        \n",
       "            \n",
       "                var html_a07129eb9425c6b64606620ecc83e66f = $(`&lt;div id=&quot;html_a07129eb9425c6b64606620ecc83e66f&quot; style=&quot;width: 100.0%; height: 100.0%;&quot;&gt;Cluster: 4&lt;br&gt;Location: &lt;br&gt;Earthquake Count: 5&lt;/div&gt;`)[0];\n",
       "                popup_97ca7521a17dad535799a5dcd0f26834.setContent(html_a07129eb9425c6b64606620ecc83e66f);\n",
       "            \n",
       "        \n",
       "\n",
       "        circle_marker_5e4d1f8421277017e74affa0cb4132a8.bindPopup(popup_97ca7521a17dad535799a5dcd0f26834)\n",
       "        ;\n",
       "\n",
       "        \n",
       "    \n",
       "    \n",
       "            var circle_marker_bb320593cb15c0f4bb27efce3f52027d = L.circleMarker(\n",
       "                [-8.3, 115.46],\n",
       "                {&quot;bubblingMouseEvents&quot;: true, &quot;color&quot;: &quot;purple&quot;, &quot;dashArray&quot;: null, &quot;dashOffset&quot;: null, &quot;fill&quot;: true, &quot;fillColor&quot;: &quot;purple&quot;, &quot;fillOpacity&quot;: 0.6, &quot;fillRule&quot;: &quot;evenodd&quot;, &quot;lineCap&quot;: &quot;round&quot;, &quot;lineJoin&quot;: &quot;round&quot;, &quot;opacity&quot;: 1.0, &quot;radius&quot;: 3, &quot;stroke&quot;: true, &quot;weight&quot;: 3}\n",
       "            ).addTo(map_ce6e40cb36c7a487e68d8e24467c3faa);\n",
       "        \n",
       "    \n",
       "        var popup_7556dc21776e65d96ef0e9deb7a3df77 = L.popup({&quot;maxWidth&quot;: &quot;100%&quot;});\n",
       "\n",
       "        \n",
       "            \n",
       "                var html_555e2db07f39fad0c2ac5a5c42e61eb2 = $(`&lt;div id=&quot;html_555e2db07f39fad0c2ac5a5c42e61eb2&quot; style=&quot;width: 100.0%; height: 100.0%;&quot;&gt;Cluster: 4&lt;br&gt;Location: &lt;br&gt;Earthquake Count: 1254&lt;/div&gt;`)[0];\n",
       "                popup_7556dc21776e65d96ef0e9deb7a3df77.setContent(html_555e2db07f39fad0c2ac5a5c42e61eb2);\n",
       "            \n",
       "        \n",
       "\n",
       "        circle_marker_bb320593cb15c0f4bb27efce3f52027d.bindPopup(popup_7556dc21776e65d96ef0e9deb7a3df77)\n",
       "        ;\n",
       "\n",
       "        \n",
       "    \n",
       "    \n",
       "            var circle_marker_7a38cf7d0ced0750e751f3909daa3fd3 = L.circleMarker(\n",
       "                [-7.87, 117.29],\n",
       "                {&quot;bubblingMouseEvents&quot;: true, &quot;color&quot;: &quot;purple&quot;, &quot;dashArray&quot;: null, &quot;dashOffset&quot;: null, &quot;fill&quot;: true, &quot;fillColor&quot;: &quot;purple&quot;, &quot;fillOpacity&quot;: 0.6, &quot;fillRule&quot;: &quot;evenodd&quot;, &quot;lineCap&quot;: &quot;round&quot;, &quot;lineJoin&quot;: &quot;round&quot;, &quot;opacity&quot;: 1.0, &quot;radius&quot;: 3, &quot;stroke&quot;: true, &quot;weight&quot;: 3}\n",
       "            ).addTo(map_ce6e40cb36c7a487e68d8e24467c3faa);\n",
       "        \n",
       "    \n",
       "        var popup_3fb34d0b67eace28987fabe94ccc02a8 = L.popup({&quot;maxWidth&quot;: &quot;100%&quot;});\n",
       "\n",
       "        \n",
       "            \n",
       "                var html_b2414eea3fa2d6188fd7f378dec9c8ef = $(`&lt;div id=&quot;html_b2414eea3fa2d6188fd7f378dec9c8ef&quot; style=&quot;width: 100.0%; height: 100.0%;&quot;&gt;Cluster: 4&lt;br&gt;Location: &lt;br&gt;Earthquake Count: 536&lt;/div&gt;`)[0];\n",
       "                popup_3fb34d0b67eace28987fabe94ccc02a8.setContent(html_b2414eea3fa2d6188fd7f378dec9c8ef);\n",
       "            \n",
       "        \n",
       "\n",
       "        circle_marker_7a38cf7d0ced0750e751f3909daa3fd3.bindPopup(popup_3fb34d0b67eace28987fabe94ccc02a8)\n",
       "        ;\n",
       "\n",
       "        \n",
       "    \n",
       "    \n",
       "            var circle_marker_32e64ff7efd10d74f426e7687518dd04 = L.circleMarker(\n",
       "                [-7.48, 127.99],\n",
       "                {&quot;bubblingMouseEvents&quot;: true, &quot;color&quot;: &quot;purple&quot;, &quot;dashArray&quot;: null, &quot;dashOffset&quot;: null, &quot;fill&quot;: true, &quot;fillColor&quot;: &quot;purple&quot;, &quot;fillOpacity&quot;: 0.6, &quot;fillRule&quot;: &quot;evenodd&quot;, &quot;lineCap&quot;: &quot;round&quot;, &quot;lineJoin&quot;: &quot;round&quot;, &quot;opacity&quot;: 1.0, &quot;radius&quot;: 3, &quot;stroke&quot;: true, &quot;weight&quot;: 3}\n",
       "            ).addTo(map_ce6e40cb36c7a487e68d8e24467c3faa);\n",
       "        \n",
       "    \n",
       "        var popup_7b0b3c7d46ffcc83920456d0a74af8b5 = L.popup({&quot;maxWidth&quot;: &quot;100%&quot;});\n",
       "\n",
       "        \n",
       "            \n",
       "                var html_f704c6047efa6521b7bf7903062448e5 = $(`&lt;div id=&quot;html_f704c6047efa6521b7bf7903062448e5&quot; style=&quot;width: 100.0%; height: 100.0%;&quot;&gt;Cluster: 4&lt;br&gt;Location: &lt;br&gt;Earthquake Count: 1429&lt;/div&gt;`)[0];\n",
       "                popup_7b0b3c7d46ffcc83920456d0a74af8b5.setContent(html_f704c6047efa6521b7bf7903062448e5);\n",
       "            \n",
       "        \n",
       "\n",
       "        circle_marker_32e64ff7efd10d74f426e7687518dd04.bindPopup(popup_7b0b3c7d46ffcc83920456d0a74af8b5)\n",
       "        ;\n",
       "\n",
       "        \n",
       "    \n",
       "    \n",
       "            var circle_marker_8ba57bbf9229a0c0e511738dccb9f74b = L.circleMarker(\n",
       "                [-8.32, 120.67],\n",
       "                {&quot;bubblingMouseEvents&quot;: true, &quot;color&quot;: &quot;purple&quot;, &quot;dashArray&quot;: null, &quot;dashOffset&quot;: null, &quot;fill&quot;: true, &quot;fillColor&quot;: &quot;purple&quot;, &quot;fillOpacity&quot;: 0.6, &quot;fillRule&quot;: &quot;evenodd&quot;, &quot;lineCap&quot;: &quot;round&quot;, &quot;lineJoin&quot;: &quot;round&quot;, &quot;opacity&quot;: 1.0, &quot;radius&quot;: 3, &quot;stroke&quot;: true, &quot;weight&quot;: 3}\n",
       "            ).addTo(map_ce6e40cb36c7a487e68d8e24467c3faa);\n",
       "        \n",
       "    \n",
       "        var popup_e021963b3a02b0a51004dbde5dfb66c8 = L.popup({&quot;maxWidth&quot;: &quot;100%&quot;});\n",
       "\n",
       "        \n",
       "            \n",
       "                var html_b46a4fe26faf70643dd73cc29d9c37d8 = $(`&lt;div id=&quot;html_b46a4fe26faf70643dd73cc29d9c37d8&quot; style=&quot;width: 100.0%; height: 100.0%;&quot;&gt;Cluster: 4&lt;br&gt;Location: Flores Region - Indonesia&lt;br&gt;Earthquake Count: 1979&lt;/div&gt;`)[0];\n",
       "                popup_e021963b3a02b0a51004dbde5dfb66c8.setContent(html_b46a4fe26faf70643dd73cc29d9c37d8);\n",
       "            \n",
       "        \n",
       "\n",
       "        circle_marker_8ba57bbf9229a0c0e511738dccb9f74b.bindPopup(popup_e021963b3a02b0a51004dbde5dfb66c8)\n",
       "        ;\n",
       "\n",
       "        \n",
       "    \n",
       "    \n",
       "            var circle_marker_8a71aaf7e717281495f5fa4fda8dc8bb = L.circleMarker(\n",
       "                [-7.69, 120.68],\n",
       "                {&quot;bubblingMouseEvents&quot;: true, &quot;color&quot;: &quot;purple&quot;, &quot;dashArray&quot;: null, &quot;dashOffset&quot;: null, &quot;fill&quot;: true, &quot;fillColor&quot;: &quot;purple&quot;, &quot;fillOpacity&quot;: 0.6, &quot;fillRule&quot;: &quot;evenodd&quot;, &quot;lineCap&quot;: &quot;round&quot;, &quot;lineJoin&quot;: &quot;round&quot;, &quot;opacity&quot;: 1.0, &quot;radius&quot;: 3, &quot;stroke&quot;: true, &quot;weight&quot;: 3}\n",
       "            ).addTo(map_ce6e40cb36c7a487e68d8e24467c3faa);\n",
       "        \n",
       "    \n",
       "        var popup_02b56ad49f7f8a013ae5e23a119c59db = L.popup({&quot;maxWidth&quot;: &quot;100%&quot;});\n",
       "\n",
       "        \n",
       "            \n",
       "                var html_068d6e1cb65a1d4064273a11434bd809 = $(`&lt;div id=&quot;html_068d6e1cb65a1d4064273a11434bd809&quot; style=&quot;width: 100.0%; height: 100.0%;&quot;&gt;Cluster: 4&lt;br&gt;Location: &lt;br&gt;Earthquake Count: 1708&lt;/div&gt;`)[0];\n",
       "                popup_02b56ad49f7f8a013ae5e23a119c59db.setContent(html_068d6e1cb65a1d4064273a11434bd809);\n",
       "            \n",
       "        \n",
       "\n",
       "        circle_marker_8a71aaf7e717281495f5fa4fda8dc8bb.bindPopup(popup_02b56ad49f7f8a013ae5e23a119c59db)\n",
       "        ;\n",
       "\n",
       "        \n",
       "    \n",
       "    \n",
       "            var circle_marker_567dc24bf43a4aacd5fea764568836ad = L.circleMarker(\n",
       "                [-8.665, 113.13],\n",
       "                {&quot;bubblingMouseEvents&quot;: true, &quot;color&quot;: &quot;purple&quot;, &quot;dashArray&quot;: null, &quot;dashOffset&quot;: null, &quot;fill&quot;: true, &quot;fillColor&quot;: &quot;purple&quot;, &quot;fillOpacity&quot;: 0.6, &quot;fillRule&quot;: &quot;evenodd&quot;, &quot;lineCap&quot;: &quot;round&quot;, &quot;lineJoin&quot;: &quot;round&quot;, &quot;opacity&quot;: 1.0, &quot;radius&quot;: 3, &quot;stroke&quot;: true, &quot;weight&quot;: 3}\n",
       "            ).addTo(map_ce6e40cb36c7a487e68d8e24467c3faa);\n",
       "        \n",
       "    \n",
       "        var popup_161a086c26cfbaaf78c09620289d36e0 = L.popup({&quot;maxWidth&quot;: &quot;100%&quot;});\n",
       "\n",
       "        \n",
       "            \n",
       "                var html_bec046d639666b70e2ab23078af2854b = $(`&lt;div id=&quot;html_bec046d639666b70e2ab23078af2854b&quot; style=&quot;width: 100.0%; height: 100.0%;&quot;&gt;Cluster: 4&lt;br&gt;Location: &lt;br&gt;Earthquake Count: 164&lt;/div&gt;`)[0];\n",
       "                popup_161a086c26cfbaaf78c09620289d36e0.setContent(html_bec046d639666b70e2ab23078af2854b);\n",
       "            \n",
       "        \n",
       "\n",
       "        circle_marker_567dc24bf43a4aacd5fea764568836ad.bindPopup(popup_161a086c26cfbaaf78c09620289d36e0)\n",
       "        ;\n",
       "\n",
       "        \n",
       "    \n",
       "    \n",
       "            var circle_marker_9ab11371816c8862981046fcd91981a1 = L.circleMarker(\n",
       "                [-4.805, 117.94],\n",
       "                {&quot;bubblingMouseEvents&quot;: true, &quot;color&quot;: &quot;purple&quot;, &quot;dashArray&quot;: null, &quot;dashOffset&quot;: null, &quot;fill&quot;: true, &quot;fillColor&quot;: &quot;purple&quot;, &quot;fillOpacity&quot;: 0.6, &quot;fillRule&quot;: &quot;evenodd&quot;, &quot;lineCap&quot;: &quot;round&quot;, &quot;lineJoin&quot;: &quot;round&quot;, &quot;opacity&quot;: 1.0, &quot;radius&quot;: 3, &quot;stroke&quot;: true, &quot;weight&quot;: 3}\n",
       "            ).addTo(map_ce6e40cb36c7a487e68d8e24467c3faa);\n",
       "        \n",
       "    \n",
       "        var popup_72dd4f1e2793f659629ba215b407e753 = L.popup({&quot;maxWidth&quot;: &quot;100%&quot;});\n",
       "\n",
       "        \n",
       "            \n",
       "                var html_4e06856835960c7a85ca7a4301dd5799 = $(`&lt;div id=&quot;html_4e06856835960c7a85ca7a4301dd5799&quot; style=&quot;width: 100.0%; height: 100.0%;&quot;&gt;Cluster: 4&lt;br&gt;Location: &lt;br&gt;Earthquake Count: 2&lt;/div&gt;`)[0];\n",
       "                popup_72dd4f1e2793f659629ba215b407e753.setContent(html_4e06856835960c7a85ca7a4301dd5799);\n",
       "            \n",
       "        \n",
       "\n",
       "        circle_marker_9ab11371816c8862981046fcd91981a1.bindPopup(popup_72dd4f1e2793f659629ba215b407e753)\n",
       "        ;\n",
       "\n",
       "        \n",
       "    \n",
       "    \n",
       "            var circle_marker_ebbb1d347c89dc6e490f697c1496fd21 = L.circleMarker(\n",
       "                [-9.53, 121.88],\n",
       "                {&quot;bubblingMouseEvents&quot;: true, &quot;color&quot;: &quot;purple&quot;, &quot;dashArray&quot;: null, &quot;dashOffset&quot;: null, &quot;fill&quot;: true, &quot;fillColor&quot;: &quot;purple&quot;, &quot;fillOpacity&quot;: 0.6, &quot;fillRule&quot;: &quot;evenodd&quot;, &quot;lineCap&quot;: &quot;round&quot;, &quot;lineJoin&quot;: &quot;round&quot;, &quot;opacity&quot;: 1.0, &quot;radius&quot;: 3, &quot;stroke&quot;: true, &quot;weight&quot;: 3}\n",
       "            ).addTo(map_ce6e40cb36c7a487e68d8e24467c3faa);\n",
       "        \n",
       "    \n",
       "        var popup_e761188c3fba4606480448c517981f1a = L.popup({&quot;maxWidth&quot;: &quot;100%&quot;});\n",
       "\n",
       "        \n",
       "            \n",
       "                var html_8723ec2d892ebf50866a0afcf3e136e0 = $(`&lt;div id=&quot;html_8723ec2d892ebf50866a0afcf3e136e0&quot; style=&quot;width: 100.0%; height: 100.0%;&quot;&gt;Cluster: 4&lt;br&gt;Location: &lt;br&gt;Earthquake Count: 289&lt;/div&gt;`)[0];\n",
       "                popup_e761188c3fba4606480448c517981f1a.setContent(html_8723ec2d892ebf50866a0afcf3e136e0);\n",
       "            \n",
       "        \n",
       "\n",
       "        circle_marker_ebbb1d347c89dc6e490f697c1496fd21.bindPopup(popup_e761188c3fba4606480448c517981f1a)\n",
       "        ;\n",
       "\n",
       "        \n",
       "    \n",
       "    \n",
       "            var circle_marker_4f8f09d310e2eb3b5265af264f09c5f7 = L.circleMarker(\n",
       "                [-9.45, 115.04],\n",
       "                {&quot;bubblingMouseEvents&quot;: true, &quot;color&quot;: &quot;purple&quot;, &quot;dashArray&quot;: null, &quot;dashOffset&quot;: null, &quot;fill&quot;: true, &quot;fillColor&quot;: &quot;purple&quot;, &quot;fillOpacity&quot;: 0.6, &quot;fillRule&quot;: &quot;evenodd&quot;, &quot;lineCap&quot;: &quot;round&quot;, &quot;lineJoin&quot;: &quot;round&quot;, &quot;opacity&quot;: 1.0, &quot;radius&quot;: 3, &quot;stroke&quot;: true, &quot;weight&quot;: 3}\n",
       "            ).addTo(map_ce6e40cb36c7a487e68d8e24467c3faa);\n",
       "        \n",
       "    \n",
       "        var popup_cc95f81ce01318a138a8121285b8a3d6 = L.popup({&quot;maxWidth&quot;: &quot;100%&quot;});\n",
       "\n",
       "        \n",
       "            \n",
       "                var html_e60754d67043e90b23790389a160c8f8 = $(`&lt;div id=&quot;html_e60754d67043e90b23790389a160c8f8&quot; style=&quot;width: 100.0%; height: 100.0%;&quot;&gt;Cluster: 4&lt;br&gt;Location: &lt;br&gt;Earthquake Count: 705&lt;/div&gt;`)[0];\n",
       "                popup_cc95f81ce01318a138a8121285b8a3d6.setContent(html_e60754d67043e90b23790389a160c8f8);\n",
       "            \n",
       "        \n",
       "\n",
       "        circle_marker_4f8f09d310e2eb3b5265af264f09c5f7.bindPopup(popup_cc95f81ce01318a138a8121285b8a3d6)\n",
       "        ;\n",
       "\n",
       "        \n",
       "    \n",
       "    \n",
       "            var circle_marker_fda0a06c0446c310d87843ca4ae34e2f = L.circleMarker(\n",
       "                [-9.53, 113.06],\n",
       "                {&quot;bubblingMouseEvents&quot;: true, &quot;color&quot;: &quot;purple&quot;, &quot;dashArray&quot;: null, &quot;dashOffset&quot;: null, &quot;fill&quot;: true, &quot;fillColor&quot;: &quot;purple&quot;, &quot;fillOpacity&quot;: 0.6, &quot;fillRule&quot;: &quot;evenodd&quot;, &quot;lineCap&quot;: &quot;round&quot;, &quot;lineJoin&quot;: &quot;round&quot;, &quot;opacity&quot;: 1.0, &quot;radius&quot;: 3, &quot;stroke&quot;: true, &quot;weight&quot;: 3}\n",
       "            ).addTo(map_ce6e40cb36c7a487e68d8e24467c3faa);\n",
       "        \n",
       "    \n",
       "        var popup_0f911655c86f37930416df978f09aa96 = L.popup({&quot;maxWidth&quot;: &quot;100%&quot;});\n",
       "\n",
       "        \n",
       "            \n",
       "                var html_f28aebad9122c47fd9d8b1699440982c = $(`&lt;div id=&quot;html_f28aebad9122c47fd9d8b1699440982c&quot; style=&quot;width: 100.0%; height: 100.0%;&quot;&gt;Cluster: 4&lt;br&gt;Location: &lt;br&gt;Earthquake Count: 784&lt;/div&gt;`)[0];\n",
       "                popup_0f911655c86f37930416df978f09aa96.setContent(html_f28aebad9122c47fd9d8b1699440982c);\n",
       "            \n",
       "        \n",
       "\n",
       "        circle_marker_fda0a06c0446c310d87843ca4ae34e2f.bindPopup(popup_0f911655c86f37930416df978f09aa96)\n",
       "        ;\n",
       "\n",
       "        \n",
       "    \n",
       "    \n",
       "            var circle_marker_6722bbca1d57ebd517421cd0b7bb2ece = L.circleMarker(\n",
       "                [-10.26, 118.71],\n",
       "                {&quot;bubblingMouseEvents&quot;: true, &quot;color&quot;: &quot;purple&quot;, &quot;dashArray&quot;: null, &quot;dashOffset&quot;: null, &quot;fill&quot;: true, &quot;fillColor&quot;: &quot;purple&quot;, &quot;fillOpacity&quot;: 0.6, &quot;fillRule&quot;: &quot;evenodd&quot;, &quot;lineCap&quot;: &quot;round&quot;, &quot;lineJoin&quot;: &quot;round&quot;, &quot;opacity&quot;: 1.0, &quot;radius&quot;: 3, &quot;stroke&quot;: true, &quot;weight&quot;: 3}\n",
       "            ).addTo(map_ce6e40cb36c7a487e68d8e24467c3faa);\n",
       "        \n",
       "    \n",
       "        var popup_3c638da011aff886a3f5d77a2c8c785c = L.popup({&quot;maxWidth&quot;: &quot;100%&quot;});\n",
       "\n",
       "        \n",
       "            \n",
       "                var html_af478a6fa8524674961319bc360d3355 = $(`&lt;div id=&quot;html_af478a6fa8524674961319bc360d3355&quot; style=&quot;width: 100.0%; height: 100.0%;&quot;&gt;Cluster: 4&lt;br&gt;Location: &lt;br&gt;Earthquake Count: 317&lt;/div&gt;`)[0];\n",
       "                popup_3c638da011aff886a3f5d77a2c8c785c.setContent(html_af478a6fa8524674961319bc360d3355);\n",
       "            \n",
       "        \n",
       "\n",
       "        circle_marker_6722bbca1d57ebd517421cd0b7bb2ece.bindPopup(popup_3c638da011aff886a3f5d77a2c8c785c)\n",
       "        ;\n",
       "\n",
       "        \n",
       "    \n",
       "    \n",
       "            var circle_marker_6e89b96969f578322e2f3379d8a9deda = L.circleMarker(\n",
       "                [-5.59, 120.6],\n",
       "                {&quot;bubblingMouseEvents&quot;: true, &quot;color&quot;: &quot;purple&quot;, &quot;dashArray&quot;: null, &quot;dashOffset&quot;: null, &quot;fill&quot;: true, &quot;fillColor&quot;: &quot;purple&quot;, &quot;fillOpacity&quot;: 0.6, &quot;fillRule&quot;: &quot;evenodd&quot;, &quot;lineCap&quot;: &quot;round&quot;, &quot;lineJoin&quot;: &quot;round&quot;, &quot;opacity&quot;: 1.0, &quot;radius&quot;: 3, &quot;stroke&quot;: true, &quot;weight&quot;: 3}\n",
       "            ).addTo(map_ce6e40cb36c7a487e68d8e24467c3faa);\n",
       "        \n",
       "    \n",
       "        var popup_873c8244fae31a01b025e2306882180c = L.popup({&quot;maxWidth&quot;: &quot;100%&quot;});\n",
       "\n",
       "        \n",
       "            \n",
       "                var html_6ff36bf504a42bb2be69c861648e35d8 = $(`&lt;div id=&quot;html_6ff36bf504a42bb2be69c861648e35d8&quot; style=&quot;width: 100.0%; height: 100.0%;&quot;&gt;Cluster: 4&lt;br&gt;Location: &lt;br&gt;Earthquake Count: 173&lt;/div&gt;`)[0];\n",
       "                popup_873c8244fae31a01b025e2306882180c.setContent(html_6ff36bf504a42bb2be69c861648e35d8);\n",
       "            \n",
       "        \n",
       "\n",
       "        circle_marker_6e89b96969f578322e2f3379d8a9deda.bindPopup(popup_873c8244fae31a01b025e2306882180c)\n",
       "        ;\n",
       "\n",
       "        \n",
       "    \n",
       "    \n",
       "            var circle_marker_cf9c00cdcef57610d29d4e6dbbba0fa6 = L.circleMarker(\n",
       "                [-9.76, 119.39],\n",
       "                {&quot;bubblingMouseEvents&quot;: true, &quot;color&quot;: &quot;purple&quot;, &quot;dashArray&quot;: null, &quot;dashOffset&quot;: null, &quot;fill&quot;: true, &quot;fillColor&quot;: &quot;purple&quot;, &quot;fillOpacity&quot;: 0.6, &quot;fillRule&quot;: &quot;evenodd&quot;, &quot;lineCap&quot;: &quot;round&quot;, &quot;lineJoin&quot;: &quot;round&quot;, &quot;opacity&quot;: 1.0, &quot;radius&quot;: 3, &quot;stroke&quot;: true, &quot;weight&quot;: 3}\n",
       "            ).addTo(map_ce6e40cb36c7a487e68d8e24467c3faa);\n",
       "        \n",
       "    \n",
       "        var popup_d8ff3c3542964d69ce4356305f4a9762 = L.popup({&quot;maxWidth&quot;: &quot;100%&quot;});\n",
       "\n",
       "        \n",
       "            \n",
       "                var html_1c89b035fa26bd3476ffbde409b9ec67 = $(`&lt;div id=&quot;html_1c89b035fa26bd3476ffbde409b9ec67&quot; style=&quot;width: 100.0%; height: 100.0%;&quot;&gt;Cluster: 4&lt;br&gt;Location: &lt;br&gt;Earthquake Count: 1611&lt;/div&gt;`)[0];\n",
       "                popup_d8ff3c3542964d69ce4356305f4a9762.setContent(html_1c89b035fa26bd3476ffbde409b9ec67);\n",
       "            \n",
       "        \n",
       "\n",
       "        circle_marker_cf9c00cdcef57610d29d4e6dbbba0fa6.bindPopup(popup_d8ff3c3542964d69ce4356305f4a9762)\n",
       "        ;\n",
       "\n",
       "        \n",
       "    \n",
       "    \n",
       "            var circle_marker_78a08229b704a562b48cc3967d27a09a = L.circleMarker(\n",
       "                [-8.58, 116.88],\n",
       "                {&quot;bubblingMouseEvents&quot;: true, &quot;color&quot;: &quot;purple&quot;, &quot;dashArray&quot;: null, &quot;dashOffset&quot;: null, &quot;fill&quot;: true, &quot;fillColor&quot;: &quot;purple&quot;, &quot;fillOpacity&quot;: 0.6, &quot;fillRule&quot;: &quot;evenodd&quot;, &quot;lineCap&quot;: &quot;round&quot;, &quot;lineJoin&quot;: &quot;round&quot;, &quot;opacity&quot;: 1.0, &quot;radius&quot;: 3, &quot;stroke&quot;: true, &quot;weight&quot;: 3}\n",
       "            ).addTo(map_ce6e40cb36c7a487e68d8e24467c3faa);\n",
       "        \n",
       "    \n",
       "        var popup_44104d0ef2c859021a3d7581eac1d59b = L.popup({&quot;maxWidth&quot;: &quot;100%&quot;});\n",
       "\n",
       "        \n",
       "            \n",
       "                var html_72704595c12dd0771f884631a25c4690 = $(`&lt;div id=&quot;html_72704595c12dd0771f884631a25c4690&quot; style=&quot;width: 100.0%; height: 100.0%;&quot;&gt;Cluster: 4&lt;br&gt;Location: Sumbawa Region - Indonesia&lt;br&gt;Earthquake Count: 6704&lt;/div&gt;`)[0];\n",
       "                popup_44104d0ef2c859021a3d7581eac1d59b.setContent(html_72704595c12dd0771f884631a25c4690);\n",
       "            \n",
       "        \n",
       "\n",
       "        circle_marker_78a08229b704a562b48cc3967d27a09a.bindPopup(popup_44104d0ef2c859021a3d7581eac1d59b)\n",
       "        ;\n",
       "\n",
       "        \n",
       "    \n",
       "    \n",
       "            var circle_marker_f9c4413d4fc14543c431b2f82dc2d24d = L.circleMarker(\n",
       "                [-7.65, 130.425],\n",
       "                {&quot;bubblingMouseEvents&quot;: true, &quot;color&quot;: &quot;purple&quot;, &quot;dashArray&quot;: null, &quot;dashOffset&quot;: null, &quot;fill&quot;: true, &quot;fillColor&quot;: &quot;purple&quot;, &quot;fillOpacity&quot;: 0.6, &quot;fillRule&quot;: &quot;evenodd&quot;, &quot;lineCap&quot;: &quot;round&quot;, &quot;lineJoin&quot;: &quot;round&quot;, &quot;opacity&quot;: 1.0, &quot;radius&quot;: 3, &quot;stroke&quot;: true, &quot;weight&quot;: 3}\n",
       "            ).addTo(map_ce6e40cb36c7a487e68d8e24467c3faa);\n",
       "        \n",
       "    \n",
       "        var popup_4c80f73603e7d8b77f6393d8ef8154cd = L.popup({&quot;maxWidth&quot;: &quot;100%&quot;});\n",
       "\n",
       "        \n",
       "            \n",
       "                var html_40d0bb5effce1e060ff25d523550a552 = $(`&lt;div id=&quot;html_40d0bb5effce1e060ff25d523550a552&quot; style=&quot;width: 100.0%; height: 100.0%;&quot;&gt;Cluster: 4&lt;br&gt;Location: &lt;br&gt;Earthquake Count: 50&lt;/div&gt;`)[0];\n",
       "                popup_4c80f73603e7d8b77f6393d8ef8154cd.setContent(html_40d0bb5effce1e060ff25d523550a552);\n",
       "            \n",
       "        \n",
       "\n",
       "        circle_marker_f9c4413d4fc14543c431b2f82dc2d24d.bindPopup(popup_4c80f73603e7d8b77f6393d8ef8154cd)\n",
       "        ;\n",
       "\n",
       "        \n",
       "    \n",
       "    \n",
       "            var circle_marker_cd0c4dbe62f4174df88bb2eaa6d4eb7c = L.circleMarker(\n",
       "                [-9.23, 124.17],\n",
       "                {&quot;bubblingMouseEvents&quot;: true, &quot;color&quot;: &quot;purple&quot;, &quot;dashArray&quot;: null, &quot;dashOffset&quot;: null, &quot;fill&quot;: true, &quot;fillColor&quot;: &quot;purple&quot;, &quot;fillOpacity&quot;: 0.6, &quot;fillRule&quot;: &quot;evenodd&quot;, &quot;lineCap&quot;: &quot;round&quot;, &quot;lineJoin&quot;: &quot;round&quot;, &quot;opacity&quot;: 1.0, &quot;radius&quot;: 3, &quot;stroke&quot;: true, &quot;weight&quot;: 3}\n",
       "            ).addTo(map_ce6e40cb36c7a487e68d8e24467c3faa);\n",
       "        \n",
       "    \n",
       "        var popup_1ca33a4532a684bf4bf2f2c39d7571c3 = L.popup({&quot;maxWidth&quot;: &quot;100%&quot;});\n",
       "\n",
       "        \n",
       "            \n",
       "                var html_0593c0c10eb496b93f4dca5b89d5abe0 = $(`&lt;div id=&quot;html_0593c0c10eb496b93f4dca5b89d5abe0&quot; style=&quot;width: 100.0%; height: 100.0%;&quot;&gt;Cluster: 4&lt;br&gt;Location: &lt;br&gt;Earthquake Count: 1772&lt;/div&gt;`)[0];\n",
       "                popup_1ca33a4532a684bf4bf2f2c39d7571c3.setContent(html_0593c0c10eb496b93f4dca5b89d5abe0);\n",
       "            \n",
       "        \n",
       "\n",
       "        circle_marker_cd0c4dbe62f4174df88bb2eaa6d4eb7c.bindPopup(popup_1ca33a4532a684bf4bf2f2c39d7571c3)\n",
       "        ;\n",
       "\n",
       "        \n",
       "    \n",
       "    \n",
       "            var circle_marker_1755edbe7917665b7da3add61b94e7a6 = L.circleMarker(\n",
       "                [-8.55, 128.44],\n",
       "                {&quot;bubblingMouseEvents&quot;: true, &quot;color&quot;: &quot;purple&quot;, &quot;dashArray&quot;: null, &quot;dashOffset&quot;: null, &quot;fill&quot;: true, &quot;fillColor&quot;: &quot;purple&quot;, &quot;fillOpacity&quot;: 0.6, &quot;fillRule&quot;: &quot;evenodd&quot;, &quot;lineCap&quot;: &quot;round&quot;, &quot;lineJoin&quot;: &quot;round&quot;, &quot;opacity&quot;: 1.0, &quot;radius&quot;: 3, &quot;stroke&quot;: true, &quot;weight&quot;: 3}\n",
       "            ).addTo(map_ce6e40cb36c7a487e68d8e24467c3faa);\n",
       "        \n",
       "    \n",
       "        var popup_2f882c96acb35f2bf2cd300b2e36dc4b = L.popup({&quot;maxWidth&quot;: &quot;100%&quot;});\n",
       "\n",
       "        \n",
       "            \n",
       "                var html_4379c22a35c55af8f45da1c37eeaf6be = $(`&lt;div id=&quot;html_4379c22a35c55af8f45da1c37eeaf6be&quot; style=&quot;width: 100.0%; height: 100.0%;&quot;&gt;Cluster: 4&lt;br&gt;Location: &lt;br&gt;Earthquake Count: 63&lt;/div&gt;`)[0];\n",
       "                popup_2f882c96acb35f2bf2cd300b2e36dc4b.setContent(html_4379c22a35c55af8f45da1c37eeaf6be);\n",
       "            \n",
       "        \n",
       "\n",
       "        circle_marker_1755edbe7917665b7da3add61b94e7a6.bindPopup(popup_2f882c96acb35f2bf2cd300b2e36dc4b)\n",
       "        ;\n",
       "\n",
       "        \n",
       "    \n",
       "&lt;/script&gt;\n",
       "&lt;/html&gt;\" style=\"position:absolute;width:100%;height:100%;left:0;top:0;border:none !important;\" allowfullscreen webkitallowfullscreen mozallowfullscreen></iframe></div></div>"
      ],
      "text/plain": [
       "<folium.folium.Map at 0x1ec5d2d1fd0>"
      ]
     },
     "execution_count": 12,
     "metadata": {},
     "output_type": "execute_result"
    }
   ],
   "source": [
    "# Preprocessing data\n",
    "data_preprocessed = data[['lat', 'lon', 'depth', 'mag', 'remark']].copy()\n",
    "data_preprocessed\n",
    "\n",
    "# Scaling data\n",
    "scaler = MinMaxScaler()\n",
    "data_scaled = scaler.fit_transform(data_preprocessed[['lat', 'lon', 'depth', 'mag']])\n",
    "\n",
    "# FPCM clustering\n",
    "fcm = FCM(n_clusters=5, m=2, max_iter=100)\n",
    "fcm.fit(data_scaled)\n",
    "cluster_labels = fcm.predict(data_scaled)\n",
    "\n",
    "# Add cluster labels to the preprocessed data\n",
    "data_preprocessed['cluster'] = cluster_labels\n",
    "\n",
    "# Group data by location and calculate median latitude and longitude for each cluster\n",
    "df_location = data_preprocessed.groupby(['cluster', 'remark'])[['lat', 'lon']].median().reset_index().rename(columns={'lat':'median_latitude', 'lon':'median_longitude'})\n",
    "\n",
    "# Group data by location and count the number of earthquakes for each cluster\n",
    "df_location_count = data_preprocessed.groupby(['cluster', 'remark']).size().reset_index(name='count')\n",
    "\n",
    "# Merge location data and earthquake count data\n",
    "df_location_count = pd.merge(df_location, df_location_count, how='inner', on=['cluster', 'remark'])\n",
    "\n",
    "# Remove label of locations that have a count of earthquakes less than the 80th percentile for simpler visualization\n",
    "df_location_count.loc[df_location_count['count'] < df_location_count['count'].quantile(0.8), 'remark'] = ''\n",
    "\n",
    "# Create a map centered on Indonesia\n",
    "map_center = [-2.5, 118]\n",
    "m = folium.Map(location=map_center, zoom_start=5)\n",
    "\n",
    "# Define colors for each cluster\n",
    "cluster_colors = ['blue', 'red', 'green', 'orange', 'purple']\n",
    "\n",
    "# Add markers to the map for each cluster\n",
    "for index, row in df_location_count.iterrows():\n",
    "    lat, lon, count, remark, cluster = row['median_latitude'], row['median_longitude'], row['count'], row['remark'], row['cluster']\n",
    "    folium.CircleMarker(\n",
    "        location=[lat, lon],\n",
    "        radius=3,\n",
    "        color=cluster_colors[cluster],\n",
    "        fill=True,\n",
    "        fill_color=cluster_colors[cluster],\n",
    "        fill_opacity=0.6,\n",
    "        popup=f\"Cluster: {cluster}<br>Location: {remark}<br>Earthquake Count: {count}\"\n",
    "    ).add_to(m)\n",
    "\n",
    "# Display the map\n",
    "m"
   ]
  },
  {
   "cell_type": "code",
   "execution_count": null,
   "id": "4040e25e",
   "metadata": {},
   "outputs": [],
   "source": []
  }
 ],
 "metadata": {
  "kernelspec": {
   "display_name": "Python 3 (ipykernel)",
   "language": "python",
   "name": "python3"
  },
  "language_info": {
   "codemirror_mode": {
    "name": "ipython",
    "version": 3
   },
   "file_extension": ".py",
   "mimetype": "text/x-python",
   "name": "python",
   "nbconvert_exporter": "python",
   "pygments_lexer": "ipython3",
   "version": "3.9.7"
  }
 },
 "nbformat": 4,
 "nbformat_minor": 5
}
