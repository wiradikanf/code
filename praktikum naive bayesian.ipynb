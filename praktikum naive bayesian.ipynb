{
 "cells": [
  {
   "cell_type": "code",
   "execution_count": null,
   "id": "99648154",
   "metadata": {},
   "outputs": [],
   "source": []
  },
  {
   "cell_type": "code",
   "execution_count": 1,
   "id": "2cfed693",
   "metadata": {},
   "outputs": [
    {
     "data": {
      "text/html": [
       "<div>\n",
       "<style scoped>\n",
       "    .dataframe tbody tr th:only-of-type {\n",
       "        vertical-align: middle;\n",
       "    }\n",
       "\n",
       "    .dataframe tbody tr th {\n",
       "        vertical-align: top;\n",
       "    }\n",
       "\n",
       "    .dataframe thead th {\n",
       "        text-align: right;\n",
       "    }\n",
       "</style>\n",
       "<table border=\"1\" class=\"dataframe\">\n",
       "  <thead>\n",
       "    <tr style=\"text-align: right;\">\n",
       "      <th></th>\n",
       "      <th>pH</th>\n",
       "      <th>Temprature</th>\n",
       "      <th>Taste</th>\n",
       "      <th>Odor</th>\n",
       "      <th>Fat</th>\n",
       "      <th>Turbidity</th>\n",
       "      <th>Colour</th>\n",
       "      <th>Grade</th>\n",
       "    </tr>\n",
       "  </thead>\n",
       "  <tbody>\n",
       "    <tr>\n",
       "      <th>0</th>\n",
       "      <td>6.6</td>\n",
       "      <td>35</td>\n",
       "      <td>1</td>\n",
       "      <td>0</td>\n",
       "      <td>1</td>\n",
       "      <td>0</td>\n",
       "      <td>254</td>\n",
       "      <td>high</td>\n",
       "    </tr>\n",
       "    <tr>\n",
       "      <th>1</th>\n",
       "      <td>6.6</td>\n",
       "      <td>36</td>\n",
       "      <td>0</td>\n",
       "      <td>1</td>\n",
       "      <td>0</td>\n",
       "      <td>1</td>\n",
       "      <td>253</td>\n",
       "      <td>high</td>\n",
       "    </tr>\n",
       "    <tr>\n",
       "      <th>2</th>\n",
       "      <td>8.5</td>\n",
       "      <td>70</td>\n",
       "      <td>1</td>\n",
       "      <td>1</td>\n",
       "      <td>1</td>\n",
       "      <td>1</td>\n",
       "      <td>246</td>\n",
       "      <td>low</td>\n",
       "    </tr>\n",
       "    <tr>\n",
       "      <th>3</th>\n",
       "      <td>9.5</td>\n",
       "      <td>34</td>\n",
       "      <td>1</td>\n",
       "      <td>1</td>\n",
       "      <td>0</td>\n",
       "      <td>1</td>\n",
       "      <td>255</td>\n",
       "      <td>low</td>\n",
       "    </tr>\n",
       "    <tr>\n",
       "      <th>4</th>\n",
       "      <td>6.6</td>\n",
       "      <td>37</td>\n",
       "      <td>0</td>\n",
       "      <td>0</td>\n",
       "      <td>0</td>\n",
       "      <td>0</td>\n",
       "      <td>255</td>\n",
       "      <td>medium</td>\n",
       "    </tr>\n",
       "    <tr>\n",
       "      <th>...</th>\n",
       "      <td>...</td>\n",
       "      <td>...</td>\n",
       "      <td>...</td>\n",
       "      <td>...</td>\n",
       "      <td>...</td>\n",
       "      <td>...</td>\n",
       "      <td>...</td>\n",
       "      <td>...</td>\n",
       "    </tr>\n",
       "    <tr>\n",
       "      <th>1054</th>\n",
       "      <td>6.7</td>\n",
       "      <td>45</td>\n",
       "      <td>1</td>\n",
       "      <td>1</td>\n",
       "      <td>0</td>\n",
       "      <td>0</td>\n",
       "      <td>247</td>\n",
       "      <td>medium</td>\n",
       "    </tr>\n",
       "    <tr>\n",
       "      <th>1055</th>\n",
       "      <td>6.7</td>\n",
       "      <td>38</td>\n",
       "      <td>1</td>\n",
       "      <td>0</td>\n",
       "      <td>1</td>\n",
       "      <td>0</td>\n",
       "      <td>255</td>\n",
       "      <td>high</td>\n",
       "    </tr>\n",
       "    <tr>\n",
       "      <th>1056</th>\n",
       "      <td>3.0</td>\n",
       "      <td>40</td>\n",
       "      <td>1</td>\n",
       "      <td>1</td>\n",
       "      <td>1</td>\n",
       "      <td>1</td>\n",
       "      <td>255</td>\n",
       "      <td>low</td>\n",
       "    </tr>\n",
       "    <tr>\n",
       "      <th>1057</th>\n",
       "      <td>6.8</td>\n",
       "      <td>43</td>\n",
       "      <td>1</td>\n",
       "      <td>0</td>\n",
       "      <td>1</td>\n",
       "      <td>0</td>\n",
       "      <td>250</td>\n",
       "      <td>high</td>\n",
       "    </tr>\n",
       "    <tr>\n",
       "      <th>1058</th>\n",
       "      <td>8.6</td>\n",
       "      <td>55</td>\n",
       "      <td>0</td>\n",
       "      <td>1</td>\n",
       "      <td>1</td>\n",
       "      <td>1</td>\n",
       "      <td>255</td>\n",
       "      <td>low</td>\n",
       "    </tr>\n",
       "  </tbody>\n",
       "</table>\n",
       "<p>1059 rows × 8 columns</p>\n",
       "</div>"
      ],
      "text/plain": [
       "       pH  Temprature  Taste  Odor  Fat   Turbidity  Colour   Grade\n",
       "0     6.6          35      1     0     1          0     254    high\n",
       "1     6.6          36      0     1     0          1     253    high\n",
       "2     8.5          70      1     1     1          1     246     low\n",
       "3     9.5          34      1     1     0          1     255     low\n",
       "4     6.6          37      0     0     0          0     255  medium\n",
       "...   ...         ...    ...   ...   ...        ...     ...     ...\n",
       "1054  6.7          45      1     1     0          0     247  medium\n",
       "1055  6.7          38      1     0     1          0     255    high\n",
       "1056  3.0          40      1     1     1          1     255     low\n",
       "1057  6.8          43      1     0     1          0     250    high\n",
       "1058  8.6          55      0     1     1          1     255     low\n",
       "\n",
       "[1059 rows x 8 columns]"
      ]
     },
     "execution_count": 1,
     "metadata": {},
     "output_type": "execute_result"
    }
   ],
   "source": [
    "import pandas as pd\n",
    "import numpy as np\n",
    "\n",
    "dataset = pd.read_csv (\"C:/Users/ASUS/Documents/SEMESTER 3/machine learning/Data/milk.csv\")\n",
    "dataset"
   ]
  },
  {
   "cell_type": "markdown",
   "id": "0dda3fe6",
   "metadata": {},
   "source": [
    "### VALIDATION MODEL"
   ]
  },
  {
   "cell_type": "code",
   "execution_count": 2,
   "id": "357e94d9",
   "metadata": {},
   "outputs": [],
   "source": [
    "from sklearn.model_selection import train_test_split\n",
    "\n",
    "datalabel = dataset.loc[:,['Grade']]\n",
    "x_train, x_test, y_train, y_test = train_test_split(dataset, datalabel, test_size = 0.3, random_state = 100)"
   ]
  },
  {
   "cell_type": "markdown",
   "id": "07d17dba",
   "metadata": {},
   "source": [
    "### NAIVE BAYES GAUSSIANNB"
   ]
  },
  {
   "cell_type": "code",
   "execution_count": 3,
   "id": "4aa34b1f",
   "metadata": {},
   "outputs": [],
   "source": [
    "train_data = np.array(x_train)[:,0:-1]\n",
    "train_label =  np.array(x_train)[:,-1]\n",
    "test_data = np.array(x_test)[:,0:-1]\n",
    "test_label = np.array(x_test)[:,-1]"
   ]
  },
  {
   "cell_type": "code",
   "execution_count": 4,
   "id": "91e62837",
   "metadata": {},
   "outputs": [],
   "source": [
    "from sklearn.naive_bayes import GaussianNB\n",
    "\n",
    "classifier = GaussianNB()\n",
    "classifier.fit(train_data, train_label)\n",
    "\n",
    "ypred = classifier.predict(test_data)"
   ]
  },
  {
   "cell_type": "markdown",
   "id": "c4e1b81f",
   "metadata": {},
   "source": [
    "### hitung akurasi"
   ]
  },
  {
   "cell_type": "code",
   "execution_count": 5,
   "id": "ac556498",
   "metadata": {},
   "outputs": [
    {
     "data": {
      "text/plain": [
       "0.9182389937106918"
      ]
     },
     "execution_count": 5,
     "metadata": {},
     "output_type": "execute_result"
    }
   ],
   "source": [
    "from sklearn.metrics import accuracy_score\n",
    "\n",
    "ac = accuracy_score(y_test, ypred)\n",
    "ac"
   ]
  },
  {
   "cell_type": "markdown",
   "id": "8fcad95b",
   "metadata": {},
   "source": [
    "### normalisasi pada data training dan data test"
   ]
  },
  {
   "cell_type": "code",
   "execution_count": 10,
   "id": "c9358092",
   "metadata": {},
   "outputs": [
    {
     "name": "stdout",
     "output_type": "stream",
     "text": [
      "Train Data :  [[0.026666666666666665 0.1568627450980392 0.00392156862745098 ...\n",
      "  0.00392156862745098 0.0 0.9607843137254902]\n",
      " [0.01843137254901961 0.14901960784313725 0.00392156862745098 ...\n",
      "  0.00392156862745098 0.0 1.0]\n",
      " [0.02588235294117647 0.16862745098039217 0.0 ... 0.00392156862745098 0.0\n",
      "  0.9803921568627451]\n",
      " ...\n",
      " [0.025490196078431372 0.14901960784313725 0.00392156862745098 ... 0.0\n",
      "  0.0 1.0]\n",
      " [0.026666666666666665 0.13333333333333333 0.0 ... 0.0\n",
      "  0.00392156862745098 0.9411764705882353]\n",
      " [0.011764705882352941 0.1568627450980392 0.00392156862745098 ...\n",
      "  0.00392156862745098 0.00392156862745098 1.0]]\n"
     ]
    }
   ],
   "source": [
    "newmin = 0\n",
    "newmax = 1\n",
    "mindata = train_data.min()\n",
    "maxdata = train_data.max()\n",
    "\n",
    "traindata_normalisasi = ((train_data-mindata)*(newmax-newmin)/(maxdata-mindata)) + newmin\n",
    "print('Train Data : ', traindata_normalisasi)"
   ]
  },
  {
   "cell_type": "code",
   "execution_count": 12,
   "id": "9944a35e",
   "metadata": {},
   "outputs": [
    {
     "data": {
      "text/plain": [
       "array([[0.02588235294117647, 0.17647058823529413, 0.0, ..., 0.0,\n",
       "        0.00392156862745098, 0.9803921568627451],\n",
       "       [0.021960784313725487, 0.19607843137254902, 0.0, ...,\n",
       "        0.00392156862745098, 0.00392156862745098, 1.0],\n",
       "       [0.026666666666666665, 0.17647058823529413, 0.0, ...,\n",
       "        0.00392156862745098, 0.00392156862745098, 1.0],\n",
       "       ...,\n",
       "       [0.026666666666666665, 0.17647058823529413, 0.0, ..., 0.0,\n",
       "        0.00392156862745098, 1.0],\n",
       "       [0.03529411764705882, 0.16862745098039217, 0.00392156862745098,\n",
       "        ..., 0.00392156862745098, 0.00392156862745098,\n",
       "        0.9803921568627451],\n",
       "       [0.03176470588235294, 0.25882352941176473, 0.00392156862745098,\n",
       "        ..., 0.00392156862745098, 0.00392156862745098, 1.0]], dtype=object)"
      ]
     },
     "execution_count": 12,
     "metadata": {},
     "output_type": "execute_result"
    }
   ],
   "source": [
    "testdata_normalisasi = ((test_data-mindata)*(newmax-newmin)/(maxdata-mindata)) + newmin\n",
    "testdata_normalisasi"
   ]
  },
  {
   "cell_type": "code",
   "execution_count": 13,
   "id": "452bdb90",
   "metadata": {},
   "outputs": [],
   "source": [
    "from sklearn.naive_bayes import GaussianNB\n",
    "\n",
    "classifier = GaussianNB()\n",
    "classifier.fit(traindata_normalisasi, train_label)\n",
    "\n",
    "y_pred_normalisasi = classifier.predict(testdata)"
   ]
  },
  {
   "cell_type": "markdown",
   "id": "dbd46fa5",
   "metadata": {},
   "source": [
    "### PERBANDINGAN"
   ]
  },
  {
   "cell_type": "code",
   "execution_count": 14,
   "id": "bd857ac0",
   "metadata": {},
   "outputs": [],
   "source": [
    "ac = accuracy_score(y_test, ypred)\n",
    "ac_normalisasi = accuracy_score(y_test, y_pred_normalisasi)"
   ]
  },
  {
   "cell_type": "code",
   "execution_count": 15,
   "id": "dd0d4232",
   "metadata": {},
   "outputs": [
    {
     "name": "stdout",
     "output_type": "stream",
     "text": [
      "akurasi data yang belum dinormalisasi : 0.9182389937106918\n",
      "akurasi data yang sudah dinormalisasi : 0.9182389937106918\n"
     ]
    }
   ],
   "source": [
    "print(\"akurasi data yang belum dinormalisasi :\", ac)\n",
    "print(\"akurasi data yang sudah dinormalisasi :\", ac_normalisasi)"
   ]
  },
  {
   "cell_type": "code",
   "execution_count": null,
   "id": "e39357b8",
   "metadata": {},
   "outputs": [],
   "source": []
  },
  {
   "cell_type": "markdown",
   "id": "a84def13",
   "metadata": {},
   "source": [
    "### KFOLD"
   ]
  },
  {
   "cell_type": "code",
   "execution_count": 17,
   "id": "dd1651ee",
   "metadata": {},
   "outputs": [
    {
     "data": {
      "text/plain": [
       "[0.7641509433962265,\n",
       " 0.9056603773584906,\n",
       " 0.9245283018867925,\n",
       " 0.9150943396226415,\n",
       " 0.9056603773584906,\n",
       " 0.9716981132075472,\n",
       " 0.9056603773584906,\n",
       " 0.9622641509433962,\n",
       " 0.9716981132075472,\n",
       " 0.9619047619047619]"
      ]
     },
     "execution_count": 17,
     "metadata": {},
     "output_type": "execute_result"
    }
   ],
   "source": [
    "from sklearn.model_selection import KFold\n",
    "import pandas as pd\n",
    "data = pd.read_csv(\"C:/Users/ASUS/Documents/SEMESTER 3/machine learning/Data/milk.csv\")\n",
    "kf = KFold(n_splits=10, random_state=0, shuffle=True)\n",
    "p = 0\n",
    "akurasi = []\n",
    "\n",
    "for train_index, test_index in kf.split(data):\n",
    "    p=p+1\n",
    "    xtrain = dataset.loc[train_index]\n",
    "    xtest = dataset.loc[test_index]\n",
    "    ytrain = xtrain.loc[:,['Grade']]\n",
    "    ytest = xtest.loc[:,['Grade']]\n",
    "    train_label = np.array(xtrain)[:,-1]\n",
    "    train_data = np.array(xtrain)[:,0:-1]\n",
    "    test_data = np.array(xtest)[:,0:-1]\n",
    "    classifier.fit(train_data, train_label)\n",
    "    ypred = classifier.predict(test_data)\n",
    "    \n",
    "    ac_sementara = accuracy_score(ytest,ypred)\n",
    "    akurasi.append(ac_sementara)\n",
    "akurasi"
   ]
  },
  {
   "cell_type": "code",
   "execution_count": null,
   "id": "937ee3a1",
   "metadata": {},
   "outputs": [],
   "source": []
  }
 ],
 "metadata": {
  "kernelspec": {
   "display_name": "Python 3 (ipykernel)",
   "language": "python",
   "name": "python3"
  },
  "language_info": {
   "codemirror_mode": {
    "name": "ipython",
    "version": 3
   },
   "file_extension": ".py",
   "mimetype": "text/x-python",
   "name": "python",
   "nbconvert_exporter": "python",
   "pygments_lexer": "ipython3",
   "version": "3.9.7"
  }
 },
 "nbformat": 4,
 "nbformat_minor": 5
}
